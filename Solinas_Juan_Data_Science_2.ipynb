{
  "cells": [
    {
      "cell_type": "markdown",
      "metadata": {
        "id": "view-in-github",
        "colab_type": "text"
      },
      "source": [
        "<a href=\"https://colab.research.google.com/github/JuanSol26/Coderhouse-Solinas/blob/main/Solinas_Juan_Data_Science_2.ipynb\" target=\"_parent\"><img src=\"https://colab.research.google.com/assets/colab-badge.svg\" alt=\"Open In Colab\"/></a>"
      ]
    },
    {
      "cell_type": "markdown",
      "metadata": {
        "id": "QTpx7uKX0rTg"
      },
      "source": [
        "#**Analisis de un Call Center de ventas**\n",
        "\n",
        "**Por Juan Solinas**"
      ]
    },
    {
      "cell_type": "markdown",
      "metadata": {
        "id": "lKLdzeRJ0064"
      },
      "source": [
        "#**Motivación y audiencia**\n"
      ]
    },
    {
      "cell_type": "markdown",
      "metadata": {
        "id": "FWlNJf-SwWX2"
      },
      "source": [
        "En el siguiente notebook se hará una revisión de diferentes bases de datos correspondientes a un call center que se dedica a la venta de seguros. El objetivo es diagramar un modelo de negocios que pueda precisar a los diferentes tipos de cliente que contratan las diversas polizas, para aumentar el caudal de ventas a traves de la personalización de los ofrecimientos.\n",
        "\n",
        "Además, se intentará analizar los diferentes equipos de ventas con el objetivo de definir posibilidades de mejora para aumentar la capacidad comercial del negocio.\n",
        "\n",
        "Este trabajo podría ser de interés para negocios dedicados a la venta de seguros, dado que a través de este notebook se podrían vislumbrar datos que relevantes para este tipo de modelo comercial."
      ]
    },
    {
      "cell_type": "markdown",
      "metadata": {
        "id": "Hn_hcWiL1IRh"
      },
      "source": [
        "#**Hipotesis**"
      ]
    },
    {
      "cell_type": "markdown",
      "metadata": {
        "id": "ovlbbuU3wU5m"
      },
      "source": [
        "La hipótesis central de este notebook sera que los clientes de mayores ingresos tienden a contratar en mayor medida los seguros de mayor valor.\n",
        "\n",
        "De esta hipótesis, se deriva el objetivo de este notebook, que sería encontrar los tipos de seguros que se podrían ofrecer a los clientes según la cantidad de ingresos que detenten. Esto posibilitaría lograr una mayor efectividad a la hora de realizar las ventas, lo que podría implicar un aumento de las ganancias."
      ]
    },
    {
      "cell_type": "markdown",
      "metadata": {
        "id": "cvsbI--91c1v"
      },
      "source": [
        "#**Glosario de variables del DataFrame y los modelos**"
      ]
    },
    {
      "cell_type": "markdown",
      "metadata": {
        "id": "UubszqU1zk7u"
      },
      "source": [
        "**Dataframe Equipos** (10 columnas, 60 filas)"
      ]
    },
    {
      "cell_type": "markdown",
      "metadata": {
        "id": "5UkT6Wxvzi7-"
      },
      "source": [
        "**Variables originales del DataFrame Equipos**\n",
        "\n",
        "\n",
        "\n",
        "**ID**: Columna de identificación de los vendedores, INT.\n",
        "\n",
        "**Nombre**: Columna de nombre de los vendedores, String.\n",
        "\n",
        "**Apellido**: Columna de apellido de los vendedores, String.\n",
        "\n",
        "**DNI**: Columna de documento de identidad de los vendedores, INT.\n",
        "\n",
        "**Equipo**: Nombre del equipo al que pertenecen los vendedores, String.\n",
        "\n",
        "**AVG ventas de seguro de vida**: Promedio de venta de seguros de vida de los vendedores, INT.\n",
        "\n",
        "**AVG ventas de seguro de accidentes**: Promedio de venta de seguros de accidentes de los vendedores, INT.\n",
        "\n",
        "**AVG ventas de seguro de hogar**: Promedio de venta de seguros de hogar de los vendedores, INT.\n",
        "\n",
        "**AVG ventas de seguro de robo**: Promedio de venta de seguros de robo de los vendedores, INT.\n",
        "\n",
        "**AVG ventas de seguro de desempleo**: Promedio de venta de seguros de desempleo de los vendedores, INT.\n"
      ]
    },
    {
      "cell_type": "markdown",
      "metadata": {
        "id": "ERHmGU-Dz46E"
      },
      "source": [
        "**Variables agregadas y funciones creadas para el DataFrame Equipos**\n",
        "\n",
        "**nac**: Función creada para corregir la redacción de la nacionalidad de los vendedores.\n",
        "\n",
        "**eq**: Función creada para corregir la redacción del nombre de los equipos de los vendedores.\n",
        "\n",
        "**duplicados**: DataFrame creado para filtrar los apellidos duplicados, con el objetivo de revisar si correspondía eliminarlos.\n",
        "\n",
        "\n",
        "\n",
        "---\n",
        "\n"
      ]
    },
    {
      "cell_type": "markdown",
      "metadata": {
        "id": "5EfpnwZr0vHo"
      },
      "source": [
        "**Dataframe Polizas de 2024** (10 columnas, 9369 filas)"
      ]
    },
    {
      "cell_type": "markdown",
      "metadata": {
        "id": "Dg5AIrjo07ul"
      },
      "source": [
        "**Variables originales del DataFrame de Polizas de 2024**\n",
        "\n",
        "**Poliza**: Variable de identificación de la poliza, String.\n",
        "\n",
        "**Seguro**: Variable con el código de identificación de la poliza (Que se puede verificar el código en el DataFrame precios). INT.\n",
        "\n",
        "**Género**: Variable con el género de los clientes que contrataron la poliza en 2024, String.\n",
        "\n",
        "**Edad**: Variable con la edad de los clientes que contrataron la poliza en 2024, INT.\n",
        "\n",
        "**Ingresos**: Variable con los ingresos de los lcientes que contrataron la poliza en 2024, INT.\n",
        "\n",
        "**Activo**: Variable que determina si los clientes continuan teniendo la poliza o no, String."
      ]
    },
    {
      "cell_type": "markdown",
      "metadata": {
        "id": "L71GKYEF1sPk"
      },
      "source": [
        "**Variables agregadas y funciones creadas para el DataFrame Polizas de 2024**\n",
        "\n",
        "\n",
        "**Franja etaria**: Variable para categorizar las tres franjas etarias de los\n",
        "clientes.\n",
        "\n",
        "\n",
        "**Categoría**: Variable para categorizar el ingreso de los clientes.\n",
        "\n",
        "\n",
        "**Categoría del seguro**: Variable para categorizar el tipo de seguro.\n",
        "\n",
        "\n",
        "**Cat_Seg_num**: Variable creada para codificar con un número el tipo de seguro.\n",
        "\n",
        "\n",
        "**etar**: Función creada para categorizar la franja etaria.\n",
        "\n",
        "-los clientes con menos de 30 años serían clientes jovenes.\n",
        "\n",
        "-los clientes con entre 30 a 55 años serían clientes adultos.\n",
        "\n",
        "-los clientes con más de 55 años serían clientes considerados adultos mayores\n",
        "\n",
        "\n",
        "**cat**: Función creada para categorizar los ingresos de los clientes. Se dividió entre:\n",
        "\n",
        "-clientes de mayores ingresos cuando poseen ingresos mayores a\n",
        "$1.400.000\n",
        "\n",
        "-clientes de ingresos bajos cuando son personas con ingresos menores a $600.000\n",
        "\n",
        "-clientes de recursos medios cuando se encuentran entre esos dos montos.\n",
        "\n",
        "\n",
        "**cat2**: Función creada para categorizar los tipos de seguros.\n",
        "-Los seguros de bajo valor serían los de robo y desempleo.\n",
        "-Los seguros de alto valor serían los seguros de vida, de hogar y de accidentes.\n",
        "\n",
        "\n",
        "\n",
        "---\n",
        "\n"
      ]
    },
    {
      "cell_type": "markdown",
      "source": [
        "**Dataframe de precios de los seguros** (9 columnas, 5 filas)"
      ],
      "metadata": {
        "id": "gESWe0sIlx0k"
      }
    },
    {
      "cell_type": "markdown",
      "metadata": {
        "id": "oOdx4jnR29q0"
      },
      "source": [
        "**Variables originales del DataFrame Precios**\n",
        "\n",
        "**Id del seguro**: Código de identificación del seguro, utilizado también en el DataFrame Ventas de 2024, INT.\n",
        "\n",
        "**Seguro**: Nombre del seguro, String.\n",
        "\n",
        "**Junio de 2018**: Precio del seguro desde junio de 2018 a Mayo de 2019. Float.\n",
        "\n",
        "**Junio de 2019**: Precio del seguro desde junio de 2019 a Mayo de 2020. Float.\n",
        "\n",
        "**Junio de 2020**: Precio del seguro desde junio de 2020 a Mayo de 2021. Float.\n",
        "\n",
        "**Junio de 2021**: Precio del seguro desde junio de 2021 a Mayo de 2022. Float.\n",
        "\n",
        "**Junio de 2022**: Precio del seguro desde junio de 2022 a Mayo de 2023. Float.\n",
        "\n",
        "**Junio de 2023**: Precio del seguro desde junio de 2023 a Mayo de 2024. Float.\n",
        "\n",
        "**Junio de 2024**: Precio del seguro desde junio de 2024. Float.\n",
        "\n",
        "\n",
        "\n",
        "---\n",
        "\n"
      ]
    },
    {
      "cell_type": "markdown",
      "source": [
        "**Dataframe de ventas entre 2018 y 2024** (15 columnas, 5118 filas)"
      ],
      "metadata": {
        "id": "rtQJW0U9mKXO"
      }
    },
    {
      "cell_type": "markdown",
      "metadata": {
        "id": "CCDgxe3E5Uwp"
      },
      "source": [
        "**Variables originales del DataFrame Ventas (2018-2024)**\n",
        "\n",
        "**Fecha**: Variable con la fecha de las ventas, Datetime.\n",
        "\n",
        "**Equipo**: Variable con el nombre del equipo de vendedores, String.\n",
        "\n",
        "**Ventas seguro de vida**: Variable con la cantidad de ventas de seguro de vida, INT.\n",
        "\n",
        "**Monto**: Monto total de lo vendido por los seguros de vida, Float.\n",
        "\n",
        "**Ventas seguro de desempleo**: Variable con la cantidad de ventas de seguro de desempleo, INT.\n",
        "\n",
        "**Monto.1**: Monto total de lo vendido por los seguros de desempleo, Float.\n",
        "\n",
        "**Ventas seguro de accidentes**: Variable con la cantidad de ventas de seguro de accidentes, INT.\n",
        "\n",
        "**Monto.2**: Monto total de lo vendido por los seguros de accidentes, Float.\n",
        "\n",
        "**Ventas seguro de hogar**: Variable con la cantidad de ventas de seguro de hogar, INT.\n",
        "\n",
        "**Monto.3**: Monto total de lo vendido por los seguros de hogar, Float.\n",
        "\n",
        "**Ventas seguros de robo**: Variable con la cantidad de ventas de seguro de robo, INT.\n",
        "\n",
        "**Monto.4**: Monto total de lo vendido por los seguros de robo, Float.\n",
        "\n",
        "**Total**: Cantidad total de seguros vendidos, INT.\n",
        "\n",
        "**Monto total**: Monto total obtenido por los seguros vendidos, Float."
      ]
    },
    {
      "cell_type": "markdown",
      "metadata": {
        "id": "icb1wevf5a1C"
      },
      "source": [
        "**Variables y funciones creadas para el DataFrame Ventas (2018-2024)**\n",
        "\n",
        "**f2018 a f2024**: Dataframes creados para delimitar las fechas de las ventas entre 2018 y 2024, definiendo la división por el momento donde cambian de precio los seguros. Se crean para poder delimitar los DataFrames y calcular la mediana de cada equipo en los diferentes seguros.\n",
        "\n",
        "**f2018G a f2024G**: Dataframe creado para delimitar las fechas de 2018 a 2024 del equipo Gomez,  definiendo la división por el momento donde cambian de precio los seguros. Se crean para poder delimitar los DataFrames y calcular la mediana de cada equipo en los diferentes seguros.\n",
        "\n",
        "**f2018P a f2024P**: Dataframe creado para delimitar las fechas de 2018 a 2024 del equipo Perez,  definiendo la división por el momento donde cambian de precio los seguros. Se crean para poder delimitar los DataFrames y calcular la mediana de cada equipo en los diferentes seguros.\n",
        "\n",
        "**f2018S a f2024P**: Dataframe creado para delimitar las fechas de 2018 a 2024 del equipo Santana,  definiendo la división por el momento donde cambian de precio los seguros. Se crean para poder delimitar los DataFrames y calcular la mediana de cada equipo en los diferentes seguros.\n",
        "\n",
        "**F2018G_vid a F2024G_vid**: Dataframe donde se eliminan los valores nulos en la venta de seguros de vida del equipo Gomez, definiendo la división por el momento donde cambian de precio los seguros. Se crea con el objetivo de poder calcular la mediana de las ventas de seguros en cada período.\n",
        "\n",
        "**F2018P_vid a F2024P_vid**: Dataframe donde se eliminan los valores nulos en la venta de seguros de vida del equipo Perez, definiendo la división por el momento donde cambian de precio los seguros. Se crea con el objetivo de poder calcular la mediana de las ventas de seguros en cada período.\n",
        "\n",
        "**F2018S_vid a F2024S_vid**: Dataframe donde se eliminan los valores nulos en la venta de seguros de vida del equipo Santana, definiendo la división por el momento donde cambian de precio los seguros. Se crea con el objetivo de poder calcular la mediana de las ventas de seguros en cada período.\n",
        "\n",
        "**F2018G_hog a F2024G_hog**: Dataframe donde se eliminan los valores nulos en la venta de seguros de hogar del equipo Gomez, definiendo la división por el momento donde cambian de precio los seguros. Se crea con el objetivo de poder calcular la mediana de las ventas de seguros en cada período.\n",
        "\n",
        "**F2018P_hog a F2024P_hog**: Dataframe donde se eliminan los valores nulos en la venta de seguros de hogar del equipo Perez, definiendo la división por el momento donde cambian de precio los seguros. Se crea con el objetivo de poder calcular la mediana de las ventas de seguros en cada período.\n",
        "\n",
        "**F2018S_hog a F2024S_hog**: Dataframe donde se eliminan los valores nulos en la venta de seguros de hogar del equipo Santana, definiendo la división por el momento donde cambian de precio los seguros. Se crea con el objetivo de poder calcular la mediana de las ventas de seguros en cada período.\n",
        "\n",
        "**F2018G_acc a F2024G_acc**: Dataframe donde se eliminan los valores nulos en la venta de seguros de accidentes del equipo Gomez, definiendo la división por el momento donde cambian de precio los seguros. Se crea con el objetivo de poder calcular la mediana de las ventas de seguros en cada período.\n",
        "\n",
        "**F2018P_acc a F2024P_acc**: Dataframe donde se eliminan los valores nulos en la venta de seguros de accidentes del equipo Perez, definiendo la división por el momento donde cambian de precio los seguros. Se crea con el objetivo de poder calcular la mediana de las ventas de seguros en cada período.\n",
        "\n",
        "**F2018S_acc a F2024S_acc**: Dataframe donde se eliminan los valores nulos en la venta de seguros de accidentes del equipo Santana, definiendo la división por el momento donde cambian de precio los seguros. Se crea con el objetivo de poder calcular la mediana de las ventas de seguros en cada período.\n",
        "\n",
        "**F2018G_des a F2024G_des**: Dataframe donde se eliminan los valores nulos en la venta de seguros de desempleo del equipo Gomez, definiendo la división por el momento donde cambian de precio los seguros. Se crea con el objetivo de poder calcular la mediana de las ventas del equipo en cada período.\n",
        "\n",
        "**F2018P_des a F2024P_des**: Dataframe donde se eliminan los valores nulos en la venta de seguros de desempleo del equipo Perez, definiendo la división por el momento donde cambian de precio los seguros. Se crea con el objetivo de poder calcular la mediana de las ventas del equipo en cada período.\n",
        "\n",
        "**F2018S_des a F2024S_des**: Dataframe donde se eliminan los valores nulos en la venta de seguros de desempleo del equipo Santana, definiendo la división por el momento donde cambian de precio los seguros. Se crea con el objetivo de poder calcular la mediana de las ventas del equipo en cada período.\n",
        "\n",
        "**F2018G_rob a F2024G_rob**: Dataframe donde se eliminan los valores nulos en la venta de seguros de robo del equipo Gomez, definiendo la división por el momento donde cambian de precio los seguros. Se crea con el objetivo de poder calcular la mediana de las ventas del equipo en cada período.\n",
        "\n",
        "**F2018P_rob a F2024P_rob**: Dataframe donde se eliminan los valores nulos en la venta de seguros de robo del equipo Perez, definiendo la división por el momento donde cambian de precio los seguros. Se crea con el objetivo de poder calcular la mediana de las ventas del equipo en cada período.\n",
        "\n",
        "**F2018S_rob a F2024S_rob**: Dataframe donde se eliminan los valores nulos en la venta de seguros de robo del equipo Santana, definiendo la división por el momento donde cambian de precio los seguros. Se crea con el objetivo de poder calcular la mediana de las ventas del equipo en cada período.\n",
        "\n",
        "**año**: Función creada para definir la fecha del precio de los seguros, dado que su monto era modificado a partir de Junio.\n",
        "\n",
        "**Precios_1**: Función creada para definir el precio de los seguros de vida.\n",
        "\n",
        "**Precios_2**: Función creada para definir el precio de los seguros de accidentes.\n",
        "\n",
        "**Precios_3**: Función creada para definir el precio de los seguros de hogar.\n",
        "\n",
        "**Precios_4**: Función creada para definir el precio de los seguros de robo.\n",
        "\n",
        "**Precios_5**: Función creada para definir el precio de los seguros de desempleo.\n",
        "\n",
        "**nan_v**: Función creada para remplazar valores extremos por NaN en la variable de seguros de vida.\n",
        "\n",
        "**nan_h**: Función creada para remplazar valores extremos por NaN en la variable de seguros de hogar.\n",
        "\n",
        "**nan_a**: Función creada para remplazar valores extremos por NaN en la variable de seguros de accidentes.\n",
        "\n",
        "**nan_R**: Función creada para remplazar valores extremos por NaN en la variable de seguros de robo.\n",
        "\n",
        "**nan_d**: Función creada para remplazar valores extremos por NaN en la variable de seguros de desempleo.\n",
        "\n",
        "**Gom_vid_m2018 a Gom_vid_m2024**: Función para definir la mediana de ventas de seguros de vida del equipo Gomez entre 2018 y 2024, definiendo la división por el momento donde cambian de precio los seguros.\n",
        "\n",
        "**Per_vid_m2018 a Per_vid_m2024**: Función para definir la mediana de ventas de seguros de vida del equipo Perez entre 2018 y 2024, definiendo la división por el momento donde cambian de precio los seguros.\n",
        "\n",
        "**San_vid_m2018 a San_vid_m2024**: Función para definir la mediana de ventas de seguros de vida del equipo Santana entre 2018 y 2024, definiendo la división por el momento donde cambian de precio los seguros.\n",
        "\n",
        "**Gom_hog_m2018 a Gom_hog_m2024**: Función para definir la mediana de ventas de seguros de hogar del equipo Gomez entre 2018 y 2024, definiendo la división por el momento donde cambian de precio los seguros.\n",
        "\n",
        "**Per_hog_m2018 a Per_hog_m2024**: Función para definir la mediana de ventas de seguros de hogar del equipo Perez entre 2018 y 2024, definiendo la división por el momento donde cambian de precio los seguros.\n",
        "\n",
        "**San_hog_m2018 a San_hog_m2024**: Función para definir la mediana de ventas de seguros de hogar del equipo Santana entre 2018 y 2024, definiendo la división por el momento donde cambian de precio los seguros.\n",
        "\n",
        "**Gom_acc_m2018 a Gom_acc_m2024**: Función para definir la mediana de ventas de seguros de accidentes del equipo Gomez entre 2018 y 2024, definiendo la división por el momento donde cambian de precio los seguros.  \n",
        "\n",
        "**Per_acc_m2018 a Per_acc_m2024**: Función para definir la mediana de ventas de seguros de accidentes del equipo Perez entre 2018 y 2024, definiendo la división por el momento donde cambian de precio los seguros.  \n",
        "\n",
        "**San_acc_m2018 a San_acc_m2024**: Función para definir la mediana de ventas de seguros de accidentes del equipo Santanaentre 2018 y 2024, definiendo la división por el momento donde cambian de precio los seguros.  \n",
        "\n",
        "**Gom_des_m2018 a Gom_des_m2024**: Función para definir la mediana de ventas de seguros de desempleo del equipo Gomez entre 2018 y 2024, definiendo la división por el momento donde cambian de precio los seguros.  \n",
        "\n",
        "**Per_des_m2018 a Per_des_m2024**: Función para definir la mediana de ventas de seguros de desempleo del equipo Perez entre 2018 y 2024, definiendo la división por el momento donde cambian de precio los seguros.  \n",
        "\n",
        "**San_des_m2018 a San_des_m2024**: Función para definir la mediana de ventas de seguros de desempleo del equipo Santana entre 2018 y 2024, definiendo la división por el momento donde cambian de precio los seguros.  \n",
        "\n",
        "**Gom_rob_m2018 a Gom_rob_m2024**: Función para definir la mediana de ventas de seguros de robo del equipo Gomez entre 2018 y 2024, definiendo la división por el momento donde cambian de precio los seguros.  \n",
        "\n",
        "**Per_rob_m2018 a Per_rob_m2024**: Función para definir la mediana de ventas de seguros de robo del equipo Perez entre 2018 y 2024, definiendo la división por el momento donde cambian de precio los seguros.  \n",
        "\n",
        "**San_rob_m2018 a San_rob_m2024**: Función para definir la mediana de ventas de seguros de robo del equipo Santana entre 2018 y 2024, definiendo la división por el momento donde cambian de precio los seguros.  \n",
        "\n",
        "**G2018 a G2024**: Filtro para delimitar el Dataframe de ventas por el equipo Gomez y el año del precio, definiendo la división por el momento donde cambian de precio los seguros. Se crean para poder delimitar los DataFrames y remplazar los valores nulos.\n",
        "\n",
        "**P2018 a P2024**: Filtro para delimitar el Dataframe de ventas por el equipo Perez y el año del precio, definiendo la división por el momento donde cambian de precio los seguros. Se crean para poder delimitar los DataFrames y remplazar los valores nulos.\n",
        "\n",
        "**S2018 a G2024**: Filtro para delimitar el Dataframe de ventas por el equipo Santana y el año del precio, definiendo la división por el momento donde cambian de precio los seguros. Se crean para poder delimitar los DataFrames y remplazar los valores nulos.\n",
        "\n",
        "\n",
        "\n",
        "---\n",
        "\n",
        "\n"
      ]
    },
    {
      "cell_type": "markdown",
      "source": [
        "**Primer Modelo KNN**"
      ],
      "metadata": {
        "id": "bPId7qEYmdlO"
      }
    },
    {
      "cell_type": "markdown",
      "source": [
        "**Variables del primer modelo KNN**\n",
        "\n",
        "**df_variables**: Dataframe creado con las variables extraidas de Seg_2024, con el objetivo de utilizar las mismas para armar los diferentes modelos\n",
        "\n",
        "**X_New1**: Variable independiente creada para el primer y segundo modelo de KNN, con las categorías de Género, ingresos y franja etaria.\n",
        "\n",
        "**Y_New1**: Variable dependiente creada para el primer y segundo modelo, con el tipo de seguro contratado por los clientes en 2024, codificada numericamente.\n",
        "\n",
        "**dict1**: Diccionario para codificar la franja etaria con valores númericos\n",
        "\n",
        "**dict2**: Diccionario para codificar el género de las personas con valores numericos\n",
        "\n",
        "**x_train_KNN, X_Test_KNN,y_train_KNN, y_test_KNN**: datos de entrenamiento y de testeo creados para el primer modelo KNN.\n",
        "\n",
        "**X_Scal**: Variables estandarizadas para el primer y segundo modelo KNN\n",
        "\n",
        "**sc**: Variable para asignar StandardScaler\n",
        "\n",
        "**model**: Modelo creado para para gráficar los clusters en Kmeans\n",
        "\n",
        "**visualizer**: variable creada para ejecutar el KelbowVisualizer y luego el SilhouetteVisualizer\n",
        "\n",
        "**slc**: Diccionario creado para ejecutar la silueta y medir la cantidad de clusters necesarios para el primer y segundo modelo\n",
        "\n",
        "**kmeans**: Algoritmo de K-Means creado para medir en la silueta\n",
        "\n",
        "**clusters**: Variable creada para extraer los diferentes clusters según el algoritmo utilizado para la silueta\n",
        "\n",
        "**km**: Algoritmo de K-Means creado para ejecutar un gráfico de silueta\n",
        "\n",
        "**q, mod**: variable creada para ejecutar el gráfico de silueta\n",
        "\n",
        "**pipe_KNN_1**: Pipeline para el primer modelo KNN\n",
        "\n",
        "**hiperp_KNN_1**: Hiperparametros utilizados para el primer modelo KNN\n",
        "\n",
        "**scoring_1**: Metricas utilizadas para el primer modelo KNN\n",
        "\n",
        "**s_kfold_1**: Variable de Stratified K Fold para el primer modelo KNN\n",
        "\n",
        "**grilla_KNN_1**: Grilla de GridSearchCV creada para el primer modelo KNN\n",
        "\n",
        "**Modelo_KNN_1**: Modelo KNN con el mejor estimador obtenido por el algoritmo\n",
        "\n",
        "**y_pred_train_KNN_1**: Predicciones del primer modelo KNN para los datos de entrenamiento\n",
        "\n",
        "**y_pred_test_KNN_1**: Predicciones del primer modelo KNN para los datos de testeo\n",
        "\n",
        "**cm_1**: Matriz de confusión del primer modelo KNN con datos de entrenamiento\n",
        "\n",
        "**cm_2**: Matriz de confusión del segundo modelo KNN para datos de testeo\n",
        "\n",
        "**y_proba_1**: Predicciones para el primer modelo KNN, teniendo en cuenta solo la clase positiva (los seguros de alto valor) en datos de entrenamiento\n",
        "\n",
        "**fpr_1**: Tasa de falsos positivos para el primer modelo KNN, en los datos de entrenamiento\n",
        "\n",
        "**tpr_1**: Tasa de verdaderos positivos para el primer modelo KNN, con datos de entrenamiento\n",
        "\n",
        "**umbrales_1**: Umbral creado para la curva ROC del primer modelo KNN, con datos de entrenamiento\n",
        "\n",
        "**roc_auc_1**: Curva ROC creada para el primer modelo KNN, en los datos de entrenamiento\n",
        "\n",
        "**youden_j_KNN**: Variable creada para medir la distancia entre Verdaderos positivos y falsos positivos, en los datos de entrenamiento\n",
        "\n",
        "**indice_optimo_KNN_1**: Distancia máxima entre verdaderos positivos y falsos positivos, en los datos de entrenamiento\n",
        "\n",
        "**umbral_optimo_KNN_1**: Umbral ideal para medir la distancia entre verdaderos positivos y falsos positivos, en los datos de entrenamiento\n",
        "\n",
        "**Datos_ROC_1**: DataFrame con las distancias entre los Falsos positivos y los verdaderos positivos, en los datos de entrenamiento\n",
        "\n",
        "**umbral_1**: Umbral creado a partir del umbral optimo, con el objetivo de mejorar el algoritmo de KNN con la curva ROC, en los datos de entrenamiento\n",
        "\n",
        "**etiquetas_predichas_1**: Variable creada para mejorar la predicción del primer modelo KNN con los datos aportados por la curva ROC, en los datos de entrenamiento\n",
        "\n",
        "**cm_ROC_1**: Matriz de confusión del primer modelo KNN con la curva ROC, teniendo en cuenta los datos de entrenamiento\n",
        "\n",
        "**y_proba_2**:  Predicciones para el primer modelo KNN, teniendo en cuenta solo la clase positiva (los seguros de alto valor) en datos de testeo\n",
        "\n",
        "**fpr_2**: Tasa de falsos positivos para el primer modelo KNN, en los datos de testeo\n",
        "\n",
        "**tpr_2**: Tasa de verdaderos positivos para el primer modelo KNN, con datos de testeo\n",
        "\n",
        "**umbrales_2**: Umbral creado para la curva ROC del primer modelo KNN, con datos de testeo\n",
        "\n",
        "**roc_auc_2**: Curva ROC creada para el primer modelo KNN, en los datos de testeo\n",
        "\n",
        "**youden_j_KNN_2**: Variable creada para medir la distancia entre Verdaderos positivos y falsos positivos, en los datos de testeo\n",
        "\n",
        "**indice_optimo_KNN_2**: Distancia máxima entre verdaderos positivos y falsos positivos, en los datos de testeo\n",
        "\n",
        "**umbral_optimo_KNN_2**: Umbral ideal para medir la distancia entre verdaderos positivos y falsos positivos, en los datos de testeo\n",
        "\n",
        "**Datos_ROC_2**: DataFrame con las distancias entre los Falsos positivos y los verdaderos positivos, en los datos de testeo\n",
        "\n",
        "**umbral_2**: Umbral creado a partir del umbral optimo, con el objetivo de mejorar el algoritmo de KNN con la curva ROC, en los datos de testeo\n",
        "\n",
        "**cm_ROC_2**: Matriz de confusión del primer modelo KNN con curva ROC, con los datos de testeo\n",
        "\n",
        "**etiquetas_predichas_2**: Variable creada para mejorar la predicción del primer modelo KNN con los datos aportados por la curva ROC, en los datos de testeo"
      ],
      "metadata": {
        "id": "Nc4N-NbNbfUx"
      }
    },
    {
      "cell_type": "markdown",
      "source": [
        "\n",
        "\n",
        "---\n",
        "\n"
      ],
      "metadata": {
        "id": "cdjWQD71czAh"
      }
    },
    {
      "cell_type": "markdown",
      "source": [
        "**Segundo Modelo KNN**"
      ],
      "metadata": {
        "id": "TK1oMApnmhZc"
      }
    },
    {
      "cell_type": "markdown",
      "source": [
        "**Variables del segundo modelo KNN**\n",
        "\n",
        "**x_train_KNN_2, x_Test_KNN_2, y_train_KNN_2, y_test_KNN_2**: Variables para la validación simple del segundo modelo KNN\n",
        "\n",
        "**pipe_KNN_2**: Pipeline para el segundo modelo KNN\n",
        "\n",
        "**hiperp_KNN_2**: Hiperparametros para el segundo modelo KNN\n",
        "\n",
        "**S_kfold_2**: Stratified K Fold creado para el segundo modelo KNN\n",
        "\n",
        "**grilla_KNN_2**: Grilla de HalvingRandomSearchCV creada para el segundo modelo KNN\n",
        "\n",
        "**Modelo_KNN_2**: Segundo Modelo KNN, configurado a partir del mejor estimador\n",
        "\n",
        "**y_pred_train_KNN_2**: Predicciones de entrenamiento del segundo modelo KNN\n",
        "\n",
        "**y_pred_test_KNN_2**: Predicciones de testeo del segundo modelo KNN\n",
        "\n",
        "**cm_KNN_3**: Matriz de confusión del segundo modelo KNN con datos testeo\n",
        "\n",
        "**cm_KNN_4**: Matriz de confusión del segundo modelo KNN con datos entrenamiento\n",
        "\n",
        "**y_proba_KNN_3**: Predicciones para el segundo modelo KNN, teniendo en cuenta solo la clase positiva (los seguros de alto valor) en datos de entrenamiento\n",
        "\n",
        "**fpr_3**: Tasa de falsos positivos para el segundo modelo KNN, en los datos de entrenamiento\n",
        "\n",
        "**tpr_3**: Tasa de verdaderos positivos para el segundo modelo KNN, con datos de entrenamiento\n",
        "\n",
        "**umbrales_3**: Umbral creado para la curva ROC del segundo modelo KNN, con datos de entrenamiento\n",
        "\n",
        "**roc_auc_3**: Curva ROC creada para el segundo modelo KNN, en los datos de entrenamiento\n",
        "\n",
        "**distancias_3**: Variable creada para medir la distancia entre Verdaderos positivos y falsos positivos en el segundo modelo KNN, en los datos de entrenamiento\n",
        "\n",
        "**indice_optimo_KNN_3**: Distancia entre verdaderos positivos y falsos positivos en el segundo modelo con curva ROC, en los datos de entrenamiento\n",
        "\n",
        "**umbral_optimo_KNN_3**: Umbral ideal para medir la distancia entre verdaderos positivos y falsos positivos en el seugndo modelo KNN, en los datos de entrenamiento\n",
        "\n",
        "**Datos_ROC_3**: DataFrame con las distancias entre los Falsos positivos y los verdaderos positivos en el segundo modelo KNN, en los datos de entrenamiento\n",
        "\n",
        "**umbral_3**: Umbral utilizado para configurar las predicciones en el segundo modelo KNN con curva ROC, con datos de entrenamiento\n",
        "\n",
        "**etiquetas_predichas_3**: Variable creada para mejorar la predicción del segundo modelo KNN con los datos aportados por la curva ROC, en los datos de entrenamiento\n",
        "\n",
        "**cm_ROC_3**: Matriz de confusión del segundo modelo KNN con la curva ROC, teniendo en cuenta los datos de entrenamiento\n",
        "\n",
        "**y_proba_KNN_4**: Predicciones para el segundo modelo KNN, teniendo en cuenta solo la clase positiva (los seguros de alto valor) en datos de testeo\n",
        "\n",
        "**fpr_4**: Tasa de falsos positivos para el segundo modelo KNN, en los datos de testeo\n",
        "\n",
        "**tpr_4**: Tasa de verdaderos positivos para el segundo modelo KNN, con datos de testeo\n",
        "\n",
        "**umbrales_4**: Umbral creado para la curva ROC del segundo modelo KNN, con datos de testeo\n",
        "\n",
        "**roc_auc_4**: Curva ROC creada para el segundo modelo KNN, en los datos de testeo\n",
        "\n",
        "**distancias_4**: Variable creada para medir la distancia entre Verdaderos positivos y falsos positivos en el segundo modelo KNN, en los datos de testeo\n",
        "\n",
        "**indice_optimo_KNN_4**: Distancia entre verdaderos positivos y falsos positivos en el segundo modelo con curva ROC, en los datos de testeo\n",
        "\n",
        "**umbral_optimo_4**: Umbral ideal para medir la distancia entre verdaderos positivos y falsos positivos en el seugndo modelo KNN, en los datos de testeo\n",
        "\n",
        "**Datos_ROC_4**: DataFrame con las distancias entre los Falsos positivos y los verdaderos positivos en el segundo modelo KNN, en los datos de testeo\n",
        "\n",
        "**umbral_4**: Umbral utilizado para configurar las predicciones en el segundo modelo KNN con curva ROC, en los datos de testeo\n",
        "\n",
        "**etiquetas_predichas_4**: Variable creada para mejorar la predicción del segundo modelo KNN con los datos aportados por la curva ROC, en los datos de testeo\n",
        "\n",
        "**cm_ROC_4**: Matriz de confusión del segundo modelo KNN con la curva ROC, teniendo en cuenta los datos de testeo\n"
      ],
      "metadata": {
        "id": "OH0hCldyc0ZT"
      }
    },
    {
      "cell_type": "markdown",
      "source": [
        "\n",
        "\n",
        "---\n",
        "\n"
      ],
      "metadata": {
        "id": "hEGzdx5xe3T6"
      }
    },
    {
      "cell_type": "markdown",
      "source": [
        "**Tercer modelo KNN**"
      ],
      "metadata": {
        "id": "gBcIqUOMmpnS"
      }
    },
    {
      "cell_type": "markdown",
      "source": [
        "**Variables del tercer modelo KNN**\n",
        "\n",
        "**x_mod_3**: Variable independiente creada para los últimos tres modelos del Notebook, con las categorías de nivel de ingresos, género y franja etaria\n",
        "\n",
        "** y_mod_3**: Variable dependiente creada para los últimos tres modelos del Notebook, con la categoría de seguro contratado por los clientes en 2024\n",
        "\n",
        "** df_mod_3**: DataFrame creado con las variables utilizadas en los últimos tres modelos del notebook\n",
        "\n",
        "** dict_3**: Diccionario creado para codificar numericamente la categoría de ingresos de las personas\n",
        "\n",
        "** x_scal_2**: dataframe creado para normalizar el df_mod_3\n",
        "\n",
        "**scalado2**: Dataframe con datos normalizados del tercer modelo KNN\n",
        "\n",
        "**x_train_KNN_3, x_Test_KNN_3, y_train_KNN_3, y_test_KNN_3**: Variables creadas para validación simple del tercer modelo KNN\n",
        "\n",
        "**slc_2**: Diccionario creado para la diseñar la silueta correspondiente al tercer modelo KNN\n",
        "\n",
        "**km_2**: Algoritmo KNN para configurar la silueta del tercer modelo\n",
        "\n",
        "**pipe_KNN_3**: Pipeline para el tercer modelo KNN\n",
        "\n",
        "**hiperp_KNN_3**: Hiperparametros para el tercer modelo KNN\n",
        "\n",
        "**S_kfold_3**: Stratified K fold para el tercer modelo KNN\n",
        "\n",
        "**grilla_KNN_3**: Grilla de HalvingGridSearchCV para el tercer modelo KNN\n",
        "\n",
        "**modelo_KNN_3**: Tercer modelo KNN configurado con el mejor estimador\n",
        "\n",
        "**y_pred_train_KNN_3**: Predicciones del tercer modelo KNN con datos de entrenamiento\n",
        "\n",
        "**y_pred_test_KNN_3**: Predicciones del tercer modelo KNN con datos de testeo\n",
        "\n",
        "**cm_KNN_5**: Matriz de confusión para el tercer modelo KNN, conn datos de testeo\n",
        "\n",
        "**cm_KNN_6**: Matriz de confusión para el tercer modelo KNN, con datos de entrenamiento\n",
        "\n",
        "**y_proba_KNN_5**: Prediccion para el tercer modelo KNN teniendo en cuenta solamente la clase positiva (seguros de alto valor), en datos de entrenamiento\n",
        "\n",
        "**fpr_5**: Falsos positivos para el tercer modelo KNN, en datos de entrenamiento\n",
        "\n",
        "**tpr_5**: Verdaderos positivos para el tercer modelo KNN, en datos de entrenamiento\n",
        "\n",
        "**umbrales5**: Umbrales para la curva ROC en el tercer modelo KNN, en datos de entrenamiento\n",
        "\n",
        "**roc_auc_5**: Curva ROC para el tercer modelo KNN en datos de entrenamiento\n",
        "\n",
        "**youden_j_KNN3**: Distancia entre los falsos y verdaderos positivos, en el tercer modelo KNN, en datos de entrenamiento\n",
        "\n",
        "**indice_optimo_KNN_3**: Indice ideal para medir la distancia entre verdaderos y falsos positivos en los datos de entrenamiento del tercer modelo KNN\n",
        "\n",
        "**umbral_optimo_KNN_3**: Umbral optimo del tercer modelo KNN, en datos de entrenamiento\n",
        "\n",
        "**Datos_ROC_5**: Datos de distancia entre los verdaderos y falsos positivos, con su umbral ideal, en el tercer modelo KNN con los datos de entrenamiento\n",
        "\n",
        "**umbral_5**: Variable para configurar el mejor valor de distancia entre falsos y verdaderos positivos en el tercer modelo KNN, con datos de entrenamiento\n",
        "\n",
        "**etiquetas_predichas_5**: etiquetas predichas por el tercer modelo KNN con curva ROC, en datos de entrenamiento\n",
        "\n",
        "**cm_ROC_5**: Matriz de confusión del tercer modelo KNN con curva ROC, en datos de entrenamiento\n",
        "\n",
        "**y_proba_KNN_6**: Probabilidades para el tercer modelo KNN teniendo en cuenta solamente la clase positiva (seguros de alto valor), en datos de testeo\n",
        "\n",
        "**fpr_6**: Falsos positivos para el tercer modelo KNN, en datos de testeo\n",
        "\n",
        "**tpr_6**: Verdaderos positivos para el tercer modelo KNN, en datos de testeo\n",
        "\n",
        "**umbrales_6**: Umbrales para la curva ROC en el tercer modelo KNN, en datos de testeo\n",
        "\n",
        "**roc_auc_6**: Curva ROC para el tercer modelo KNN en datos de testeo\n",
        "\n",
        "**youden_j_KNN4**: Distancia entre los falsos y verdaderos positivos, en el tercer modelo KNN, en datos de testeo\n",
        "\n",
        "**indice_optimo_KNN_4**: Indice ideal para medir la distancia entre verdaderos y falsos positivos en los datos de testeo del tercer modelo KNN\n",
        "\n",
        "**umbral_optimo_KNN_4**: Umbral optimo del tercer modelo KNN, en datos de testeo\n",
        "\n",
        "**Datos_ROC_6**: Datos de distancia entre los verdaderos y falsos positivos, con su umbral ideal, en el tercer modelo KNN con los datos de testeo\n",
        "\n",
        "**umbral_6**: Variable para configurar el mejor valor de distancia entre falsos y verdaderos positivos en el tercer modelo KNN, con datos de testeo\n",
        "\n",
        "**etiquetas_predichas_6**: etiquetas predichas por el tercer modelo KNN con curva ROC, en datos de testeo\n",
        "\n",
        "**cm_ROC_6**: Matriz de confusión del tercer modelo KNN con curva ROC, en datos de testeo\n"
      ],
      "metadata": {
        "id": "i9UurU51e4TK"
      }
    },
    {
      "cell_type": "markdown",
      "source": [
        "\n",
        "\n",
        "---\n"
      ],
      "metadata": {
        "id": "p1HzC19ngX36"
      }
    },
    {
      "cell_type": "markdown",
      "source": [
        "**Random Forest**"
      ],
      "metadata": {
        "id": "kM0WQE8ymtnz"
      }
    },
    {
      "cell_type": "markdown",
      "source": [
        "**Variables del modelo de Random Forest**\n",
        "\n",
        "**x_RF**: Variable independiente para el modelo de Random Forest, identica a la variable independiente del tercer modelo\n",
        "\n",
        "**y_rf**: Variable dependiente para el modelo de Random Forest, identica a la variable dependiente del tercer modelo\n",
        "\n",
        "**x_train_RF, x_Test_RF, y_train_RF, y_test_RF**: Variables para la validación simple del modelo de Random Forest\n",
        "\n",
        "**clf_rf**: Variable asignada para crear el RandomForestClassifier\n",
        "\n",
        "**param_grid**: Parametros para el Random Forest\n",
        "\n",
        "**S_kfold_4**: Stratified K Fold para el random Forest\n",
        "\n",
        "**RF_Halving_CV**: Grilla de HalvingGridSearchCV creada para el modelo de Random Forest\n",
        "\n",
        "**modelo_RF**: Modelo de Random Forest, configurado con el mejor estimador\n",
        "\n",
        "**scores**: Dataframe con los puntajes obtenidos por el tercer modelo de Random Forest\n",
        "\n",
        "**prediction1**: Predictor del Random Forest para los datos de entrenamiento\n",
        "\n",
        "**prediction2**: Predictor del Random Forest para los datos de testeo\n",
        "\n",
        "**cm_rf_1**: Matriz de confusión para los datos de entrenamiento del Random Forest\n",
        "\n",
        "**cm_rf_2**: Matriz de confusión para los datos de testeo del Random Forest\n",
        "\n",
        "**y_proba_RF**: Probabilidades predichas para la clase positiva (seguros de alto valor) en el Random Forest, según los datos de entrenamiento\n",
        "\n",
        "**fpr_RF**: Falsos positivos del Random Forest, en los datos de entrenamiento\n",
        "\n",
        "**tpr_RF**: Verdaderos positivos del Random Forest, en los datos de entrenamiento\n",
        "\n",
        "**umbrales_RF**: Umbrales del Random Forest siguiendo la curva ROC, en los datos de entrenamiento\n",
        "\n",
        "**roc_auc_RF**: Calculo de la curva ROC para el modelo random forest, en los datos de entrenamiento\n",
        "\n",
        "**youden_j_RF**: Distancia entre los falsos y verdaderos positivos en el modelo Random Forest, para los datos de entrenamiento\n",
        "\n",
        "**indice_optimo_RF**: Indice de distancia entre los falsos y verdaderos positivos en el modelo de Random Forest, para los datos de entrenamiento\n",
        "\n",
        "**umbral_optimo_RF**: Umbrales de distancia entre los falsos y verdaderos positivos para el modelo de Random Forest, en los datos de entrenamiento\n",
        "\n",
        "**umbral_RF**: Umbral ideal para configurar la prediccion del tercer modelo Random Forest con curva ROC, en los datos de entrenamiento\n",
        "\n",
        "**etiquetas_predichas_RF**: Prediccion del modelo Random Forest con curva ROC, en los datos de entrenamiento\n",
        "\n",
        "**cm_ROC_RF**: matriz de confusión del modelo de Random Forest con curva ROC, en los datos de entrenamiento\n",
        "\n",
        "**y_proba_RF_R**: Probabilidades predichas para la clase positiva (seguros de alto valor) en el Random Forest, según los datos de testeo\n",
        "\n",
        "**fpr_RF_2**: Falsos positivos del Random Forest, en los datos de testeo\n",
        "\n",
        "**tpr_RF_2**: Verdaderos positivos del Random Forest, en los datos de testeo\n",
        "\n",
        "**umbrales_RF_2**: Umbrales del Random Forest siguiendo la curva ROC, en los datos de testeo\n",
        "\n",
        "**roc_auc_RF_2**: Calculo de la curva ROC para el modelo random forest, en los datos de testeo\n",
        "\n",
        "**youden_j_RF_2**: Distancia entre los falsos y verdaderos positivos en el modelo Random Forest, para los datos de testeo\n",
        "\n",
        "**indice_optimo_RF_2**: Indice de distancia entre los falsos y verdaderos positivos en el modelo de Random Forest, para los datos de testeo\n",
        "\n",
        "**umbral_optimo_RF_2**: Umbrales de distancia entre los falsos y verdaderos positivos para el modelo de Random Forest, en los datos de testeo\n",
        "\n",
        "**umbral_RF_2**: Umbral ideal para configurar la prediccion del tercer modelo Random Forest con curva ROC, en los datos de testeo\n",
        "\n",
        "**etiquetas_predichas_RF_2**: Prediccion del modelo Random Forest con curva ROC, en los datos de testeo\n",
        "\n",
        "**cm_ROC_RF_2**: matriz de confusión del modelo de Random Forest con curva ROC, en los datos de testeo"
      ],
      "metadata": {
        "id": "Gkg9WrEQgZnb"
      }
    },
    {
      "cell_type": "markdown",
      "source": [
        "\n",
        "\n",
        "---\n",
        "\n"
      ],
      "metadata": {
        "id": "UzCN8OQghV_G"
      }
    },
    {
      "cell_type": "markdown",
      "source": [
        "**Modelo ensamblado con XGBClassifier**"
      ],
      "metadata": {
        "id": "k5I79UeSmwqL"
      }
    },
    {
      "cell_type": "markdown",
      "source": [
        "**Variables del modelo de XGBClassifier**\n",
        "\n",
        "**x_XGB**: Variables independientes para el quinto modelo de Machine Learning, identica a las variables independientes del tercer y cuarto modelo\n",
        "\n",
        "**y_XGB**: Variables dependiente para el quinto modelo de Machine Learning, identica a las variable dependiente del tercer y cuarto modelo\n",
        "\n",
        "**X_train_XGB_1, X_test_XGB_1, y_train_XGB_1, y_test_XGB_1**: Variables creadas para la validación simple del arbol de decisión\n",
        "\n",
        "**clf_tree**: Variable asignada para crear el arbol de decisión\n",
        "\n",
        "**clf_xgb**: Variable asignada para utilizar el metodo de ensamblado de XGBClassifier\n",
        "\n",
        "**param_grid**: Parametros para el arbol de decisión y en el XGBClassifier\n",
        "\n",
        "**S_kfold_5**: Stratified K Fold para el arbol de decisión\n",
        "\n",
        "**clf_tree_cv**: Grilla de RandomizedSearchCV para el arbol de decisión\n",
        "\n",
        "**y_train_pred_XGB_1**: Predicción del arbol de decisión para los datos de entrenamiento\n",
        "\n",
        "**y_test_pred_XGB_1**: Predicción del arbol de decisión para los datos de testeo\n",
        "\n",
        "**accuracy_tree**: Variable para calcular el accuracy del arbol de entrenamiento\n",
        "\n",
        "**s_k_fold_6**: Stratified K Fold para el modelo de XGBClassifier\n",
        "\n",
        "**clf_xgb_cv**: Grilla de HalvingGridSearchCV para el modelo de XGBClassifier\n",
        "\n",
        "**XGB_model**: Modelo de XGBClassifier, configurado con el mejor estimador\n",
        "\n",
        "**y_train_pred_XGB_2**: Predicción del modelo XGBClassifier, con datos de entrenamiento\n",
        "\n",
        "**y_test_pred_XGB_2**: Prediccion del modelo XGBClassifier, con datos de testeo\n",
        "\n",
        "**results**: Variable con los resultados del modelo de XGBoostClassifier\n",
        "\n",
        "**df_clf_xgb_cv**: Dataframe con los resultados del modelo XGBoostClassifier"
      ],
      "metadata": {
        "id": "NR7GVY-rhXbC"
      }
    },
    {
      "cell_type": "markdown",
      "source": [
        "\n",
        "\n",
        "---\n",
        "\n"
      ],
      "metadata": {
        "id": "7BON5L_YiOsy"
      }
    },
    {
      "cell_type": "markdown",
      "source": [
        "**Variables de la comparación de los resultados y la prueba con la libreria Lazy**\n",
        "\n",
        "**precision_KNN_1_train**: Variable con la precisión del primer modelo KNN, en datos de entrenamiento\n",
        "\n",
        "**precision_KNN_1_train_ROC**: Variable con la precisión del primer modelo KNN con curva ROC, en datos de entrenamiento\n",
        "\n",
        "**precision_KNN_2_train**: Variable con la precisión del segundo modelo KNN con curva ROC, en datos de entrenamiento\n",
        "\n",
        "**precision_KNN_3_train**: Variable con la precisión del tercer modelo KNN, en datos de entrenamiento\n",
        "\n",
        "**precision_KNN_3_train_ROC**: Variable con la precisión del tercer modelo KNN con curva ROC, en datos de entrenamiento\n",
        "  \n",
        "**precision_RF_train**: Variable con la precisión del Random Forest, en datos de entrenamiento\n",
        "  \n",
        "**precision_RF_ROC**: Variable con la precisión del Random Forest con curva ROC, en datos de entrenamiento\n",
        "   \n",
        "**precision_XGB_train**: Variable con la precisión del XGBoostClassifier, en datos de entrenamiento\n",
        "\n",
        "**accuracy_KNN_1_train**: Variable con la accuracy del primer modelo KNN, con datos de entrenamiento\n",
        "\n",
        "**accuracy_KNN_1_train_ROC**: Variable con la accuracy del primer modelo KNN con curva ROC, en datos de entrenamiento  \n",
        "\n",
        "**accuracy_KNN_2_train**: Variable con la accuracy del segundo modelo KNN con curva ROC, en datos de entrenamiento\n",
        "\n",
        "**accuracy_KNN_3_train**: Variable con la accuracy del tercer modelo KNN, en datos de entrenamiento\n",
        "\n",
        "**accuracy_KNN_3_train_ROC**: Variable con la accuracy del tercer modelo KNN con curva ROC, en datos de entrenamiento\n",
        "    \n",
        "**accuracy_RF_train**: Variable con la accuracy del Random Forest con curva ROC, en datos de entrenamiento\n",
        "\n",
        "**accuracy_RF_ROC**: Variable con la accuracy del Random Forest con curva ROC, en datos de entrenamiento\n",
        "\n",
        "**accuracy_XGB_train**: Variable con la accuracy del XGBoostClassifier, en datos de entrenamiento\n",
        "\n",
        "**recall_KNN_1_train**: Variable con el recall del primer modelo KNN, en datos de entrenamiento\n",
        "\n",
        "**recall__KNN_1_train_ROC**: Variable con el recall del primer modelo KNN con curva ROC, en datos de entrenamiento\n",
        "\n",
        "**recall__KNN_2_train**: Variable con el recall del segundo modelo KNN con curva ROC, en datos de entrenamiento\n",
        "  \n",
        "**recall__KNN_3_train**: Variable con el recall del tercer modelo KNN, en datos de entrenamiento  \n",
        "\n",
        "**recall__KNN_3_train_ROC**: Variable con el recall del tercer modelo KNN con curva ROC, en datos de entrenamiento  \n",
        "\n",
        "**recall__RF_train**: Variable con el recall del Random Forest con curva ROC, en datos de entrenamiento\n",
        "\n",
        "**recall_RF_ROC**: Variable con el recall del Random Forest con curva ROC, en datos de entrenamiento  \n",
        "\n",
        "**recall__XGB_train**: Variable con el recall del XGBoostClassifier, en datos de entrenamiento\n",
        "  \n",
        "**precision_KNN_1_test**: Variable con la precisión del primer modelo KNN, en datos de testeo\n",
        "\n",
        "**precision_KNN_1_test_ROC**: Variable con la precisión del primer modelo KNN con curva ROC, en datos de testeo\n",
        "\n",
        "**precision_KNN_2_test**: Variable con la precisión del segundo modelo KNN con curva ROC, en datos de testeo\n",
        "\n",
        "**precision_KNN_3_test**: Variable con la precisión del tercer modelo KNN, en datos de testeo\n",
        "\n",
        "**precision_KNN_3_test_ROC**: Variable con la precisión del tercer modelo KNN con curva ROC, en datos de testeo\n",
        "  \n",
        "**precision_RF_test**: Variable con la precisión del Random Forest, en datos de testeo\n",
        "  \n",
        "**precision_RF_ROC_test**: Variable con la precisión del Random Forest con curva ROC, en datos de testeo\n",
        "   \n",
        "**precision_XGB_test**: Variable con la precisión del XGBoostClassifier, en datos de testeo\n",
        "\n",
        "**accuracy_KNN_1_train**: Variable con la accuracy del primer modelo KNN, con datos de entrenamiento\n",
        "\n",
        "**accuracy_KNN_1_test_ROC**: Variable con la accuracy del primer modelo KNN con curva ROC, en datos de testeo\n",
        "\n",
        "**accuracy_KNN_2_test**: Variable con la accuracy del segundo modelo KNN con curva ROC, en datos de testeo\n",
        "\n",
        "**accuracy_KNN_3_test**: Variable con la accuracy del tercer modelo KNN, en datos de testeo\n",
        "\n",
        "**accuracy_KNN_3_test_ROC**: Variable con la accuracy del tercer modelo KNN con curva ROC, en datos de testeo\n",
        "    \n",
        "**accuracy_RF_test**: Variable con la accuracy del Random Forest con curva ROC, en datos de testeo\n",
        "\n",
        "**accuracy_RF_ROC_test**: Variable con la accuracy del Random Forest con curva ROC, en datos de testeo\n",
        "\n",
        "**accuracy_XGB_test**: Variable con la accuracy del XGBoostClassifier, en datos de testeo\n",
        "\n",
        "**recall_KNN_1_test**: Variable con el recall del primer modelo KNN, en datos de testeo\n",
        "\n",
        "**recall__KNN_1_test_ROC**: Variable con el recall del primer modelo KNN con curva ROC, en datos de testeo\n",
        "\n",
        "**recall__KNN_2_test**: Variable con el recall del segundo modelo KNN con curva ROC, en datos de testeo\n",
        "  \n",
        "**recall__KNN_3_test**: Variable con el recall del tercer modelo KNN, en datos de testeo\n",
        "\n",
        "**recall__KNN_3_test_ROC**: Variable con el recall del tercer modelo KNN con curva ROC, en datos de testeo\n",
        "\n",
        "**recall__RF_test**: Variable con el recall del Random Forest con curva ROC, en datos de testeo\n",
        "\n",
        "**recall_RF_ROC_test**: Variable con el recall del Random Forest con curva ROC, en datos de testeo\n",
        "\n",
        "**recall__XGB_test**: Variable con el recall del XGBoostClassifier, en datos de testeo\n",
        "\n",
        "**Precisión_Train**: DataFrame con una selección de los diferentes resultados obtenidos en los diferentes modelos, para los datos de entrenamiento  \n",
        "\n",
        "**Precisión_Test**: DataFrame con una selección de los diferentes resultados obtenidos en los diferentes modelos, para los datos de testeo\n",
        "\n",
        "**lazy_Clf**: Variable asignada para el Lazy Classifier\n",
        "\n",
        "**x_train_lazy, x_Test_lazy, y_train_lazy, y_test_lazy**: Variables asignadas para testear con el Lazy Classifier a las variables utilizados en los últimos 3 modelados\n",
        "\n",
        "**models,predictions**: Modelos y predicciones de la prueba de Lazy"
      ],
      "metadata": {
        "id": "4nBORZWniPrq"
      }
    },
    {
      "cell_type": "markdown",
      "metadata": {
        "id": "ClGkO9VT1oZ4"
      },
      "source": [
        "#**Estructuración de los datos y Data Wrangling**"
      ]
    },
    {
      "cell_type": "code",
      "execution_count": null,
      "metadata": {
        "id": "YUovFLDm23yW"
      },
      "outputs": [],
      "source": [
        "import pandas as pd\n",
        "import numpy as np\n",
        "import matplotlib.pyplot as plt\n",
        "import seaborn as sns\n",
        "import warnings\n",
        "warnings.filterwarnings (\"ignore\")\n",
        "import scipy.stats as stats\n",
        "from datetime import datetime\n",
        "from scipy.stats import chi2_contingency"
      ]
    },
    {
      "cell_type": "code",
      "execution_count": null,
      "metadata": {
        "id": "gQBhcm9h6z6G"
      },
      "outputs": [],
      "source": [
        "url_1 = \"https://github.com/JuanSol26/Proyecto-de-Data-Science-2/raw/refs/heads/main/Equipos.xlsx\"\n",
        "url_2 = \"https://github.com/JuanSol26/Proyecto-de-Data-Science-2/raw/refs/heads/main/Ventas.xlsx\"\n",
        "url_3 = \"https://github.com/JuanSol26/Proyecto-de-Data-Science-2/raw/refs/heads/main/Seguros%202024.xlsx\"\n",
        "url_4 = \"https://github.com/JuanSol26/Proyecto-de-Data-Science-2/raw/refs/heads/main/Precios.xlsx\"\n",
        "\n",
        "equipos = pd.read_excel(url_1)\n",
        "ventas = pd.read_excel(url_2)\n",
        "seg_2024 = pd.read_excel(url_3)\n",
        "precios = pd.read_excel(url_4)"
      ]
    },
    {
      "cell_type": "markdown",
      "metadata": {
        "id": "hLn08PuI7sMd"
      },
      "source": [
        "Limpieza de datos del DataFrame Equipos"
      ]
    },
    {
      "cell_type": "code",
      "execution_count": null,
      "metadata": {
        "id": "0GBs_Pfw7xEN"
      },
      "outputs": [],
      "source": [
        "equipos.head(5)"
      ]
    },
    {
      "cell_type": "code",
      "execution_count": null,
      "metadata": {
        "id": "lmO22i8O73Y9"
      },
      "outputs": [],
      "source": [
        "equipos.info()"
      ]
    },
    {
      "cell_type": "code",
      "execution_count": null,
      "metadata": {
        "id": "7ghTLE0D76ud"
      },
      "outputs": [],
      "source": [
        "equipos[\"ID\"].duplicated().sum()"
      ]
    },
    {
      "cell_type": "code",
      "execution_count": null,
      "metadata": {
        "id": "B8CXZlaD8Asm"
      },
      "outputs": [],
      "source": [
        "equipos[\"Nombre\"].sort_values().unique()"
      ]
    },
    {
      "cell_type": "code",
      "execution_count": null,
      "metadata": {
        "id": "f3KO2jvN8FtW"
      },
      "outputs": [],
      "source": [
        "equipos[\"Apellido\"].sort_values().unique()"
      ]
    },
    {
      "cell_type": "code",
      "execution_count": null,
      "metadata": {
        "id": "NEMrUghr8MiF"
      },
      "outputs": [],
      "source": [
        "equipos[\"Nombre\"] = equipos[\"Nombre\"].str.strip()\n",
        "equipos[\"Apellido\"] = equipos[\"Apellido\"].str.strip()"
      ]
    },
    {
      "cell_type": "code",
      "execution_count": null,
      "metadata": {
        "id": "SU7RUZZs8WO_"
      },
      "outputs": [],
      "source": [
        "equipos[\"Apellido\"].duplicated().sum()"
      ]
    },
    {
      "cell_type": "code",
      "execution_count": null,
      "metadata": {
        "id": "a5tbQiHL8dPV"
      },
      "outputs": [],
      "source": [
        "equipos[\"Apellido\"].duplicated().sort_values()"
      ]
    },
    {
      "cell_type": "code",
      "execution_count": null,
      "metadata": {
        "id": "-3RUid_f8i0O"
      },
      "outputs": [],
      "source": [
        "equipos.iloc[[45, 47, 54, 55, 58, 50]]"
      ]
    },
    {
      "cell_type": "code",
      "execution_count": null,
      "metadata": {
        "id": "exHqhYh_8nwO"
      },
      "outputs": [],
      "source": [
        "duplicados = equipos.loc[equipos[\"Apellido\"].isin([\"Vega\", \"Reyes\", \"Vargas\", \"López\", \"Ríos\", \"Mendoza\"])]\n",
        "duplicados.sort_values(by=\"Apellido\")"
      ]
    },
    {
      "cell_type": "code",
      "execution_count": null,
      "metadata": {
        "id": "hlR0PlbZ9H-C"
      },
      "outputs": [],
      "source": [
        "equipos[\"DNI\"].duplicated().sum()"
      ]
    },
    {
      "cell_type": "code",
      "execution_count": null,
      "metadata": {
        "id": "WQ-jcXlM9WIe"
      },
      "outputs": [],
      "source": [
        "equipos[\"Nacionalidad\"].sort_values().unique()"
      ]
    },
    {
      "cell_type": "code",
      "execution_count": null,
      "metadata": {
        "id": "aH9eFZWo9gcO"
      },
      "outputs": [],
      "source": [
        "def nac (x):\n",
        "    if x == \"ARGENTINA\":\n",
        "        return \"Argentina\"\n",
        "    elif x == \"ARGENTINO\":\n",
        "        return \"Argentino\";\n",
        "    elif x == \" Argentino\":\n",
        "        return \"Argentino\";\n",
        "    elif x == \"ArgentinA\":\n",
        "        return \"Argentina\";\n",
        "    elif x == \"aRgentino\":\n",
        "        return \"Argentino\";\n",
        "    elif x == \" Hondureño\":\n",
        "        return \"Hondureño\"\n",
        "    elif x == \" Mexicana\":\n",
        "        return \"Mexicana\";\n",
        "    elif x == \" BRASILEÑA\":\n",
        "        return \"Brasileña\";\n",
        "    elif x == \"CHILENA\":\n",
        "        return \"Chilena\";\n",
        "    elif x == \" HondureÑo\":\n",
        "        return \"Hondureño\";\n",
        "    elif x == \"MEXICANA\":\n",
        "        return \"Mexicana\";\n",
        "    elif x == \"PARAGUAYO\":\n",
        "        return \"Paraguayo\";\n",
        "    elif x == \"UruguAYa\":\n",
        "        return \"Uruguaya\";\n",
        "    elif x == \"MEXICANA\":\n",
        "        return \"Mexicana\";\n",
        "    elif x == \"PARAGUAYO\":\n",
        "        return \"Paraguayo\";\n",
        "    elif x == \"argentina\":\n",
        "        return \"Argentina\";\n",
        "    elif x == \"argentino\":\n",
        "        return \"Argentino\";\n",
        "    elif x == \"brasileña\":\n",
        "        return \"Brasileña\";\n",
        "    elif x == \"hondureño\":\n",
        "        return \"Hondureño\";\n",
        "    elif x == \"HondureÑo\":\n",
        "        return \"Hondureño\";\n",
        "    elif x == \"mexicana\":\n",
        "        return \"Mexicana\";\n",
        "    elif x == \"pARAGUAYO\":\n",
        "        return \"Paraguayo\"\n",
        "    elif x == \"paraguayo\":\n",
        "      return \"Paraguayo\"\n",
        "    elif x == \"BRASILEÑA\":\n",
        "      return \"Brasileña\"\n",
        "    else:\n",
        "        return x"
      ]
    },
    {
      "cell_type": "code",
      "execution_count": null,
      "metadata": {
        "id": "U4qqOye29mt2"
      },
      "outputs": [],
      "source": [
        "equipos[\"Nacionalidad\"] = equipos[\"Nacionalidad\"].apply(nac)"
      ]
    },
    {
      "cell_type": "code",
      "execution_count": null,
      "metadata": {
        "id": "aUyEF_jY9uJt"
      },
      "outputs": [],
      "source": [
        "equipos[\"Nacionalidad\"].sort_values().unique()"
      ]
    },
    {
      "cell_type": "code",
      "execution_count": null,
      "metadata": {
        "id": "R-gMreSQ95gG"
      },
      "outputs": [],
      "source": [
        "equipos[\"Equipo\"].sort_values().unique()"
      ]
    },
    {
      "cell_type": "code",
      "execution_count": null,
      "metadata": {
        "id": "McsbrWUV9_l2"
      },
      "outputs": [],
      "source": [
        "def eq (x):\n",
        "    if x == \"GOMEZ\":\n",
        "        return \"Gomez\"\n",
        "    elif x == \"GoMeEZ\":\n",
        "        return \"Gomez\";\n",
        "    elif x == \"Goméz\":\n",
        "        return \"Gomez\";\n",
        "    elif x == \"GÓMEZ\":\n",
        "        return \"Gomez\";\n",
        "    elif x == \"Gómez\":\n",
        "        return \"Gomez\";\n",
        "    elif x == \"PEREZ\":\n",
        "        return \"Perez\";\n",
        "    elif x == \"PEREZI\":\n",
        "        return \"Perez\";\n",
        "    elif x == \"Perezi\":\n",
        "        return \"Perez\";\n",
        "    elif x == \"Perezí\":\n",
        "        return \"Perez\";\n",
        "    elif x == \"Perezí\":\n",
        "        return \"Perez\";\n",
        "    elif x == \"Peréz\":\n",
        "        return \"Perez\";\n",
        "    elif x == \"PÉREZ\":\n",
        "        return \"Perez\";\n",
        "    elif x == \"Pérez\":\n",
        "        return \"Perez\";\n",
        "    elif x == \"SANTANA\":\n",
        "        return \"Santana\";\n",
        "    elif x == \"SANTAÑA\":\n",
        "        return \"Santana\";\n",
        "    elif x == \"Saantana\":\n",
        "        return \"Santana\";\n",
        "    elif x == \"gomez\":\n",
        "        return \"Gomez\";\n",
        "    elif x == \"perez\":\n",
        "        return \"Perez\";\n",
        "    elif x == \"santana\":\n",
        "        return \"Santana\";\n",
        "    elif x == \"sántana\":\n",
        "        return \"Santana\";\n",
        "    elif x == \"SAÑTAÑA\":\n",
        "      return \"Santana\"\n",
        "    else:\n",
        "      return x"
      ]
    },
    {
      "cell_type": "code",
      "execution_count": null,
      "metadata": {
        "id": "JdmnDPj6-G81"
      },
      "outputs": [],
      "source": [
        "equipos[\"Equipo\"] = equipos[\"Equipo\"].apply(eq)"
      ]
    },
    {
      "cell_type": "code",
      "execution_count": null,
      "metadata": {
        "id": "73Ou1mcD-MVN"
      },
      "outputs": [],
      "source": [
        "equipos[\"Equipo\"].unique()"
      ]
    },
    {
      "cell_type": "code",
      "execution_count": null,
      "metadata": {
        "id": "1JJtU2la-S-9"
      },
      "outputs": [],
      "source": [
        "equipos.rename(columns={'AVG ventas Seguro de vida': \"Promedio de ventas de seguro de vida\"}, inplace=True)\n",
        "equipos.rename(columns={'AVG ventas Seguro de accidentes': \"Promedio de ventas de seguro de accidentes\"}, inplace=True)\n",
        "equipos.rename(columns={'AVG ventas Seguro de hogar': \"Promedio de ventas de seguro de hogar\"}, inplace=True)\n",
        "equipos.rename(columns={'AVG ventas Seguro de robo': \"Promedio de ventas de seguro de robo\"}, inplace=True)\n",
        "equipos.rename(columns={'AVG ventas Seguro de desempleo': \"Promedio de ventas de seguro de desempleo\"}, inplace=True)"
      ]
    },
    {
      "cell_type": "code",
      "execution_count": null,
      "metadata": {
        "id": "oEsAhwAP-iAm"
      },
      "outputs": [],
      "source": [
        "equipos[\"Promedio de ventas de seguro de vida\"]= equipos[\"Promedio de ventas de seguro de vida\"].astype(np.int16)\n",
        "equipos[\"Promedio de ventas de seguro de accidentes\"]= equipos[\"Promedio de ventas de seguro de accidentes\"].astype(np.int16)\n",
        "equipos[\"Promedio de ventas de seguro de hogar\"]= equipos[\"Promedio de ventas de seguro de hogar\"].astype(np.int16)\n",
        "equipos[\"Promedio de ventas de seguro de robo\"]= equipos[\"Promedio de ventas de seguro de robo\"].astype(np.int16)\n",
        "equipos[\"Promedio de ventas de seguro de desempleo\"]= equipos[\"Promedio de ventas de seguro de desempleo\"].astype(np.int16)"
      ]
    },
    {
      "cell_type": "code",
      "execution_count": null,
      "metadata": {
        "id": "vPrt8_3g-uCW"
      },
      "outputs": [],
      "source": [
        "equipos[\"ID\"]= equipos[\"ID\"].astype(np.int16)\n",
        "equipos[\"Nombre\"]= equipos[\"Nombre\"].astype(np.str_)\n",
        "equipos[\"Apellido\"]= equipos[\"Apellido\"].astype(np.str_)\n",
        "equipos[\"DNI\"]= equipos[\"DNI\"].astype(np.int32)\n",
        "equipos[\"Nacionalidad\"]= equipos[\"Nacionalidad\"].astype(np.str_)\n",
        "equipos[\"Equipo\"]= equipos[\"Equipo\"].astype(np.str_)"
      ]
    },
    {
      "cell_type": "code",
      "execution_count": null,
      "metadata": {
        "id": "4CcjC2ZK--4t"
      },
      "outputs": [],
      "source": [
        "equipos.info()"
      ]
    },
    {
      "cell_type": "code",
      "execution_count": null,
      "metadata": {
        "id": "ix0cd5yg_FR9"
      },
      "outputs": [],
      "source": [
        "equipos = equipos.set_index(\"ID\")"
      ]
    },
    {
      "cell_type": "code",
      "execution_count": null,
      "metadata": {
        "id": "G9ZN975u9zeN"
      },
      "outputs": [],
      "source": [
        "del nac\n",
        "del duplicados\n",
        "del eq"
      ]
    },
    {
      "cell_type": "markdown",
      "metadata": {
        "id": "N6H47CtgDt9M"
      },
      "source": [
        "**Limpieza del DataFrame de polizas de 2024**"
      ]
    },
    {
      "cell_type": "code",
      "execution_count": null,
      "metadata": {
        "id": "zWy2BhthED_t"
      },
      "outputs": [],
      "source": [
        "seg_2024.head(5)"
      ]
    },
    {
      "cell_type": "code",
      "execution_count": null,
      "metadata": {
        "id": "kanu61H4EX2m"
      },
      "outputs": [],
      "source": [
        "seg_2024.info()"
      ]
    },
    {
      "cell_type": "code",
      "execution_count": null,
      "metadata": {
        "id": "GicO729OEa99"
      },
      "outputs": [],
      "source": [
        "seg_2024[\"Poliza\"] = seg_2024[\"Poliza\"].astype(np.str_)\n",
        "seg_2024[\"Seguro\"] = seg_2024[\"Seguro\"].astype(np.int8)\n",
        "seg_2024[\"Género\"] = seg_2024[\"Género\"].astype(np.str_)\n",
        "seg_2024[\"Edad\"] = seg_2024[\"Edad\"].astype(np.int8)\n",
        "seg_2024[\"Ingresos\"] = seg_2024[\"Ingresos\"].astype(np.int32)\n",
        "seg_2024[\"Activo\"] = seg_2024[\"Activo\"].astype(np.str_)"
      ]
    },
    {
      "cell_type": "code",
      "execution_count": null,
      "metadata": {
        "id": "4UobEeE3EzH1"
      },
      "outputs": [],
      "source": [
        "seg_2024.info()"
      ]
    },
    {
      "cell_type": "code",
      "execution_count": null,
      "metadata": {
        "id": "434II_AxE4fF"
      },
      "outputs": [],
      "source": [
        "seg_2024.isnull().sum()"
      ]
    },
    {
      "cell_type": "code",
      "execution_count": null,
      "metadata": {
        "id": "etOvH46hE_L1"
      },
      "outputs": [],
      "source": [
        "seg_2024[\"Franja etaria\"] = 0\n",
        "seg_2024[\"Categoría\"] = 0"
      ]
    },
    {
      "cell_type": "code",
      "execution_count": null,
      "metadata": {
        "id": "b-1K0TDgFQft"
      },
      "outputs": [],
      "source": [
        "def etar (x):\n",
        "  if x < 30:\n",
        "    return \"Joven\"\n",
        "  elif x <= 55:\n",
        "    return \"Adulto\"\n",
        "  elif x > 55:\n",
        "    return \"Adulto mayor\""
      ]
    },
    {
      "cell_type": "code",
      "execution_count": null,
      "metadata": {
        "id": "5E00_iLCFT8N"
      },
      "outputs": [],
      "source": [
        "def cat (x):\n",
        "  if x < 600000:\n",
        "    return \"Bajos recursos\"\n",
        "  elif x <= 1400000:\n",
        "    return \"Recursos medios\"\n",
        "  elif x > 1400000:\n",
        "    return \"Recursos altos\""
      ]
    },
    {
      "cell_type": "code",
      "execution_count": null,
      "metadata": {
        "id": "Umo7dGzWGeEU"
      },
      "outputs": [],
      "source": [
        "def cat2 (x):\n",
        "  if x == 1:\n",
        "    return \"Seguro de alto valor\"\n",
        "  elif x == 2:\n",
        "    return \"Seguro de alto valor\"\n",
        "  elif x == 3:\n",
        "    return \"Seguro de alto valor\"\n",
        "  elif x == 4:\n",
        "    return \"Seguro de bajo valor\"\n",
        "  elif x == 5:\n",
        "    return \"Seguro de bajo valor\""
      ]
    },
    {
      "cell_type": "code",
      "execution_count": null,
      "metadata": {
        "id": "rFVLCfd4FhTU"
      },
      "outputs": [],
      "source": [
        "seg_2024[\"Franja etaria\"] = seg_2024[\"Edad\"].apply(etar).astype(np.str_)\n",
        "seg_2024[\"Categoría\"] = seg_2024[\"Ingresos\"].apply(cat).astype(np.str_)\n",
        "seg_2024[\"Categoría del Seguro\"] = seg_2024[\"Seguro\"].apply(cat2).astype(np.str_)"
      ]
    },
    {
      "cell_type": "code",
      "execution_count": null,
      "metadata": {
        "id": "56v0o1dSF2yM"
      },
      "outputs": [],
      "source": [
        "seg_2024[\"Cat_Seg_num\"] = seg_2024[\"Categoría del Seguro\"].map({\"Seguro de alto valor\": 1, \"Seguro de bajo valor\" : 0})"
      ]
    },
    {
      "cell_type": "code",
      "execution_count": null,
      "metadata": {
        "id": "XHvnv_pAFb-H"
      },
      "outputs": [],
      "source": [
        "seg_2024[\"Cat_Seg_num\"]= seg_2024[\"Cat_Seg_num\"].astype(np.int16)"
      ]
    },
    {
      "cell_type": "code",
      "execution_count": null,
      "metadata": {
        "id": "aOZG6A61T3_A"
      },
      "outputs": [],
      "source": [
        "del etar\n",
        "del cat\n",
        "del cat2"
      ]
    },
    {
      "cell_type": "markdown",
      "metadata": {
        "id": "DrRdONFGSjRS"
      },
      "source": [
        "**Limpieza del DataFrame Precios**"
      ]
    },
    {
      "cell_type": "code",
      "execution_count": null,
      "metadata": {
        "id": "6KO4B9WUSi5z"
      },
      "outputs": [],
      "source": [
        "precios.head()"
      ]
    },
    {
      "cell_type": "code",
      "execution_count": null,
      "metadata": {
        "id": "QvATxnvVTD_d"
      },
      "outputs": [],
      "source": [
        "precios.info()"
      ]
    },
    {
      "cell_type": "code",
      "execution_count": null,
      "metadata": {
        "id": "kJefAve2TIA7"
      },
      "outputs": [],
      "source": [
        "precios[\"Id seguro\"] = precios[\"Id seguro\"].astype(np.int8)\n",
        "precios[\"Seguro\"] = precios[\"Seguro\"].astype(str)\n",
        "precios[\"Junio de 2018\"] = precios[\"Junio de 2018\"].astype(np.float32)\n",
        "precios[\"Junio de 2019\"] = precios[\"Junio de 2019\"].astype(np.float32)\n",
        "precios[\"Junio de 2020\"] = precios[\"Junio de 2020\"].astype(np.float32)\n",
        "precios[\"Junio de 2021\"] = precios[\"Junio de 2021\"].astype(np.float32)\n",
        "precios[\"Junio de 2022\"] = precios[\"Junio de 2022\"].astype(np.float32)\n",
        "precios[\"Junio de 2023\"] = precios[\"Junio de 2023\"].astype(np.float32)\n",
        "precios[\"Junio de 2024\"] = precios[\"Junio de 2024\"].astype(np.float32)"
      ]
    },
    {
      "cell_type": "code",
      "execution_count": null,
      "metadata": {
        "id": "voSGAyCWTbny"
      },
      "outputs": [],
      "source": [
        "precios.rename(columns={\"Id seguro\":\"ID\"}, inplace=True)"
      ]
    },
    {
      "cell_type": "code",
      "execution_count": null,
      "metadata": {
        "id": "QoAlkVRhTfHK"
      },
      "outputs": [],
      "source": [
        "precios.info()"
      ]
    },
    {
      "cell_type": "markdown",
      "metadata": {
        "id": "8LOdn8LdHd2H"
      },
      "source": [
        "**Limpieza del DataFrame Ventas (2018-2024)**"
      ]
    },
    {
      "cell_type": "code",
      "execution_count": null,
      "metadata": {
        "id": "b756ZNdBHTBs"
      },
      "outputs": [],
      "source": [
        "ventas.head(2)"
      ]
    },
    {
      "cell_type": "code",
      "execution_count": null,
      "metadata": {
        "id": "Ff54iyX7IJYU"
      },
      "outputs": [],
      "source": [
        "ventas.info()"
      ]
    },
    {
      "cell_type": "code",
      "execution_count": null,
      "metadata": {
        "id": "ePtVgnvlIMVl"
      },
      "outputs": [],
      "source": [
        "ventas[\"Equipo\"] = ventas[\"Equipo\"].astype(str)\n",
        "ventas[\"Fecha\"] = pd.to_datetime(ventas[\"Fecha\"], format='%Y-%m-%d %H:%M:%S')"
      ]
    },
    {
      "cell_type": "code",
      "execution_count": null,
      "metadata": {
        "id": "9tY9WgUiIUZs"
      },
      "outputs": [],
      "source": [
        "ventas.rename(columns={'Ventas seguro de vida': \"Ventas de seguro de vida\"}, inplace=True)\n",
        "ventas.rename(columns={'Venta seguros de hogar': \"Ventas de seguro de hogar\"}, inplace=True)\n",
        "ventas.rename(columns={'Ventas seguro de accidentes': \"Ventas de seguro de accidentes\"}, inplace=True)\n",
        "ventas.rename(columns={'Ventas seguros de robo': \"Ventas de seguro de robo\"}, inplace=True)\n",
        "ventas.rename(columns={'Ventas seguro de desempleo': \"Ventas de seguro de desempleo\"}, inplace=True)\n",
        "ventas.rename(columns={\"Monto\": \"Monto de ventas de seguro de vida\"}, inplace=True)\n",
        "ventas.rename(columns={\"Monto.1\": \"Monto de ventas de seguro de desempleo\"}, inplace=True)\n",
        "ventas.rename(columns={\"Monto.2\": \"Monto de ventas de seguro de accidentes\"}, inplace=True)\n",
        "ventas.rename(columns={\"Monto.3\": \"Monto de ventas de seguro de hogar\"}, inplace=True)\n",
        "ventas.rename(columns={\"Monto.4\": \"Monto de ventas de seguro de robo\"}, inplace=True)"
      ]
    },
    {
      "cell_type": "code",
      "execution_count": null,
      "metadata": {
        "id": "yZOWqkJ2IdGb"
      },
      "outputs": [],
      "source": [
        "ventas.isnull().sum()"
      ]
    },
    {
      "cell_type": "code",
      "execution_count": null,
      "metadata": {
        "id": "-ATKwrRfIoVc"
      },
      "outputs": [],
      "source": [
        "def año(x):\n",
        "    # Convertir x a objeto datetime si no lo es ya\n",
        "    if isinstance(x, str):\n",
        "        x = datetime.strptime(x, \"%Y-%m-%d\")\n",
        "\n",
        "    # Comparaciones\n",
        "    if x < datetime(2019, 6, 1):\n",
        "        return 2018\n",
        "    elif x < datetime(2020, 6, 1):\n",
        "        return 2019\n",
        "    elif x < datetime(2021, 6, 1):\n",
        "        return 2020\n",
        "    elif x < datetime(2022, 6, 1):\n",
        "        return 2021\n",
        "    elif x < datetime(2023, 6, 1):\n",
        "        return 2022\n",
        "    elif x < datetime(2024, 6, 1):\n",
        "        return 2023\n",
        "    else:\n",
        "        return 2024"
      ]
    },
    {
      "cell_type": "code",
      "execution_count": null,
      "metadata": {
        "id": "1tZWvG12JQwb"
      },
      "outputs": [],
      "source": [
        "def Precios_1 (x):\n",
        "    if x == 2018:\n",
        "        return 1000.25;\n",
        "    elif x == 2019:\n",
        "        return 1500.5\n",
        "    elif x == 2020:\n",
        "        return 3200.33;\n",
        "    elif x == 2021:\n",
        "        return 4200.50;\n",
        "    elif x == 2022:\n",
        "        return 6000.99;\n",
        "    elif x == 2023:\n",
        "        return 7200.33;\n",
        "    elif x == 2024:\n",
        "        return 9500.30"
      ]
    },
    {
      "cell_type": "code",
      "execution_count": null,
      "metadata": {
        "id": "YYOvMypLJZ-K"
      },
      "outputs": [],
      "source": [
        "def Precios_2 (x):\n",
        "    if x == 2018:\n",
        "        return 475.33;\n",
        "    elif x == 2019:\n",
        "        return 923.34\n",
        "    elif x == 2020:\n",
        "        return 1900.33;\n",
        "    elif x == 2021:\n",
        "        return 2800.28;\n",
        "    elif x == 2022:\n",
        "        return 3800.25;\n",
        "    elif x == 2023:\n",
        "        return 5000.34;\n",
        "    elif x == 2024:\n",
        "        return 6500.34"
      ]
    },
    {
      "cell_type": "code",
      "execution_count": null,
      "metadata": {
        "id": "TZHImCNcJcrU"
      },
      "outputs": [],
      "source": [
        "def Precios_3 (x):\n",
        "    if x == 2018:\n",
        "        return 1200.2;\n",
        "    elif x == 2019:\n",
        "        return 1900.34\n",
        "    elif x == 2020:\n",
        "        return 3300.4;\n",
        "    elif x == 2021:\n",
        "        return 4759.33;\n",
        "    elif x == 2022:\n",
        "        return 7500.3;\n",
        "    elif x == 2023:\n",
        "        return 9000.5;\n",
        "    elif x == 2024:\n",
        "        return 15000.35"
      ]
    },
    {
      "cell_type": "code",
      "execution_count": null,
      "metadata": {
        "id": "bT2SqWBFJfSO"
      },
      "outputs": [],
      "source": [
        "def Precios_4 (x):\n",
        "    if x == 2018:\n",
        "        return 200.4;\n",
        "    elif x == 2019:\n",
        "        return 500.3\n",
        "    elif x == 2020:\n",
        "        return 1200.32;\n",
        "    elif x == 2021:\n",
        "        return 1700.25;\n",
        "    elif x == 2022:\n",
        "        return 2500.23;\n",
        "    elif x == 2023:\n",
        "        return 3500.32;\n",
        "    elif x == 2024:\n",
        "        return 4000.29"
      ]
    },
    {
      "cell_type": "code",
      "execution_count": null,
      "metadata": {
        "id": "5OdjMBOFJh3M"
      },
      "outputs": [],
      "source": [
        "def Precios_5 (x):\n",
        "    if x == 2018:\n",
        "        return 100.2;\n",
        "    elif x == 2019:\n",
        "        return 250.30\n",
        "    elif x == 2020:\n",
        "        return 400.30;\n",
        "    elif x == 2021:\n",
        "        return 500.3;\n",
        "    elif x == 2022:\n",
        "        return 1500.3;\n",
        "    elif x == 2023:\n",
        "        return 2500.65;\n",
        "    elif x == 2024:\n",
        "        return 3500.23"
      ]
    },
    {
      "cell_type": "code",
      "execution_count": null,
      "metadata": {
        "id": "XZbaWjuKJpf8"
      },
      "outputs": [],
      "source": [
        "ventas[\"Año del precio\"]= ventas[\"Fecha\"].apply(año)"
      ]
    },
    {
      "cell_type": "code",
      "execution_count": null,
      "metadata": {
        "id": "XtB5dL7_JqQL"
      },
      "outputs": [],
      "source": [
        "ventas[\"Monto de ventas de seguro de vida\"]= ventas[\"Año del precio\"].apply(Precios_1)\n",
        "ventas[\"Monto de ventas de seguro de desempleo\"]= ventas[\"Año del precio\"].apply(Precios_5)\n",
        "ventas[\"Monto de ventas de seguro de accidentes\"]= ventas[\"Año del precio\"].apply(Precios_2)\n",
        "ventas[\"Monto de ventas de seguro de hogar\"]= ventas[\"Año del precio\"].apply(Precios_3)\n",
        "ventas[\"Monto de ventas de seguro de robo\"]= ventas[\"Año del precio\"].apply(Precios_4)"
      ]
    },
    {
      "cell_type": "code",
      "execution_count": null,
      "metadata": {
        "id": "L5VeCh7TJtRT"
      },
      "outputs": [],
      "source": [
        "print (\"Ventas de seguros de vida (Unique):\", ventas[\"Ventas de seguro de vida\"].unique())\n",
        "print (\"Ventas de seguros de hogar (Unique):\", ventas[\"Ventas de seguro de hogar\"].unique())\n",
        "print (\"Ventas de seguros de accidentes (Unique):\", ventas[\"Ventas de seguro de accidentes\"].unique())\n",
        "print (\"Ventas de seguros de robo (Unique):\", ventas[\"Ventas de seguro de robo\"].unique())\n",
        "print (\"Ventas de seguros de desempleo (Unique):\", ventas[\"Ventas de seguro de desempleo\"].unique())"
      ]
    },
    {
      "cell_type": "code",
      "execution_count": null,
      "metadata": {
        "id": "nz_k0zC2J0lc"
      },
      "outputs": [],
      "source": [
        "def nan_v (x):\n",
        "    if x == 111:\n",
        "        return np.nan\n",
        "    elif x == 77:\n",
        "        return np.nan\n",
        "    elif x == 343:\n",
        "        return np.nan\n",
        "\n",
        "    else :\n",
        "        return x"
      ]
    },
    {
      "cell_type": "code",
      "execution_count": null,
      "metadata": {
        "id": "bplL6gW_J7e1"
      },
      "outputs": [],
      "source": [
        "def nan_h (x):\n",
        "    if x == 53:\n",
        "        return np.nan\n",
        "    elif x == 111:\n",
        "        return np.nan\n",
        "    elif x == 37:\n",
        "        return np.nan\n",
        "    elif x == 88:\n",
        "        return np.nan\n",
        "    else :\n",
        "        return x"
      ]
    },
    {
      "cell_type": "code",
      "execution_count": null,
      "metadata": {
        "id": "FqurkDeXJ9o7"
      },
      "outputs": [],
      "source": [
        "def nan_a (x):\n",
        "    if x == 111:\n",
        "        return np.nan\n",
        "    elif x == 444:\n",
        "        return np.nan\n",
        "\n",
        "    else :\n",
        "            return x"
      ]
    },
    {
      "cell_type": "code",
      "execution_count": null,
      "metadata": {
        "id": "pcTDOZabJ_MC"
      },
      "outputs": [],
      "source": [
        "def nan_R (x):\n",
        "    if x == 111:\n",
        "        return np.nan\n",
        "    elif x == 777:\n",
        "        return np.nan\n",
        "    elif x == 555:\n",
        "        return np.nan\n",
        "    elif x == 77:\n",
        "        return np.nan\n",
        "\n",
        "    else :\n",
        "        return x"
      ]
    },
    {
      "cell_type": "code",
      "execution_count": null,
      "metadata": {
        "id": "BRivUzuWKBSS"
      },
      "outputs": [],
      "source": [
        "def nan_d (x):\n",
        "    if x == 111:\n",
        "        return np.nan\n",
        "    elif x == 55:\n",
        "        return np.nan\n",
        "    elif x == 44:\n",
        "        return np.nan\n",
        "    elif x == 333:\n",
        "        return np.nan\n",
        "    else:\n",
        "          return x"
      ]
    },
    {
      "cell_type": "code",
      "execution_count": null,
      "metadata": {
        "id": "bY1WxjEsKDic"
      },
      "outputs": [],
      "source": [
        "ventas[\"Ventas de seguro de vida\"]= ventas[\"Ventas de seguro de vida\"].apply(nan_v)\n",
        "ventas[\"Ventas de seguro de hogar\"]= ventas[\"Ventas de seguro de hogar\"].apply(nan_h)\n",
        "ventas[\"Ventas de seguro de accidentes\"]= ventas[\"Ventas de seguro de accidentes\"].apply(nan_a)\n",
        "ventas[\"Ventas de seguro de robo\"]= ventas[\"Ventas de seguro de robo\"].apply(nan_R)\n",
        "ventas[\"Ventas de seguro de desempleo\"]= ventas[\"Ventas de seguro de desempleo\"].apply(nan_d)"
      ]
    },
    {
      "cell_type": "code",
      "execution_count": null,
      "metadata": {
        "id": "vwgTKmfBKGSr"
      },
      "outputs": [],
      "source": [
        "print (\"Ventas de seguros de vida (Unique):\", ventas[\"Ventas de seguro de vida\"].unique())\n",
        "print (\"Ventas de seguros de hogar (Unique):\", ventas[\"Ventas de seguro de hogar\"].unique())\n",
        "print (\"Ventas de seguros de accidentes (Unique):\", ventas[\"Ventas de seguro de accidentes\"].unique())\n",
        "print (\"Ventas de seguros de robo (Unique):\", ventas[\"Ventas de seguro de robo\"].unique())\n",
        "print (\"Ventas de seguros de desempleo (Unique):\", ventas[\"Ventas de seguro de desempleo\"].unique())"
      ]
    },
    {
      "cell_type": "code",
      "execution_count": null,
      "metadata": {
        "id": "yqV9IccQK6kj"
      },
      "outputs": [],
      "source": [
        "f2018 = ventas[ventas[\"Fecha\"] < \"06/01/2019\"]\n",
        "f2019 = ventas[(ventas[\"Fecha\"] >= \"2019-06-01\") & (ventas[\"Fecha\"] < \"2020-06-01\")]\n",
        "f2020 = ventas[(ventas[\"Fecha\"] >= \"2020-06-01\") & (ventas[\"Fecha\"] < \"2021-06-01\")]\n",
        "f2021 = ventas[(ventas[\"Fecha\"] >= \"2021-06-01\") & (ventas[\"Fecha\"] < \"2022-06-01\")]\n",
        "f2022 = ventas[(ventas[\"Fecha\"] >= \"2022-06-01\") & (ventas[\"Fecha\"] < \"2023-06-01\")]\n",
        "f2023 = ventas[(ventas[\"Fecha\"] >= \"2023-06-01\") & (ventas[\"Fecha\"] < \"2024-06-01\")]\n",
        "f2024 = ventas[(ventas[\"Fecha\"] >= \"2024-06-01\")]"
      ]
    },
    {
      "cell_type": "code",
      "execution_count": null,
      "metadata": {
        "id": "pnlQQtU2LBwC"
      },
      "outputs": [],
      "source": [
        "f2018G = f2018[f2018[\"Equipo\"] == \"Gomez\"]\n",
        "f2019G = f2019[f2019[\"Equipo\"] == \"Gomez\"]\n",
        "f2020G = f2020[f2020[\"Equipo\"] == \"Gomez\"]\n",
        "f2021G = f2021[f2021[\"Equipo\"] == \"Gomez\"]\n",
        "f2022G = f2022[f2022[\"Equipo\"] == \"Gomez\"]\n",
        "f2023G = f2023[f2023[\"Equipo\"] == \"Gomez\"]\n",
        "f2024G = f2024[f2024[\"Equipo\"] == \"Gomez\"]\n",
        "f2018P = f2018[f2018[\"Equipo\"] == \"Perez\"]\n",
        "f2019P = f2019[f2019[\"Equipo\"] == \"Perez\"]\n",
        "f2020P = f2020[f2020[\"Equipo\"] == \"Perez\"]\n",
        "f2021P = f2021[f2021[\"Equipo\"] == \"Perez\"]\n",
        "f2022P = f2022[f2022[\"Equipo\"] == \"Perez\"]\n",
        "f2023P = f2023[f2023[\"Equipo\"] == \"Perez\"]\n",
        "f2024P = f2024[f2024[\"Equipo\"] == \"Perez\"]\n",
        "f2018S = f2018[f2018[\"Equipo\"] == \"Santana\"]\n",
        "f2019S = f2019[f2019[\"Equipo\"] == \"Santana\"]\n",
        "f2020S = f2020[f2020[\"Equipo\"] == \"Santana\"]\n",
        "f2021S = f2021[f2021[\"Equipo\"] == \"Santana\"]\n",
        "f2022S = f2022[f2022[\"Equipo\"] == \"Santana\"]\n",
        "f2023S = f2023[f2023[\"Equipo\"] == \"Santana\"]\n",
        "f2024S = f2024[f2024[\"Equipo\"] == \"Santana\"]"
      ]
    },
    {
      "cell_type": "code",
      "execution_count": null,
      "metadata": {
        "id": "h07HD6o7LySy"
      },
      "outputs": [],
      "source": [
        "G2018 = (ventas[\"Equipo\"] == \"Gomez\") & (ventas[\"Año del precio\"] == 2018)\n",
        "G2019 = (ventas[\"Equipo\"] == \"Gomez\") & (ventas[\"Año del precio\"] == 2019)\n",
        "G2020 = (ventas[\"Equipo\"] == \"Gomez\") & (ventas[\"Año del precio\"] == 2020)\n",
        "G2021 = (ventas[\"Equipo\"] == \"Gomez\") & (ventas[\"Año del precio\"] == 2021)\n",
        "G2022 = (ventas[\"Equipo\"] == \"Gomez\") & (ventas[\"Año del precio\"] == 2022)\n",
        "G2023 = (ventas[\"Equipo\"] == \"Gomez\") & (ventas[\"Año del precio\"] == 2023)\n",
        "G2024 = (ventas[\"Equipo\"] == \"Gomez\") & (ventas[\"Año del precio\"] == 2024)\n",
        "P2018 = (ventas[\"Equipo\"] == \"Perez\") & (ventas[\"Año del precio\"] == 2018)\n",
        "P2019 = (ventas[\"Equipo\"] == \"Perez\") & (ventas[\"Año del precio\"] == 2019)\n",
        "P2020 = (ventas[\"Equipo\"] == \"Perez\") & (ventas[\"Año del precio\"] == 2020)\n",
        "P2021 = (ventas[\"Equipo\"] == \"Perez\") & (ventas[\"Año del precio\"] == 2021)\n",
        "P2022 = (ventas[\"Equipo\"] == \"Perez\") & (ventas[\"Año del precio\"] == 2022)\n",
        "P2023 = (ventas[\"Equipo\"] == \"Perez\") & (ventas[\"Año del precio\"] == 2023)\n",
        "P2024 = (ventas[\"Equipo\"] == \"Perez\") & (ventas[\"Año del precio\"] == 2024)\n",
        "S2018 = (ventas[\"Equipo\"] == \"Santana\") & (ventas[\"Año del precio\"] == 2018)\n",
        "S2019 = (ventas[\"Equipo\"] == \"Santana\") & (ventas[\"Año del precio\"] == 2019)\n",
        "S2020 = (ventas[\"Equipo\"] == \"Santana\") & (ventas[\"Año del precio\"] == 2020)\n",
        "S2021 = (ventas[\"Equipo\"] == \"Santana\") & (ventas[\"Año del precio\"] == 2021)\n",
        "S2022 = (ventas[\"Equipo\"] == \"Santana\") & (ventas[\"Año del precio\"] == 2022)\n",
        "S2023 = (ventas[\"Equipo\"] == \"Santana\") & (ventas[\"Año del precio\"] == 2023)\n",
        "S2024 = (ventas[\"Equipo\"] == \"Santana\") & (ventas[\"Año del precio\"] == 2024)"
      ]
    },
    {
      "cell_type": "code",
      "execution_count": null,
      "metadata": {
        "id": "G1vKZJE4LF4y"
      },
      "outputs": [],
      "source": [
        "F2018G_vid = f2018G[\"Ventas de seguro de vida\"].dropna().astype(np.int16)\n",
        "F2019G_vid = f2019G[\"Ventas de seguro de vida\"].dropna().astype(np.int16)\n",
        "F2020G_vid = f2020G[\"Ventas de seguro de vida\"].dropna().astype(np.int16)\n",
        "F2021G_vid = f2021G[\"Ventas de seguro de vida\"].dropna().astype(np.int16)\n",
        "F2022G_vid = f2022G[\"Ventas de seguro de vida\"].dropna().astype(np.int16)\n",
        "F2023G_vid = f2023G[\"Ventas de seguro de vida\"].dropna().astype(np.int16)\n",
        "F2024G_vid = f2024G[\"Ventas de seguro de vida\"].dropna().astype(np.int16)\n",
        "F2018P_vid= f2018P[\"Ventas de seguro de vida\"].dropna().astype(np.int16)\n",
        "F2019P_vid = f2019P[\"Ventas de seguro de vida\"].dropna().astype(np.int16)\n",
        "F2020P_vid = f2020P[\"Ventas de seguro de vida\"].dropna().astype(np.int16)\n",
        "F2021P_vid= f2021P[\"Ventas de seguro de vida\"].dropna().astype(np.int16)\n",
        "F2022P_vid = f2022P[\"Ventas de seguro de vida\"].dropna().astype(np.int16)\n",
        "F2023P_vid = f2023P[\"Ventas de seguro de vida\"].dropna().astype(np.int16)\n",
        "F2024P_vid = f2024P[\"Ventas de seguro de vida\"].dropna().astype(np.int16)\n",
        "F2018S_vid = f2018S[\"Ventas de seguro de vida\"].dropna().astype(np.int16)\n",
        "F2019S_vid = f2019S[\"Ventas de seguro de vida\"].dropna().astype(np.int16)\n",
        "F2020S_vid = f2020S[\"Ventas de seguro de vida\"].dropna().astype(np.int16)\n",
        "F2021S_vid = f2021S[\"Ventas de seguro de vida\"].dropna().astype(np.int16)\n",
        "F2022S_vid = f2022S[\"Ventas de seguro de vida\"].dropna().astype(np.int16)\n",
        "F2023S_vid = f2023S[\"Ventas de seguro de vida\"].dropna().astype(np.int16)\n",
        "F2024S_vid = f2024S[\"Ventas de seguro de vida\"].dropna().astype(np.int16)"
      ]
    },
    {
      "cell_type": "code",
      "execution_count": null,
      "metadata": {
        "id": "vAqKTYfxLLCE"
      },
      "outputs": [],
      "source": [
        "Gom_vid_m2018 = F2018G_vid.median().round(0)\n",
        "Gom_vid_m2019 = F2019G_vid.median().round(0)\n",
        "Gom_vid_m2020 = F2020G_vid.median().round(0)\n",
        "Gom_vid_m2021 = F2021G_vid.median().round(0)\n",
        "Gom_vid_m2022 = F2022G_vid.median().round(0)\n",
        "Gom_vid_m2023 = F2023G_vid.median().round(0)\n",
        "Gom_vid_m2024 = F2024G_vid.median().round(0)\n",
        "Per_vid_m2018 = F2018P_vid.median().round(0)\n",
        "Per_vid_m2019 = F2019P_vid.median().round(0)\n",
        "Per_vid_m2020 = F2020P_vid.median().round(0)\n",
        "Per_vid_m2021 = F2021P_vid.median().round(0)\n",
        "Per_vid_m2022 = F2022P_vid.median().round(0)\n",
        "Per_vid_m2023 = F2023P_vid.median().round(0)\n",
        "Per_vid_m2024 = F2024P_vid.median().round(0)\n",
        "San_vid_m2018 = F2018S_vid.median().round(0)\n",
        "San_vid_m2019 = F2019S_vid.median().round(0)\n",
        "San_vid_m2020 = F2020S_vid.median().round(0)\n",
        "San_vid_m2021 = F2021S_vid.median().round(0)\n",
        "San_vid_m2022 = F2022S_vid.median().round(0)\n",
        "San_vid_m2023 = F2023S_vid.median().round(0)\n",
        "San_vid_m2024 = F2024S_vid.median().round(0)"
      ]
    },
    {
      "cell_type": "code",
      "execution_count": null,
      "metadata": {
        "id": "sfgJfN84L1oi"
      },
      "outputs": [],
      "source": [
        "ventas.loc[G2018, \"Ventas de seguro de vida\"] = ventas.loc[G2018, \"Ventas de seguro de vida\"].fillna(Gom_vid_m2018).astype(np.int16)\n",
        "ventas.loc[G2019, \"Ventas de seguro de vida\"] = ventas.loc[G2019, \"Ventas de seguro de vida\"].fillna(Gom_vid_m2019).astype(np.int16)\n",
        "ventas.loc[G2020, \"Ventas de seguro de vida\"] = ventas.loc[G2020, \"Ventas de seguro de vida\"].fillna(Gom_vid_m2020).astype(np.int16)\n",
        "ventas.loc[G2021, \"Ventas de seguro de vida\"] = ventas.loc[G2021, \"Ventas de seguro de vida\"].fillna(Gom_vid_m2021).astype(np.int16)\n",
        "ventas.loc[G2022, \"Ventas de seguro de vida\"] = ventas.loc[G2022, \"Ventas de seguro de vida\"].fillna(Gom_vid_m2022).astype(np.int16)\n",
        "ventas.loc[G2023, \"Ventas de seguro de vida\"] = ventas.loc[G2023, \"Ventas de seguro de vida\"].fillna(Gom_vid_m2023).astype(np.int16)\n",
        "ventas.loc[G2024, \"Ventas de seguro de vida\"] = ventas.loc[G2024, \"Ventas de seguro de vida\"].fillna(Gom_vid_m2024).astype(np.int16)\n",
        "ventas.loc[P2018, \"Ventas de seguro de vida\"] = ventas.loc[P2018, \"Ventas de seguro de vida\"].fillna(Per_vid_m2018).astype(np.int16)\n",
        "ventas.loc[P2019, \"Ventas de seguro de vida\"] = ventas.loc[P2019, \"Ventas de seguro de vida\"].fillna(Per_vid_m2019).astype(np.int16)\n",
        "ventas.loc[P2020, \"Ventas de seguro de vida\"] = ventas.loc[P2020, \"Ventas de seguro de vida\"].fillna(Per_vid_m2020).astype(np.int16)\n",
        "ventas.loc[P2021, \"Ventas de seguro de vida\"] = ventas.loc[P2021, \"Ventas de seguro de vida\"].fillna(Per_vid_m2021).astype(np.int16)\n",
        "ventas.loc[P2022, \"Ventas de seguro de vida\"] = ventas.loc[P2022, \"Ventas de seguro de vida\"].fillna(Per_vid_m2022).astype(np.int16)\n",
        "ventas.loc[P2023, \"Ventas de seguro de vida\"] = ventas.loc[P2023, \"Ventas de seguro de vida\"].fillna(Per_vid_m2023).astype(np.int16)\n",
        "ventas.loc[P2024, \"Ventas de seguro de vida\"] = ventas.loc[P2024, \"Ventas de seguro de vida\"].fillna(Per_vid_m2024).astype(np.int16)\n",
        "ventas.loc[S2018, \"Ventas de seguro de vida\"] = ventas.loc[S2018, \"Ventas de seguro de vida\"].fillna(San_vid_m2018).astype(np.int16)\n",
        "ventas.loc[S2019, \"Ventas de seguro de vida\"] = ventas.loc[S2019, \"Ventas de seguro de vida\"].fillna(San_vid_m2019).astype(np.int16)\n",
        "ventas.loc[S2020, \"Ventas de seguro de vida\"] = ventas.loc[S2020, \"Ventas de seguro de vida\"].fillna(San_vid_m2020).astype(np.int16)\n",
        "ventas.loc[S2021, \"Ventas de seguro de vida\"] = ventas.loc[S2021, \"Ventas de seguro de vida\"].fillna(San_vid_m2021).astype(np.int16)\n",
        "ventas.loc[S2022, \"Ventas de seguro de vida\"] = ventas.loc[S2022, \"Ventas de seguro de vida\"].fillna(San_vid_m2022).astype(np.int16)\n",
        "ventas.loc[S2023, \"Ventas de seguro de vida\"] = ventas.loc[S2023, \"Ventas de seguro de vida\"].fillna(San_vid_m2023).astype(np.int16)\n",
        "ventas.loc[S2024, \"Ventas de seguro de vida\"] = ventas.loc[S2024, \"Ventas de seguro de vida\"].fillna(San_vid_m2024).astype(np.int16)"
      ]
    },
    {
      "cell_type": "code",
      "execution_count": null,
      "metadata": {
        "id": "zLqTNN_XMD74"
      },
      "outputs": [],
      "source": [
        "F2018G_hog = f2018G[\"Ventas de seguro de hogar\"].dropna().astype(np.int16)\n",
        "F2019G_hog = f2019G[\"Ventas de seguro de hogar\"].dropna().astype(np.int16)\n",
        "F2020G_hog = f2020G[\"Ventas de seguro de hogar\"].dropna().astype(np.int16)\n",
        "F2021G_hog = f2021G[\"Ventas de seguro de hogar\"].dropna().astype(np.int16)\n",
        "F2022G_hog = f2022G[\"Ventas de seguro de hogar\"].dropna().astype(np.int16)\n",
        "F2023G_hog = f2023G[\"Ventas de seguro de hogar\"].dropna().astype(np.int16)\n",
        "F2024G_hog = f2024G[\"Ventas de seguro de hogar\"].dropna().astype(np.int16)\n",
        "F2018P_hog = f2018P[\"Ventas de seguro de hogar\"].dropna().astype(np.int16)\n",
        "F2019P_hog = f2019P[\"Ventas de seguro de hogar\"].dropna().astype(np.int16)\n",
        "F2020P_hog = f2020P[\"Ventas de seguro de hogar\"].dropna().astype(np.int16)\n",
        "F2021P_hog = f2021P[\"Ventas de seguro de hogar\"].dropna().astype(np.int16)\n",
        "F2022P_hog = f2022P[\"Ventas de seguro de hogar\"].dropna().astype(np.int16)\n",
        "F2023P_hog = f2023P[\"Ventas de seguro de hogar\"].dropna().astype(np.int16)\n",
        "F2024P_hog = f2024P[\"Ventas de seguro de hogar\"].dropna().astype(np.int16)\n",
        "F2018S_hog = f2018S[\"Ventas de seguro de hogar\"].dropna().astype(np.int16)\n",
        "F2019S_hog = f2019S[\"Ventas de seguro de hogar\"].dropna().astype(np.int16)\n",
        "F2020S_hog = f2020S[\"Ventas de seguro de hogar\"].dropna().astype(np.int16)\n",
        "F2021S_hog = f2021S[\"Ventas de seguro de hogar\"].dropna().astype(np.int16)\n",
        "F2022S_hog = f2022S[\"Ventas de seguro de hogar\"].dropna().astype(np.int16)\n",
        "F2023S_hog = f2023S[\"Ventas de seguro de hogar\"].dropna().astype(np.int16)\n",
        "F2024S_hog = f2024S[\"Ventas de seguro de hogar\"].dropna().astype(np.int16)"
      ]
    },
    {
      "cell_type": "code",
      "execution_count": null,
      "metadata": {
        "id": "sHKjno6yMJC8"
      },
      "outputs": [],
      "source": [
        "Gom_hog_m2018 = F2018G_hog.median().round(0)\n",
        "Gom_hog_m2019 = F2019G_hog.median().round(0)\n",
        "Gom_hog_m2020 = F2020G_hog.median().round(0)\n",
        "Gom_hog_m2021 = F2021G_hog.median().round(0)\n",
        "Gom_hog_m2022 = F2022G_hog.median().round(0)\n",
        "Gom_hog_m2023 = F2023G_hog.median().round(0)\n",
        "Gom_hog_m2024 = F2024G_hog.median().round(0)\n",
        "Per_hog_m2018 = F2018P_hog.median().round(0)\n",
        "Per_hog_m2019 = F2019P_hog.median().round(0)\n",
        "Per_hog_m2020 = F2020P_hog.median().round(0)\n",
        "Per_hog_m2021 = F2021P_hog.median().round(0)\n",
        "Per_hog_m2022 = F2022P_hog.median().round(0)\n",
        "Per_hog_m2023 = F2023P_hog.median().round(0)\n",
        "Per_hog_m2024 = F2024P_hog.median().round(0)\n",
        "San_hog_m2018 = F2018S_hog.median().round(0)\n",
        "San_hog_m2019 = F2019S_hog.median().round(0)\n",
        "San_hog_m2020 = F2020S_hog.median().round(0)\n",
        "San_hog_m2021 = F2021S_hog.median().round(0)\n",
        "San_hog_m2022 = F2022S_hog.median().round(0)\n",
        "San_hog_m2023 = F2023S_hog.median().round(0)\n",
        "San_hog_m2024 = F2024S_hog.median().round(0)"
      ]
    },
    {
      "cell_type": "code",
      "execution_count": null,
      "metadata": {
        "id": "95B5iFwHMMtD"
      },
      "outputs": [],
      "source": [
        "ventas.loc[G2018, \"Ventas de seguro de hogar\"] = ventas.loc[G2018, \"Ventas de seguro de hogar\"].fillna(Gom_hog_m2018).astype(np.int16)\n",
        "ventas.loc[G2019, \"Ventas de seguro de hogar\"] = ventas.loc[G2019, \"Ventas de seguro de hogar\"].fillna(Gom_hog_m2019).astype(np.int16)\n",
        "ventas.loc[G2020, \"Ventas de seguro de hogar\"] = ventas.loc[G2020, \"Ventas de seguro de hogar\"].fillna(Gom_hog_m2020).astype(np.int16)\n",
        "ventas.loc[G2021, \"Ventas de seguro de hogar\"] = ventas.loc[G2021, \"Ventas de seguro de hogar\"].fillna(Gom_hog_m2021).astype(np.int16)\n",
        "ventas.loc[G2022, \"Ventas de seguro de hogar\"] = ventas.loc[G2022, \"Ventas de seguro de hogar\"].fillna(Gom_hog_m2022).astype(np.int16)\n",
        "ventas.loc[G2023, \"Ventas de seguro de hogar\"] = ventas.loc[G2023, \"Ventas de seguro de hogar\"].fillna(Gom_hog_m2023).astype(np.int16)\n",
        "ventas.loc[G2024, \"Ventas de seguro de hogar\"] = ventas.loc[G2024, \"Ventas de seguro de hogar\"].fillna(Gom_hog_m2024).astype(np.int16)\n",
        "ventas.loc[P2018, \"Ventas de seguro de hogar\"] = ventas.loc[P2018, \"Ventas de seguro de hogar\"].fillna(Per_hog_m2018).astype(np.int16)\n",
        "ventas.loc[P2019, \"Ventas de seguro de hogar\"] = ventas.loc[P2019, \"Ventas de seguro de hogar\"].fillna(Per_hog_m2019).astype(np.int16)\n",
        "ventas.loc[P2020, \"Ventas de seguro de hogar\"] = ventas.loc[P2020, \"Ventas de seguro de hogar\"].fillna(Per_hog_m2020).astype(np.int16)\n",
        "ventas.loc[P2021, \"Ventas de seguro de hogar\"] = ventas.loc[P2021, \"Ventas de seguro de hogar\"].fillna(Per_hog_m2021).astype(np.int16)\n",
        "ventas.loc[P2022, \"Ventas de seguro de hogar\"] = ventas.loc[P2022, \"Ventas de seguro de hogar\"].fillna(Per_hog_m2022).astype(np.int16)\n",
        "ventas.loc[P2023, \"Ventas de seguro de hogar\"] = ventas.loc[P2023, \"Ventas de seguro de hogar\"].fillna(Per_hog_m2023).astype(np.int16)\n",
        "ventas.loc[P2024, \"Ventas de seguro de hogar\"] = ventas.loc[P2024, \"Ventas de seguro de hogar\"].fillna(Per_hog_m2024).astype(np.int16)\n",
        "ventas.loc[S2018, \"Ventas de seguro de hogar\"] = ventas.loc[S2018, \"Ventas de seguro de hogar\"].fillna(San_hog_m2018).astype(np.int16)\n",
        "ventas.loc[S2019, \"Ventas de seguro de hogar\"] = ventas.loc[S2019, \"Ventas de seguro de hogar\"].fillna(San_hog_m2019).astype(np.int16)\n",
        "ventas.loc[S2020, \"Ventas de seguro de hogar\"] = ventas.loc[S2020, \"Ventas de seguro de hogar\"].fillna(San_hog_m2020).astype(np.int16)\n",
        "ventas.loc[S2021, \"Ventas de seguro de hogar\"] = ventas.loc[S2021, \"Ventas de seguro de hogar\"].fillna(San_hog_m2021).astype(np.int16)\n",
        "ventas.loc[S2022, \"Ventas de seguro de hogar\"] = ventas.loc[S2022, \"Ventas de seguro de hogar\"].fillna(San_hog_m2022).astype(np.int16)\n",
        "ventas.loc[S2023, \"Ventas de seguro de hogar\"] = ventas.loc[S2023, \"Ventas de seguro de hogar\"].fillna(San_hog_m2023).astype(np.int16)\n",
        "ventas.loc[S2024, \"Ventas de seguro de hogar\"] = ventas.loc[S2024, \"Ventas de seguro de hogar\"].fillna(San_hog_m2024).astype(np.int16)"
      ]
    },
    {
      "cell_type": "code",
      "execution_count": null,
      "metadata": {
        "id": "l3ut_gijMQey"
      },
      "outputs": [],
      "source": [
        "F2018G_acc = f2018G[\"Ventas de seguro de accidentes\"].dropna().astype(np.int16)\n",
        "F2019G_acc = f2019G[\"Ventas de seguro de accidentes\"].dropna().astype(np.int16)\n",
        "F2020G_acc = f2020G[\"Ventas de seguro de accidentes\"].dropna().astype(np.int16)\n",
        "F2021G_acc = f2021G[\"Ventas de seguro de accidentes\"].dropna().astype(np.int16)\n",
        "F2022G_acc = f2022G[\"Ventas de seguro de accidentes\"].dropna().astype(np.int16)\n",
        "F2023G_acc = f2023G[\"Ventas de seguro de accidentes\"].dropna().astype(np.int16)\n",
        "F2024G_acc = f2024G[\"Ventas de seguro de accidentes\"].dropna().astype(np.int16)\n",
        "F2018P_acc = f2018P[\"Ventas de seguro de accidentes\"].dropna().astype(np.int16)\n",
        "F2019P_acc = f2019P[\"Ventas de seguro de accidentes\"].dropna().astype(np.int16)\n",
        "F2020P_acc = f2020P[\"Ventas de seguro de accidentes\"].dropna().astype(np.int16)\n",
        "F2021P_acc = f2021P[\"Ventas de seguro de accidentes\"].dropna().astype(np.int16)\n",
        "F2022P_acc = f2022P[\"Ventas de seguro de accidentes\"].dropna().astype(np.int16)\n",
        "F2023P_acc = f2023P[\"Ventas de seguro de accidentes\"].dropna().astype(np.int16)\n",
        "F2024P_acc = f2024P[\"Ventas de seguro de accidentes\"].dropna().astype(np.int16)\n",
        "F2018S_acc = f2018S[\"Ventas de seguro de accidentes\"].dropna().astype(np.int16)\n",
        "F2019S_acc = f2019S[\"Ventas de seguro de accidentes\"].dropna().astype(np.int16)\n",
        "F2020S_acc = f2020S[\"Ventas de seguro de accidentes\"].dropna().astype(np.int16)\n",
        "F2021S_acc = f2021S[\"Ventas de seguro de accidentes\"].dropna().astype(np.int16)\n",
        "F2022S_acc = f2022S[\"Ventas de seguro de accidentes\"].dropna().astype(np.int16)\n",
        "F2023S_acc = f2023S[\"Ventas de seguro de accidentes\"].dropna().astype(np.int16)\n",
        "F2024S_acc = f2024S[\"Ventas de seguro de accidentes\"].dropna().astype(np.int16)"
      ]
    },
    {
      "cell_type": "code",
      "execution_count": null,
      "metadata": {
        "id": "kvIbpR-OMTrs"
      },
      "outputs": [],
      "source": [
        "Gom_acc_m2018 = F2018G_acc.median().round(0)\n",
        "Gom_acc_m2019 = F2019G_acc.median().round(0)\n",
        "Gom_acc_m2020 = F2020G_acc.median().round(0)\n",
        "Gom_acc_m2021 = F2021G_acc.median().round(0)\n",
        "Gom_acc_m2022 = F2022G_acc.median().round(0)\n",
        "Gom_acc_m2023 = F2023G_acc.median().round(0)\n",
        "Gom_acc_m2024 = F2024G_acc.median().round(0)\n",
        "Per_acc_m2018 = F2018P_acc.median().round(0)\n",
        "Per_acc_m2019 = F2019P_acc.median().round(0)\n",
        "Per_acc_m2020 = F2020P_acc.median().round(0)\n",
        "Per_acc_m2021 = F2021P_acc.median().round(0)\n",
        "Per_acc_m2022 = F2022P_acc.median().round(0)\n",
        "Per_acc_m2023 = F2023P_acc.median().round(0)\n",
        "Per_acc_m2024 = F2024P_acc.median().round(0)\n",
        "San_acc_m2018 = F2018S_acc.median().round(0)\n",
        "San_acc_m2019 = F2019S_acc.median().round(0)\n",
        "San_acc_m2020 = F2020S_acc.median().round(0)\n",
        "San_acc_m2021 = F2021S_acc.median().round(0)\n",
        "San_acc_m2022 = F2022S_acc.median().round(0)\n",
        "San_acc_m2023 = F2023S_acc.median().round(0)\n",
        "San_acc_m2024 = F2024S_acc.median().round(0)"
      ]
    },
    {
      "cell_type": "code",
      "execution_count": null,
      "metadata": {
        "id": "v67nUS4CMXFK"
      },
      "outputs": [],
      "source": [
        "ventas.loc[G2018, \"Ventas de seguro de accidentes\"] = ventas.loc[G2018, \"Ventas de seguro de accidentes\"].fillna(Gom_acc_m2018).astype(np.int16)\n",
        "ventas.loc[G2019, \"Ventas de seguro de accidentes\"] = ventas.loc[G2019, \"Ventas de seguro de accidentes\"].fillna(Gom_acc_m2019).astype(np.int16)\n",
        "ventas.loc[G2020, \"Ventas de seguro de accidentes\"] = ventas.loc[G2020, \"Ventas de seguro de accidentes\"].fillna(Gom_acc_m2020).astype(np.int16)\n",
        "ventas.loc[G2021, \"Ventas de seguro de accidentes\"] = ventas.loc[G2021, \"Ventas de seguro de accidentes\"].fillna(Gom_acc_m2021).astype(np.int16)\n",
        "ventas.loc[G2022, \"Ventas de seguro de accidentes\"] = ventas.loc[G2022, \"Ventas de seguro de accidentes\"].fillna(Gom_acc_m2022).astype(np.int16)\n",
        "ventas.loc[G2023, \"Ventas de seguro de accidentes\"] = ventas.loc[G2023, \"Ventas de seguro de accidentes\"].fillna(Gom_acc_m2023).astype(np.int16)\n",
        "ventas.loc[G2024, \"Ventas de seguro de accidentes\"] = ventas.loc[G2024, \"Ventas de seguro de accidentes\"].fillna(Gom_acc_m2024).astype(np.int16)\n",
        "ventas.loc[P2018, \"Ventas de seguro de accidentes\"] = ventas.loc[P2018, \"Ventas de seguro de accidentes\"].fillna(Per_acc_m2018).astype(np.int16)\n",
        "ventas.loc[P2019, \"Ventas de seguro de accidentes\"] = ventas.loc[P2019, \"Ventas de seguro de accidentes\"].fillna(Per_acc_m2019).astype(np.int16)\n",
        "ventas.loc[P2020, \"Ventas de seguro de accidentes\"] = ventas.loc[P2020, \"Ventas de seguro de accidentes\"].fillna(Per_acc_m2020).astype(np.int16)\n",
        "ventas.loc[P2021, \"Ventas de seguro de accidentes\"] = ventas.loc[P2021, \"Ventas de seguro de accidentes\"].fillna(Per_acc_m2021).astype(np.int16)\n",
        "ventas.loc[P2022, \"Ventas de seguro de accidentes\"] = ventas.loc[P2022, \"Ventas de seguro de accidentes\"].fillna(Per_acc_m2022).astype(np.int16)\n",
        "ventas.loc[P2023, \"Ventas de seguro de accidentes\"] = ventas.loc[P2023, \"Ventas de seguro de accidentes\"].fillna(Per_acc_m2023).astype(np.int16)\n",
        "ventas.loc[P2024, \"Ventas de seguro de accidentes\"] = ventas.loc[P2024, \"Ventas de seguro de accidentes\"].fillna(Per_acc_m2024).astype(np.int16)\n",
        "ventas.loc[S2018, \"Ventas de seguro de accidentes\"] = ventas.loc[S2018, \"Ventas de seguro de accidentes\"].fillna(San_acc_m2018).astype(np.int16)\n",
        "ventas.loc[S2019, \"Ventas de seguro de accidentes\"] = ventas.loc[S2019, \"Ventas de seguro de accidentes\"].fillna(San_acc_m2019).astype(np.int16)\n",
        "ventas.loc[S2020, \"Ventas de seguro de accidentes\"] = ventas.loc[S2020, \"Ventas de seguro de accidentes\"].fillna(San_acc_m2020).astype(np.int16)\n",
        "ventas.loc[S2021, \"Ventas de seguro de accidentes\"] = ventas.loc[S2021, \"Ventas de seguro de accidentes\"].fillna(San_acc_m2021).astype(np.int16)\n",
        "ventas.loc[S2022, \"Ventas de seguro de accidentes\"] = ventas.loc[S2022, \"Ventas de seguro de accidentes\"].fillna(San_acc_m2022).astype(np.int16)\n",
        "ventas.loc[S2023, \"Ventas de seguro de accidentes\"] = ventas.loc[S2023, \"Ventas de seguro de accidentes\"].fillna(San_acc_m2023).astype(np.int16)\n",
        "ventas.loc[S2024, \"Ventas de seguro de accidentes\"] = ventas.loc[S2024, \"Ventas de seguro de accidentes\"].fillna(San_acc_m2024).astype(np.int16)\n"
      ]
    },
    {
      "cell_type": "code",
      "execution_count": null,
      "metadata": {
        "id": "GTrXxVnDMfWS"
      },
      "outputs": [],
      "source": [
        "F2018G_des = f2018G[\"Ventas de seguro de desempleo\"].dropna().astype(np.int16)\n",
        "F2019G_des = f2019G[\"Ventas de seguro de desempleo\"].dropna().astype(np.int16)\n",
        "F2020G_des = f2020G[\"Ventas de seguro de desempleo\"].dropna().astype(np.int16)\n",
        "F2021G_des = f2021G[\"Ventas de seguro de desempleo\"].dropna().astype(np.int16)\n",
        "F2022G_des = f2022G[\"Ventas de seguro de desempleo\"].dropna().astype(np.int16)\n",
        "F2023G_des = f2023G[\"Ventas de seguro de desempleo\"].dropna().astype(np.int16)\n",
        "F2023G_des = f2023G[\"Ventas de seguro de desempleo\"].dropna().astype(np.int16)\n",
        "F2024G_des = f2024G[\"Ventas de seguro de desempleo\"].dropna().astype(np.int16)\n",
        "F2018P_des = f2018P[\"Ventas de seguro de desempleo\"].dropna().astype(np.int16)\n",
        "F2019P_des = f2019P[\"Ventas de seguro de desempleo\"].dropna().astype(np.int16)\n",
        "F2020P_des = f2020P[\"Ventas de seguro de desempleo\"].dropna().astype(np.int16)\n",
        "F2021P_des = f2021P[\"Ventas de seguro de desempleo\"].dropna().astype(np.int16)\n",
        "F2022P_des = f2022P[\"Ventas de seguro de desempleo\"].dropna().astype(np.int16)\n",
        "F2023P_des = f2023P[\"Ventas de seguro de desempleo\"].dropna().astype(np.int16)\n",
        "F2024P_des = f2024P[\"Ventas de seguro de desempleo\"].dropna().astype(np.int16)\n",
        "F2018S_des = f2018S[\"Ventas de seguro de desempleo\"].dropna().astype(np.int16)\n",
        "F2019S_des = f2019S[\"Ventas de seguro de desempleo\"].dropna().astype(np.int16)\n",
        "F2020S_des = f2020S[\"Ventas de seguro de desempleo\"].dropna().astype(np.int16)\n",
        "F2021S_des = f2021S[\"Ventas de seguro de desempleo\"].dropna().astype(np.int16)\n",
        "F2022S_des = f2022S[\"Ventas de seguro de desempleo\"].dropna().astype(np.int16)\n",
        "F2023S_des = f2023S[\"Ventas de seguro de desempleo\"].dropna().astype(np.int16)\n",
        "F2024S_des = f2024S[\"Ventas de seguro de desempleo\"].dropna().astype(np.int16)"
      ]
    },
    {
      "cell_type": "code",
      "execution_count": null,
      "metadata": {
        "id": "mzbjlhDRMmd6"
      },
      "outputs": [],
      "source": [
        "Gom_des_m2018 = F2018G_des.median().round(0)\n",
        "Gom_des_m2019 = F2019G_des.median().round(0)\n",
        "Gom_des_m2020 = F2020G_des.median().round(0)\n",
        "Gom_des_m2021 = F2021G_des.median().round(0)\n",
        "Gom_des_m2022 = F2022G_des.median().round(0)\n",
        "Gom_des_m2023 = F2023G_des.median().round(0)\n",
        "Gom_des_m2024 = F2024G_des.median().round(0)\n",
        "Per_des_m2018 = F2018P_des.median().round(0)\n",
        "Per_des_m2019 = F2019P_des.median().round(0)\n",
        "Per_des_m2020 = F2020P_des.median().round(0)\n",
        "Per_des_m2021 = F2021P_des.median().round(0)\n",
        "Per_des_m2022 = F2022P_des.median().round(0)\n",
        "Per_des_m2023 = F2023P_des.median().round(0)\n",
        "Per_des_m2024 = F2024P_des.median().round(0)\n",
        "San_des_m2018 = F2018S_des.median().round(0)\n",
        "San_des_m2019 = F2019S_des.median().round(0)\n",
        "San_des_m2020 = F2020S_des.median().round(0)\n",
        "San_des_m2021 = F2021S_des.median().round(0)\n",
        "San_des_m2022 = F2022S_des.median().round(0)\n",
        "San_des_m2023 = F2023S_des.median().round(0)\n",
        "San_des_m2024 = F2024S_des.median().round(0)"
      ]
    },
    {
      "cell_type": "code",
      "execution_count": null,
      "metadata": {
        "id": "Fw0ASBIkMvWq"
      },
      "outputs": [],
      "source": [
        "ventas.loc[G2018, \"Ventas de seguro de desempleo\"] = ventas.loc[G2018, \"Ventas de seguro de desempleo\"].fillna(Gom_des_m2018).astype(np.int16)\n",
        "ventas.loc[G2019, \"Ventas de seguro de desempleo\"] = ventas.loc[G2019, \"Ventas de seguro de desempleo\"].fillna(Gom_des_m2019).astype(np.int16)\n",
        "ventas.loc[G2020, \"Ventas de seguro de desempleo\"] = ventas.loc[G2020, \"Ventas de seguro de desempleo\"].fillna(Gom_des_m2020).astype(np.int16)\n",
        "ventas.loc[G2021, \"Ventas de seguro de desempleo\"] = ventas.loc[G2021, \"Ventas de seguro de desempleo\"].fillna(Gom_des_m2021).astype(np.int16)\n",
        "ventas.loc[G2022, \"Ventas de seguro de desempleo\"] = ventas.loc[G2022, \"Ventas de seguro de desempleo\"].fillna(Gom_des_m2022).astype(np.int16)\n",
        "ventas.loc[G2023, \"Ventas de seguro de desempleo\"] = ventas.loc[G2023, \"Ventas de seguro de desempleo\"].fillna(Gom_des_m2023).astype(np.int16)\n",
        "ventas.loc[G2024, \"Ventas de seguro de desempleo\"] = ventas.loc[G2024, \"Ventas de seguro de desempleo\"].fillna(Gom_des_m2024).astype(np.int16)\n",
        "ventas.loc[P2018, \"Ventas de seguro de desempleo\"] = ventas.loc[P2018, \"Ventas de seguro de desempleo\"].fillna(Per_des_m2018).astype(np.int16)\n",
        "ventas.loc[P2019, \"Ventas de seguro de desempleo\"] = ventas.loc[P2019, \"Ventas de seguro de desempleo\"].fillna(Per_des_m2019).astype(np.int16)\n",
        "ventas.loc[P2020, \"Ventas de seguro de desempleo\"] = ventas.loc[P2020, \"Ventas de seguro de desempleo\"].fillna(Per_des_m2020).astype(np.int16)\n",
        "ventas.loc[P2021, \"Ventas de seguro de desempleo\"] = ventas.loc[P2021, \"Ventas de seguro de desempleo\"].fillna(Per_des_m2021).astype(np.int16)\n",
        "ventas.loc[P2022, \"Ventas de seguro de desempleo\"] = ventas.loc[P2022, \"Ventas de seguro de desempleo\"].fillna(Per_des_m2022).astype(np.int16)\n",
        "ventas.loc[P2023, \"Ventas de seguro de desempleo\"] = ventas.loc[P2023, \"Ventas de seguro de desempleo\"].fillna(Per_des_m2023).astype(np.int16)\n",
        "ventas.loc[P2024, \"Ventas de seguro de desempleo\"] = ventas.loc[P2024, \"Ventas de seguro de desempleo\"].fillna(Per_des_m2024).astype(np.int16)\n",
        "ventas.loc[S2018, \"Ventas de seguro de desempleo\"] = ventas.loc[S2018, \"Ventas de seguro de desempleo\"].fillna(San_des_m2018).astype(np.int16)\n",
        "ventas.loc[S2019, \"Ventas de seguro de desempleo\"] = ventas.loc[S2019, \"Ventas de seguro de desempleo\"].fillna(San_des_m2019).astype(np.int16)\n",
        "ventas.loc[S2020, \"Ventas de seguro de desempleo\"] = ventas.loc[S2020, \"Ventas de seguro de desempleo\"].fillna(San_des_m2020).astype(np.int16)\n",
        "ventas.loc[S2021, \"Ventas de seguro de desempleo\"] = ventas.loc[S2021, \"Ventas de seguro de desempleo\"].fillna(San_des_m2021).astype(np.int16)\n",
        "ventas.loc[S2022, \"Ventas de seguro de desempleo\"] = ventas.loc[S2022, \"Ventas de seguro de desempleo\"].fillna(San_des_m2022).astype(np.int16)\n",
        "ventas.loc[S2023, \"Ventas de seguro de desempleo\"] = ventas.loc[S2023, \"Ventas de seguro de desempleo\"].fillna(San_des_m2023).astype(np.int16)\n",
        "ventas.loc[S2024, \"Ventas de seguro de desempleo\"] = ventas.loc[S2024, \"Ventas de seguro de desempleo\"].fillna(San_des_m2024).astype(np.int16)"
      ]
    },
    {
      "cell_type": "code",
      "execution_count": null,
      "metadata": {
        "id": "mW1RgugmMzIT"
      },
      "outputs": [],
      "source": [
        "F2018G_rob = f2018G[\"Ventas de seguro de robo\"].dropna().astype(np.int16)\n",
        "F2019G_rob = f2019G[\"Ventas de seguro de robo\"].dropna().astype(np.int16)\n",
        "F2020G_rob = f2020G[\"Ventas de seguro de robo\"].dropna().astype(np.int16)\n",
        "F2021G_rob = f2021G[\"Ventas de seguro de robo\"].dropna().astype(np.int16)\n",
        "F2022G_rob = f2022G[\"Ventas de seguro de robo\"].dropna().astype(np.int16)\n",
        "F2023G_rob = f2023G[\"Ventas de seguro de robo\"].dropna().astype(np.int16)\n",
        "F2024G_rob = f2024G[\"Ventas de seguro de robo\"].dropna().astype(np.int16)\n",
        "F2018P_rob = f2018P[\"Ventas de seguro de robo\"].dropna().astype(np.int16)\n",
        "F2019P_rob = f2019P[\"Ventas de seguro de robo\"].dropna().astype(np.int16)\n",
        "F2020P_rob = f2020P[\"Ventas de seguro de robo\"].dropna().astype(np.int16)\n",
        "F2021P_rob = f2021P[\"Ventas de seguro de robo\"].dropna().astype(np.int16)\n",
        "F2022P_rob = f2022P[\"Ventas de seguro de robo\"].dropna().astype(np.int16)\n",
        "F2023P_rob = f2023P[\"Ventas de seguro de robo\"].dropna().astype(np.int16)\n",
        "F2024P_rob = f2024P[\"Ventas de seguro de robo\"].dropna().astype(np.int16)\n",
        "F2018S_rob = f2018S[\"Ventas de seguro de robo\"].dropna().astype(np.int16)\n",
        "F2019S_rob = f2019S[\"Ventas de seguro de robo\"].dropna().astype(np.int16)\n",
        "F2020S_rob = f2020S[\"Ventas de seguro de robo\"].dropna().astype(np.int16)\n",
        "F2021S_rob = f2021S[\"Ventas de seguro de robo\"].dropna().astype(np.int16)\n",
        "F2022S_rob = f2022S[\"Ventas de seguro de robo\"].dropna().astype(np.int16)\n",
        "F2023S_rob = f2023S[\"Ventas de seguro de robo\"].dropna().astype(np.int16)\n",
        "F2024S_rob = f2024S[\"Ventas de seguro de robo\"].dropna().astype(np.int16)"
      ]
    },
    {
      "cell_type": "code",
      "execution_count": null,
      "metadata": {
        "id": "hDp96g78M36C"
      },
      "outputs": [],
      "source": [
        "Gom_rob_m2018 = F2018G_rob.median().round(0)\n",
        "Gom_rob_m2019 = F2019G_rob.median().round(0)\n",
        "Gom_rob_m2020 = F2020G_rob.median().round(0)\n",
        "Gom_rob_m2021 = F2021G_rob.median().round(0)\n",
        "Gom_rob_m2022 = F2022G_rob.median().round(0)\n",
        "Gom_rob_m2023 = F2023G_rob.median().round(0)\n",
        "Gom_rob_m2024 = F2024G_rob.median().round(0)\n",
        "Per_rob_m2018 = F2018P_rob.median().round(0)\n",
        "Per_rob_m2019 = F2019P_rob.median().round(0)\n",
        "Per_rob_m2020 = F2020P_rob.median().round(0)\n",
        "Per_rob_m2021 = F2021P_rob.median().round(0)\n",
        "Per_rob_m2022 = F2022P_rob.median().round(0)\n",
        "Per_rob_m2023 = F2023P_rob.median().round(0)\n",
        "Per_rob_m2024 = F2024P_rob.median().round(0)\n",
        "San_rob_m2018 = F2018S_rob.median().round(0)\n",
        "San_rob_m2019 = F2019S_rob.median().round(0)\n",
        "San_rob_m2020 = F2020S_rob.median().round(0)\n",
        "San_rob_m2021 = F2021S_rob.median().round(0)\n",
        "San_rob_m2022 = F2022S_rob.median().round(0)\n",
        "San_rob_m2023 = F2023S_rob.median().round(0)\n",
        "San_rob_m2024 = F2024S_rob.median().round(0)"
      ]
    },
    {
      "cell_type": "code",
      "execution_count": null,
      "metadata": {
        "id": "0h4kDBOuM6yc"
      },
      "outputs": [],
      "source": [
        "ventas.loc[G2018, \"Ventas de seguro de robo\"] = ventas.loc[G2018, \"Ventas de seguro de robo\"].fillna(Gom_rob_m2018).astype(np.int16)\n",
        "ventas.loc[G2019, \"Ventas de seguro de robo\"] = ventas.loc[G2019, \"Ventas de seguro de robo\"].fillna(Gom_rob_m2019).astype(np.int16)\n",
        "ventas.loc[G2020, \"Ventas de seguro de robo\"] = ventas.loc[G2020, \"Ventas de seguro de robo\"].fillna(Gom_rob_m2020).astype(np.int16)\n",
        "ventas.loc[G2021, \"Ventas de seguro de robo\"] = ventas.loc[G2021, \"Ventas de seguro de robo\"].fillna(Gom_rob_m2021).astype(np.int16)\n",
        "ventas.loc[G2022, \"Ventas de seguro de robo\"] = ventas.loc[G2022, \"Ventas de seguro de robo\"].fillna(Gom_rob_m2022).astype(np.int16)\n",
        "ventas.loc[G2023, \"Ventas de seguro de robo\"] = ventas.loc[G2023, \"Ventas de seguro de robo\"].fillna(Gom_rob_m2023).astype(np.int16)\n",
        "ventas.loc[G2024, \"Ventas de seguro de robo\"] = ventas.loc[G2024, \"Ventas de seguro de robo\"].fillna(Gom_rob_m2024).astype(np.int16)\n",
        "ventas.loc[P2018, \"Ventas de seguro de robo\"] = ventas.loc[P2018, \"Ventas de seguro de robo\"].fillna(Per_rob_m2018).astype(np.int16)\n",
        "ventas.loc[P2019, \"Ventas de seguro de robo\"] = ventas.loc[P2019, \"Ventas de seguro de robo\"].fillna(Per_rob_m2019).astype(np.int16)\n",
        "ventas.loc[P2020, \"Ventas de seguro de robo\"] = ventas.loc[P2020, \"Ventas de seguro de robo\"].fillna(Per_rob_m2020).astype(np.int16)\n",
        "ventas.loc[P2021, \"Ventas de seguro de robo\"] = ventas.loc[P2021, \"Ventas de seguro de robo\"].fillna(Per_rob_m2021).astype(np.int16)\n",
        "ventas.loc[P2022, \"Ventas de seguro de robo\"] = ventas.loc[P2022, \"Ventas de seguro de robo\"].fillna(Per_rob_m2022).astype(np.int16)\n",
        "ventas.loc[P2023, \"Ventas de seguro de robo\"] = ventas.loc[P2023, \"Ventas de seguro de robo\"].fillna(Per_rob_m2023).astype(np.int16)\n",
        "ventas.loc[P2024, \"Ventas de seguro de robo\"] = ventas.loc[P2024, \"Ventas de seguro de robo\"].fillna(Per_rob_m2024).astype(np.int16)\n",
        "ventas.loc[S2018, \"Ventas de seguro de robo\"] = ventas.loc[S2018, \"Ventas de seguro de robo\"].fillna(San_rob_m2018).astype(np.int16)\n",
        "ventas.loc[S2019, \"Ventas de seguro de robo\"] = ventas.loc[S2019, \"Ventas de seguro de robo\"].fillna(San_rob_m2019).astype(np.int16)\n",
        "ventas.loc[S2020, \"Ventas de seguro de robo\"] = ventas.loc[S2020, \"Ventas de seguro de robo\"].fillna(San_rob_m2020).astype(np.int16)\n",
        "ventas.loc[S2021, \"Ventas de seguro de robo\"] = ventas.loc[S2021, \"Ventas de seguro de robo\"].fillna(San_rob_m2021).astype(np.int16)\n",
        "ventas.loc[S2022, \"Ventas de seguro de robo\"] = ventas.loc[S2022, \"Ventas de seguro de robo\"].fillna(San_rob_m2022).astype(np.int16)\n",
        "ventas.loc[S2023, \"Ventas de seguro de robo\"] = ventas.loc[S2023, \"Ventas de seguro de robo\"].fillna(San_rob_m2023).astype(np.int16)\n",
        "ventas.loc[S2024, \"Ventas de seguro de robo\"] = ventas.loc[S2024, \"Ventas de seguro de robo\"].fillna(San_rob_m2024).astype(np.int16)"
      ]
    },
    {
      "cell_type": "code",
      "execution_count": null,
      "metadata": {
        "id": "xtYr1LGnNJ_K"
      },
      "outputs": [],
      "source": [
        "ventas[\"Monto de ventas de seguro de vida\"] = ventas[\"Monto de ventas de seguro de vida\"] * ventas[\"Ventas de seguro de vida\"]\n",
        "ventas[\"Monto de ventas de seguro de desempleo\"] = ventas[\"Monto de ventas de seguro de desempleo\"] * ventas[\"Ventas de seguro de desempleo\"]\n",
        "ventas[\"Monto de ventas de seguro de accidentes\"] = ventas[\"Monto de ventas de seguro de accidentes\"] * ventas[\"Ventas de seguro de accidentes\"]\n",
        "ventas[\"Monto de ventas de seguro de hogar\"] = ventas[\"Monto de ventas de seguro de hogar\"] * ventas[\"Ventas de seguro de hogar\"]\n",
        "ventas[\"Monto de ventas de seguro de robo\"] = ventas[\"Monto de ventas de seguro de robo\"] * ventas[\"Ventas de seguro de robo\"]"
      ]
    },
    {
      "cell_type": "code",
      "execution_count": null,
      "metadata": {
        "id": "bN9nMk6pNOn6"
      },
      "outputs": [],
      "source": [
        "ventas[\"Monto total\"]= ventas[\"Monto total\"].fillna(ventas[\"Monto de ventas de seguro de vida\"]+ventas[\"Monto de ventas de seguro de desempleo\"]+ventas[\"Monto de ventas de seguro de accidentes\"]+ventas[\"Monto de ventas de seguro de hogar\"]+ventas[\"Monto de ventas de seguro de robo\"])"
      ]
    },
    {
      "cell_type": "code",
      "execution_count": null,
      "metadata": {
        "id": "bB15B-jtNX4E"
      },
      "outputs": [],
      "source": [
        "ventas[\"Total\"]= ventas[\"Total\"].fillna(ventas[\"Ventas de seguro de vida\"]+ventas[\"Ventas de seguro de desempleo\"]+ventas[\"Ventas de seguro de accidentes\"]+ventas[\"Ventas de seguro de hogar\"]+ventas[\"Ventas de seguro de robo\"])\n",
        "ventas[\"Total\"]= ventas[\"Ventas de seguro de vida\"]+ventas[\"Ventas de seguro de desempleo\"]+ventas[\"Ventas de seguro de accidentes\"]+ventas[\"Ventas de seguro de hogar\"]+ventas[\"Ventas de seguro de robo\"]"
      ]
    },
    {
      "cell_type": "code",
      "execution_count": null,
      "metadata": {
        "id": "shblkc30Ndbr"
      },
      "outputs": [],
      "source": [
        "ventas[\"Ventas de seguro de vida\"] = ventas[\"Ventas de seguro de vida\"].astype(np.int16)\n",
        "ventas[\"Ventas de seguro de hogar\"] = ventas[\"Ventas de seguro de hogar\"].astype(np.int16)\n",
        "ventas[\"Ventas de seguro de accidentes\"] = ventas[\"Ventas de seguro de accidentes\"].astype(np.int16)\n",
        "ventas[\"Ventas de seguro de robo\"] = ventas[\"Ventas de seguro de robo\"].astype(np.int16)\n",
        "ventas[\"Ventas de seguro de desempleo\"] = ventas[\"Ventas de seguro de desempleo\"].astype(np.int16)\n",
        "ventas[\"Total\"]= ventas[\"Total\"].astype(np.int16)"
      ]
    },
    {
      "cell_type": "code",
      "execution_count": null,
      "metadata": {
        "id": "_aKlr4nYNgCT"
      },
      "outputs": [],
      "source": [
        "ventas = ventas.drop(\"Año del precio\", axis=1)"
      ]
    },
    {
      "cell_type": "code",
      "execution_count": null,
      "metadata": {
        "id": "kAbSRBEKNswV"
      },
      "outputs": [],
      "source": [
        "ventas.head(5)"
      ]
    },
    {
      "cell_type": "code",
      "execution_count": null,
      "metadata": {
        "id": "bwgBvJEgNiRj"
      },
      "outputs": [],
      "source": [
        "ventas.info()"
      ]
    },
    {
      "cell_type": "code",
      "execution_count": null,
      "metadata": {
        "id": "qBRFoE8Xi3Sb"
      },
      "outputs": [],
      "source": [
        "del año\n",
        "del Precios_1\n",
        "del Precios_2\n",
        "del Precios_3\n",
        "del Precios_4\n",
        "del Precios_5\n",
        "del nan_v\n",
        "del nan_h\n",
        "del nan_a\n",
        "del nan_R\n",
        "del nan_d\n",
        "del f2018\n",
        "del f2019\n",
        "del f2020\n",
        "del f2021\n",
        "del f2022\n",
        "del f2023\n",
        "del f2024\n",
        "del f2018G\n",
        "del f2019G\n",
        "del f2020G\n",
        "del f2021G\n",
        "del f2022G\n",
        "del f2023G\n",
        "del f2024G\n",
        "del f2018P\n",
        "del f2019P\n",
        "del f2020P\n",
        "del f2021P\n",
        "del f2022P\n",
        "del f2023P\n",
        "del f2024P\n",
        "del f2018S\n",
        "del f2019S\n",
        "del f2020S\n",
        "del f2021S\n",
        "del f2022S\n",
        "del f2023S\n",
        "del f2024S\n",
        "del G2018\n",
        "del G2019\n",
        "del G2020\n",
        "del G2021\n",
        "del G2022\n",
        "del G2023\n",
        "del G2024\n",
        "del P2018\n",
        "del P2019\n",
        "del P2020\n",
        "del P2021\n",
        "del P2022\n",
        "del P2023\n",
        "del P2024\n",
        "del S2018\n",
        "del S2019\n",
        "del S2020\n",
        "del S2021\n",
        "del S2022\n",
        "del S2023\n",
        "del S2024\n",
        "del F2018G_vid\n",
        "del F2019G_vid\n",
        "del F2020G_vid\n",
        "del F2021G_vid\n",
        "del F2022G_vid\n",
        "del F2023G_vid\n",
        "del F2024G_vid\n",
        "del F2018P_vid\n",
        "del F2019P_vid\n",
        "del F2020P_vid\n",
        "del F2021P_vid\n",
        "del F2022P_vid\n",
        "del F2023P_vid\n",
        "del F2024P_vid\n",
        "del F2018S_vid\n",
        "del F2019S_vid\n",
        "del F2020S_vid\n",
        "del F2021S_vid\n",
        "del F2022S_vid\n",
        "del F2023S_vid\n",
        "del F2024S_vid\n",
        "del Gom_vid_m2018\n",
        "del Gom_vid_m2019\n",
        "del Gom_vid_m2020\n",
        "del Gom_vid_m2021\n",
        "del Gom_vid_m2022\n",
        "del Gom_vid_m2023\n",
        "del Gom_vid_m2024\n",
        "del Per_vid_m2018\n",
        "del Per_vid_m2019\n",
        "del Per_vid_m2020\n",
        "del Per_vid_m2021\n",
        "del Per_vid_m2022\n",
        "del Per_vid_m2023\n",
        "del Per_vid_m2024\n",
        "del San_vid_m2018\n",
        "del San_vid_m2019\n",
        "del San_vid_m2020\n",
        "del San_vid_m2021\n",
        "del San_vid_m2022\n",
        "del San_vid_m2023\n",
        "del San_vid_m2024\n",
        "del F2018G_hog\n",
        "del F2019G_hog\n",
        "del F2020G_hog\n",
        "del F2021G_hog\n",
        "del F2022G_hog\n",
        "del F2023G_hog\n",
        "del F2024G_hog\n",
        "del F2018P_hog\n",
        "del F2019P_hog\n",
        "del F2020P_hog\n",
        "del F2021P_hog\n",
        "del F2022P_hog\n",
        "del F2023P_hog\n",
        "del F2024P_hog\n",
        "del F2018S_hog\n",
        "del F2019S_hog\n",
        "del F2020S_hog\n",
        "del F2021S_hog\n",
        "del F2022S_hog\n",
        "del F2023S_hog\n",
        "del F2024S_hog\n",
        "del Gom_hog_m2018\n",
        "del Gom_hog_m2019\n",
        "del Gom_hog_m2020\n",
        "del Gom_hog_m2021\n",
        "del Gom_hog_m2022\n",
        "del Gom_hog_m2023\n",
        "del Gom_hog_m2024\n",
        "del Per_hog_m2018\n",
        "del Per_hog_m2019\n",
        "del Per_hog_m2020\n",
        "del Per_hog_m2021\n",
        "del Per_hog_m2022\n",
        "del Per_hog_m2023\n",
        "del Per_hog_m2024\n",
        "del San_hog_m2018\n",
        "del San_hog_m2019\n",
        "del San_hog_m2020\n",
        "del San_hog_m2021\n",
        "del San_hog_m2022\n",
        "del San_hog_m2023\n",
        "del San_hog_m2024\n",
        "del F2018G_acc\n",
        "del F2019G_acc\n",
        "del F2020G_acc\n",
        "del F2021G_acc\n",
        "del F2022G_acc\n",
        "del F2023G_acc\n",
        "del F2024G_acc\n",
        "del F2018P_acc\n",
        "del F2019P_acc\n",
        "del F2020P_acc\n",
        "del F2021P_acc\n",
        "del F2022P_acc\n",
        "del F2023P_acc\n",
        "del F2024P_acc\n",
        "del F2018S_acc\n",
        "del F2019S_acc\n",
        "del F2020S_acc\n",
        "del F2021S_acc\n",
        "del F2022S_acc\n",
        "del F2023S_acc\n",
        "del F2024S_acc\n",
        "del Gom_acc_m2018\n",
        "del Gom_acc_m2019\n",
        "del Gom_acc_m2020\n",
        "del Gom_acc_m2021\n",
        "del Gom_acc_m2022\n",
        "del Gom_acc_m2023\n",
        "del Gom_acc_m2024\n",
        "del Per_acc_m2018\n",
        "del Per_acc_m2019\n",
        "del Per_acc_m2020\n",
        "del Per_acc_m2021\n",
        "del Per_acc_m2022\n",
        "del Per_acc_m2023\n",
        "del Per_acc_m2024\n",
        "del San_acc_m2018\n",
        "del San_acc_m2019\n",
        "del San_acc_m2020\n",
        "del San_acc_m2021\n",
        "del San_acc_m2022\n",
        "del San_acc_m2023\n",
        "del San_acc_m2024\n",
        "del F2018G_des\n",
        "del F2019G_des\n",
        "del F2020G_des\n",
        "del F2021G_des\n",
        "del F2022G_des\n",
        "del F2023G_des\n",
        "del F2024G_des\n",
        "del F2018P_des\n",
        "del F2019P_des\n",
        "del F2020P_des\n",
        "del F2021P_des\n",
        "del F2022P_des\n",
        "del F2023P_des\n",
        "del F2024P_des\n",
        "del F2018S_des\n",
        "del F2019S_des\n",
        "del F2020S_des\n",
        "del F2021S_des\n",
        "del F2022S_des\n",
        "del F2023S_des\n",
        "del F2024S_des\n",
        "del Gom_des_m2018\n",
        "del Gom_des_m2019\n",
        "del Gom_des_m2020\n",
        "del Gom_des_m2021\n",
        "del Gom_des_m2022\n",
        "del Gom_des_m2023\n",
        "del Gom_des_m2024\n",
        "del Per_des_m2018\n",
        "del Per_des_m2019\n",
        "del Per_des_m2020\n",
        "del Per_des_m2021\n",
        "del Per_des_m2022\n",
        "del Per_des_m2023\n",
        "del Per_des_m2024\n",
        "del San_des_m2018\n",
        "del San_des_m2019\n",
        "del San_des_m2020\n",
        "del San_des_m2021\n",
        "del San_des_m2022\n",
        "del San_des_m2023\n",
        "del San_des_m2024\n",
        "del F2018G_rob\n",
        "del F2019G_rob\n",
        "del F2020G_rob\n",
        "del F2021G_rob\n",
        "del F2022G_rob\n",
        "del F2023G_rob\n",
        "del F2024G_rob\n",
        "del F2018P_rob\n",
        "del F2019P_rob\n",
        "del F2020P_rob\n",
        "del F2021P_rob\n",
        "del F2022P_rob\n",
        "del F2023P_rob\n",
        "del F2024P_rob\n",
        "del F2018S_rob\n",
        "del F2019S_rob\n",
        "del F2020S_rob\n",
        "del F2021S_rob\n",
        "del F2022S_rob\n",
        "del F2023S_rob\n",
        "del F2024S_rob\n",
        "del Gom_rob_m2018\n",
        "del Gom_rob_m2019\n",
        "del Gom_rob_m2020\n",
        "del Gom_rob_m2021\n",
        "del Gom_rob_m2022\n",
        "del Gom_rob_m2023\n",
        "del Gom_rob_m2024\n",
        "del Per_rob_m2018\n",
        "del Per_rob_m2019\n",
        "del Per_rob_m2020\n",
        "del Per_rob_m2021\n",
        "del Per_rob_m2022\n",
        "del Per_rob_m2023\n",
        "del Per_rob_m2024\n",
        "del San_rob_m2018\n",
        "del San_rob_m2019\n",
        "del San_rob_m2020\n",
        "del San_rob_m2021\n",
        "del San_rob_m2022\n",
        "del San_rob_m2023\n",
        "del San_rob_m2024"
      ]
    },
    {
      "cell_type": "markdown",
      "metadata": {
        "id": "QsOC-3wI2AN4"
      },
      "source": [
        "#**Analisis exploratorio de los datos**"
      ]
    },
    {
      "cell_type": "markdown",
      "metadata": {
        "id": "kQFu896qjeyV"
      },
      "source": [
        "**Análisis de los equipos**"
      ]
    },
    {
      "cell_type": "code",
      "execution_count": null,
      "metadata": {
        "id": "unbTzNuaEAj0"
      },
      "outputs": [],
      "source": [
        "colors = sns.color_palette(\"pastel\", n_colors=len(equipos[\"Equipo\"].unique()))\n",
        "colors2 = sns.color_palette(\"Set2\")"
      ]
    },
    {
      "cell_type": "code",
      "execution_count": null,
      "metadata": {
        "id": "feyfqy0jjaBI"
      },
      "outputs": [],
      "source": [
        "equipos.describe().round(0)"
      ]
    },
    {
      "cell_type": "code",
      "execution_count": null,
      "metadata": {
        "id": "Dcid5KRDkWYL"
      },
      "outputs": [],
      "source": [
        "fig, (ax1, ax2, ax3, ax4, ax5) = plt.subplots(5,1, figsize= (12, 24))\n",
        "sns.set(style=\"whitegrid\")\n",
        "\n",
        "sns.boxplot(data=equipos, x=\"Equipo\", y= \"Promedio de ventas de seguro de vida\", hue=\"Equipo\", palette=colors, ax=ax1)\n",
        "sns.boxplot(data=equipos, x=\"Equipo\", y=\"Promedio de ventas de seguro de hogar\", hue=\"Equipo\",palette=colors, ax=ax2)\n",
        "sns.boxplot(data=equipos, x=\"Equipo\", y=\"Promedio de ventas de seguro de accidentes\", hue=\"Equipo\",palette=colors, ax=ax3)\n",
        "sns.boxplot(data=equipos, x=\"Equipo\", y=\"Promedio de ventas de seguro de desempleo\", hue=\"Equipo\",palette=colors, ax=ax4)\n",
        "sns.boxplot(data=equipos, x=\"Equipo\", y=\"Promedio de ventas de seguro de robo\", hue=\"Equipo\",palette=colors, ax=ax5)\n",
        "\n",
        "ax1.title.set_text(\"Boxplot de Media de ventas de seguro de vida\")\n",
        "ax2.title.set_text(\"Boxplot de Media de ventas de seguro de hogar\")\n",
        "ax3.title.set_text(\"Boxplot de Media de ventas de seguro de accidentes\")\n",
        "ax4.title.set_text(\"Boxplot de Media de ventas de seguro de desempleo\")\n",
        "ax5.title.set_text(\"Boxplot de Media de ventas de seguro de robo\")\n",
        "\n",
        "ax1.set_xlabel(\"Equipo\")\n",
        "ax2.set_xlabel(\"Equipo\")\n",
        "ax3.set_xlabel(\"Equipo\")\n",
        "ax4.set_xlabel(\"Equipo\")\n",
        "ax5.set_xlabel(\"Equipo\")\n",
        "\n",
        "ax1.set_ylabel(\"Media de ventas de seguro de vida\")\n",
        "ax2.set_ylabel(\"Media de ventas de seguro de hogar\")\n",
        "ax3.set_ylabel(\"Media de ventas de seguro de accidentes\")\n",
        "ax4.set_ylabel(\"Media de ventas de seguro de desempleo\")\n",
        "ax5.set_ylabel(\"Media de ventas de seguro de robo\")\n",
        "\n",
        "plt.tight_layout()\n",
        "plt.show()"
      ]
    },
    {
      "cell_type": "markdown",
      "metadata": {
        "id": "BoFt13m3osHv"
      },
      "source": [
        "\n",
        "---\n",
        "\n",
        "\n",
        "Observando los **boxplots para comparar la media de ventas de los diferentes equipos**, no se observan diferencias abismales:\n",
        "\n",
        "En lo que corresponde a los **seguros de vida**, si bien el equipo Perez tiene una media mayor, la mediana de los casos tanto del equipo Perez y Gomez es de 2 ventas diarias, en tanto la mediana del equipo Santana es de 1.5\n",
        "\n",
        "En la **comparación de ventas del hogar**, el equipo Gomez tiene un mejor promedio, aunque la mediana de sus ventas se encuentra en un promedio de 2 ventas, al igual que la mediana del equipo Santana. El equipo Perez, por su parte, tiene la mediana de sus casos en 1 venta diaria.\n",
        "\n",
        "En la **comparación de ventas de seguros de accidentes**, se verifica un mejor promedio para el equipo Santana, aunque su mediana de los casos se encuentra algo por debajo de la de Gomez: En tanto la mediana del equipo Santana se encuentra en 2.5, la mediana del equipo Gomez se encuentra en 3 ventas diarias. Por parte del equipo Perez, la mediana de ventas de su equipo se encuentra en 2 ventas diarias.\n",
        "\n",
        "En la **comparación de ventas de seguros de desempleo** se ve una mayor productividad en el equipo Santana, con una mediana de 3 ventas diarias. La mediana del equipo Perez y del equipo Gomez, en tanto, se encuentra en 2 ventas diarias.\n",
        "\n",
        "En la **comparación de ventas de seguros de robo**, la mayor efectividad la detenta el equipo Gomez, con una mediana de 5 ventas diarias, en tanto el equipo Perez tiene una mediana de 4 ventas diarias y el equipo santana una mediana de 3 ventas.\n",
        "\n",
        "\n"
      ]
    },
    {
      "cell_type": "markdown",
      "metadata": {
        "id": "hjQEojccoxiv"
      },
      "source": [
        "\n",
        "\n",
        "---\n",
        "\n"
      ]
    },
    {
      "cell_type": "code",
      "execution_count": null,
      "metadata": {
        "id": "gl1DHKYvqTan"
      },
      "outputs": [],
      "source": [
        "v2 = ventas\n",
        "v2[\"Año\"] = v2[\"Fecha\"].dt.year"
      ]
    },
    {
      "cell_type": "code",
      "execution_count": null,
      "metadata": {
        "id": "Mi0LTYwDpTwh"
      },
      "outputs": [],
      "source": [
        "plt.figure(figsize=(8,4))\n",
        "sns.lineplot(x=\"Año\", y=\"Ventas de seguro de vida\", hue= \"Equipo\", palette=colors, errorbar=None, data=v2)\n",
        "plt.xlabel(\"Año\")\n",
        "plt.ylabel(\"Media de ventas de seguros de vida\")\n",
        "plt.title(\"Media de ventas de seguros de vida por equipo (2018-2024)\")\n",
        "\n",
        "plt.tight_layout()\n",
        "plt.show()"
      ]
    },
    {
      "cell_type": "markdown",
      "source": [
        "Aunque se ve cierta diferencia entre los equipos que refiere a la media de venta de seguros de vida, donde tiende a predominar el equipo Perez, no se observa una diferencia significativa."
      ],
      "metadata": {
        "id": "hHHSdBjOnL_W"
      }
    },
    {
      "cell_type": "code",
      "execution_count": null,
      "metadata": {
        "id": "N4zXjyESrKK2"
      },
      "outputs": [],
      "source": [
        "plt.figure(figsize=(8,4))\n",
        "sns.lineplot(x=\"Año\", y=\"Ventas de seguro de hogar\", hue= \"Equipo\", palette=colors, errorbar=None, data=v2)\n",
        "plt.xlabel(\"Año\")\n",
        "plt.ylabel(\"Media de ventas de seguros de hogar\")\n",
        "plt.title(\"Media de ventas de seguros de hogar por equipo (2018-2024)\")\n",
        "\n",
        "plt.tight_layout()\n",
        "plt.show()"
      ]
    },
    {
      "cell_type": "markdown",
      "source": [
        "Al igual que lo que se observa en lo que refiere a la media de venta de seguros de vida, no se observan grandes diferencias entre las ventas de los diferentes equipos"
      ],
      "metadata": {
        "id": "9-r-E80BnscZ"
      }
    },
    {
      "cell_type": "code",
      "execution_count": null,
      "metadata": {
        "id": "qMq9_FrmtPkH"
      },
      "outputs": [],
      "source": [
        "plt.figure(figsize=(8,4))\n",
        "sns.lineplot(x=\"Año\", y=\"Ventas de seguro de accidentes\", hue= \"Equipo\", palette=colors, errorbar=None, data=v2)\n",
        "plt.xlabel(\"Año\")\n",
        "plt.ylabel(\"Media de ventas de seguros de accidentes\")\n",
        "plt.title(\"Media de ventas de seguros de accidentes por equipo (2018-2024)\")\n",
        "\n",
        "plt.tight_layout()\n",
        "plt.show()"
      ]
    },
    {
      "cell_type": "markdown",
      "source": [
        "Al igual que las otras comparaciones, no se observan diferencias significativas en la media de venta de seguros de accidentes"
      ],
      "metadata": {
        "id": "oN0F22orpgYn"
      }
    },
    {
      "cell_type": "code",
      "execution_count": null,
      "metadata": {
        "id": "k1iwuw9ttWdI"
      },
      "outputs": [],
      "source": [
        "v2_2024 = v2[v2[\"Año\"] == 2024]\n",
        "v2_gom = v2_2024[v2_2024[\"Equipo\"] == \"Gomez\"]\n",
        "v2_san = v2_2024[v2_2024[\"Equipo\"] == \"Santana\"]\n",
        "v2_per = v2_2024[v2_2024[\"Equipo\"] == \"Perez\"]\n",
        "Eq = v2_2024[\"Equipo\"].unique()\n",
        "sum_vida2 = v2_2024.groupby(\"Equipo\")[\"Ventas de seguro de vida\"].sum()\n",
        "sum_hog2 = v2_2024.groupby(\"Equipo\")[\"Ventas de seguro de hogar\"].sum()\n",
        "sum_ac2 = v2_2024.groupby(\"Equipo\")[\"Ventas de seguro de accidentes\"].sum()\n",
        "sum_total2= v2_2024.groupby(\"Equipo\")[\"Total\"].sum()\n",
        "sum_total3= v2_2024.groupby(\"Equipo\")[\"Monto total\"].sum()\n",
        "sum_tot = v2.groupby(\"Equipo\")[\"Total\"].sum()"
      ]
    },
    {
      "cell_type": "code",
      "execution_count": null,
      "metadata": {
        "id": "qQEYKAh54vJ1"
      },
      "outputs": [],
      "source": [
        "fig, axes = plt.subplots(2, 2, figsize=(12, 12))\n",
        "\n",
        "sns.set(style=\"darkgrid\")\n",
        "\n",
        "ax1 = axes[0, 0]\n",
        "ax2 = axes[0, 1]\n",
        "ax3 = axes[1, 0]\n",
        "ax4 = axes[1, 1]\n",
        "\n",
        "\n",
        "sns.barplot(x=Eq, y=sum_vida2, palette=colors, ax=ax1)\n",
        "ax1.set_title(\"Ventas de Seguro de Vida en 2024\", fontsize=14, pad=10)\n",
        "ax1.set_xlabel(\"Equipo\", fontsize=12)\n",
        "ax1.set_ylabel(\"Ventas\", fontsize=12)\n",
        "ax1.tick_params(axis=\"x\", rotation=45)\n",
        "\n",
        "for container in ax1.containers:\n",
        "    ax1.bar_label(container, fontsize=10, label_type=\"edge\")\n",
        "\n",
        "sns.barplot(x=Eq, y=sum_hog2, palette=colors, ax=ax2)\n",
        "ax2.set_title(\"Ventas de Seguro de Hogar en 2024\", fontsize=14, pad=10)\n",
        "ax2.set_xlabel(\"Equipo\", fontsize=12)\n",
        "ax2.set_ylabel(\"Ventas\", fontsize=12)\n",
        "ax2.tick_params(axis=\"x\", rotation=45)\n",
        "\n",
        "for container in ax2.containers:\n",
        "    ax2.bar_label(container, fontsize=10, label_type=\"edge\")\n",
        "\n",
        "\n",
        "sns.barplot(x=Eq, y=sum_ac2, palette=colors, ax=ax3)\n",
        "ax3.set_title(\"Ventas de Seguro de Accidentes en 2024\", fontsize=14, pad=10)\n",
        "ax3.set_xlabel(\"Equipo\", fontsize=12)\n",
        "ax3.set_ylabel(\"Ventas\", fontsize=12)\n",
        "ax3.tick_params(axis=\"x\", rotation=45)\n",
        "\n",
        "for container in ax3.containers:\n",
        "    ax3.bar_label(container, fontsize=10, label_type=\"edge\")\n",
        "\n",
        "\n",
        "sns.barplot(x=Eq, y=sum_total2, palette=colors, ax=ax4)\n",
        "ax4.set_title(\"Ventas Totales en 2024\", fontsize=14, pad=10)\n",
        "ax4.set_xlabel(\"Equipo\", fontsize=12)\n",
        "ax4.set_ylabel(\"Ventas\", fontsize=12)\n",
        "ax4.tick_params(axis=\"x\", rotation=45)\n",
        "\n",
        "for container in ax4.containers:\n",
        "    ax4.bar_label(container, fontsize=10, label_type=\"edge\")\n",
        "\n",
        "\n",
        "plt.tight_layout()\n",
        "\n",
        "plt.show()"
      ]
    },
    {
      "cell_type": "markdown",
      "source": [
        "Si bien se obsevan ciertas diferencias en la cantidad de ventas totales de cada equipo así como en la comparación de los diferentes seguros, no pareciera existir una diferencia demasiado importante entre los diferentes equipos, compensándose las ventas de los diferentes seguros entre si"
      ],
      "metadata": {
        "id": "U4sB4nFGqF1T"
      }
    },
    {
      "cell_type": "code",
      "execution_count": null,
      "metadata": {
        "id": "u5nGoEBC7McP"
      },
      "outputs": [],
      "source": [
        "fig, (ax1, ax2) = plt.subplots(2, 1, figsize=(10, 12))\n",
        "\n",
        "ax1.pie(sum_total3, labels=Eq, colors=colors, autopct=\"%0.1f%%\", startangle=90)\n",
        "ax1.set_title(\"Distribución de montos de ventas Totales totales en 2024\", fontsize=14, pad=20)\n",
        "\n",
        "ax2.pie(sum_tot, labels=Eq, colors=colors, autopct=\"%0.1f%%\", startangle=90)\n",
        "ax2.set_title(\"Distribución de montos de ventas Totales (2018-2024)\", fontsize=14, pad=20)\n",
        "\n",
        "plt.tight_layout()\n",
        "\n",
        "plt.show()"
      ]
    },
    {
      "cell_type": "markdown",
      "source": [
        "Como se viene observando en los diferentes gráficos, el aporte de cada equipo de ventas a los montos totales es prácticamente identico."
      ],
      "metadata": {
        "id": "-H85rEsqqza0"
      }
    },
    {
      "cell_type": "code",
      "execution_count": null,
      "metadata": {
        "id": "a_vCGhg4_HYs"
      },
      "outputs": [],
      "source": [
        "sns.set(style=\"whitegrid\")\n",
        "plt.figure(figsize=(10, 6))\n",
        "\n",
        "\n",
        "ax = sns.histplot(\n",
        "    data=v2_gom,\n",
        "    x=\"Total\",\n",
        "    bins=10,\n",
        "    kde=True,\n",
        "    color=\"skyblue\",\n",
        "    edgecolor=\"black\",\n",
        "    linewidth=1.2\n",
        ")\n",
        "\n",
        "\n",
        "ax.set_title(\"Distribución del Total de Ventas del equipo Gomez\", fontsize=16, pad=20)\n",
        "ax.set_xlabel(\"Total de Ventas\", fontsize=14)\n",
        "ax.set_ylabel(\"Frecuencia\", fontsize=14)\n",
        "ax.tick_params(axis=\"both\", labelsize=12)\n",
        "\n",
        "mean_value = v2_gom[\"Total\"].mean()\n",
        "ax.axvline(mean_value, color=\"red\", linestyle=\"--\", linewidth=2, label=f\"Media: {mean_value:.2f}\")\n",
        "\n",
        "ax.legend(fontsize=12)\n",
        "\n",
        "plt.tight_layout()\n",
        "\n",
        "plt.show()"
      ]
    },
    {
      "cell_type": "code",
      "execution_count": null,
      "metadata": {
        "id": "IpOR_wL5Efq7"
      },
      "outputs": [],
      "source": [
        "sns.set(style=\"whitegrid\")\n",
        "plt.figure(figsize=(10, 6))\n",
        "\n",
        "\n",
        "ax = sns.histplot(\n",
        "    data=v2_san,\n",
        "    x=\"Total\",\n",
        "    bins=10,\n",
        "    kde=True,\n",
        "    color=\"skyblue\",\n",
        "    edgecolor=\"black\",\n",
        "    linewidth=1.2\n",
        ")\n",
        "\n",
        "\n",
        "ax.set_title(\"Distribución del Total de Ventas del equipo Santana\", fontsize=16, pad=20)\n",
        "ax.set_xlabel(\"Total de Ventas\", fontsize=14)\n",
        "ax.set_ylabel(\"Frecuencia\", fontsize=14)\n",
        "ax.tick_params(axis=\"both\", labelsize=12)\n",
        "\n",
        "mean_value = v2_san[\"Total\"].mean()\n",
        "ax.axvline(mean_value, color=\"red\", linestyle=\"--\", linewidth=2, label=f\"Media: {mean_value:.2f}\")\n",
        "\n",
        "ax.legend(fontsize=12)\n",
        "\n",
        "plt.tight_layout()\n",
        "\n",
        "plt.show()"
      ]
    },
    {
      "cell_type": "code",
      "execution_count": null,
      "metadata": {
        "id": "gy9q3NqUEtUK"
      },
      "outputs": [],
      "source": [
        "sns.set(style=\"whitegrid\")\n",
        "plt.figure(figsize=(10, 6))\n",
        "\n",
        "\n",
        "ax = sns.histplot(\n",
        "    data=v2_per,\n",
        "    x=\"Total\",\n",
        "    bins=10,\n",
        "    kde=True,\n",
        "    color=\"skyblue\",\n",
        "    edgecolor=\"black\",\n",
        "    linewidth=1.2\n",
        ")\n",
        "\n",
        "\n",
        "ax.set_title(\"Distribución del Total de Ventas del equipo Perez\", fontsize=16, pad=20)\n",
        "ax.set_xlabel(\"Total de Ventas\", fontsize=14)\n",
        "ax.set_ylabel(\"Frecuencia\", fontsize=14)\n",
        "ax.tick_params(axis=\"both\", labelsize=12)\n",
        "\n",
        "mean_value = v2_per[\"Total\"].mean()\n",
        "ax.axvline(mean_value, color=\"red\", linestyle=\"--\", linewidth=2, label=f\"Media: {mean_value:.2f}\")\n",
        "\n",
        "ax.legend(fontsize=12)\n",
        "\n",
        "plt.tight_layout()\n",
        "\n",
        "plt.show()"
      ]
    },
    {
      "cell_type": "code",
      "execution_count": null,
      "metadata": {
        "id": "uCNAEfbkBX6F"
      },
      "outputs": [],
      "source": [
        "sns.boxplot(data=v2,\n",
        "            x=\"Equipo\",\n",
        "            y= \"Total\",\n",
        "            hue=\"Equipo\",\n",
        "            palette=colors)\n",
        "\n",
        "plt.xlabel(\"Equipo\")\n",
        "plt.ylabel(\"Total de Ventas\")\n",
        "plt.title(\"Total de Ventas por Equipo (2018-2024)\")\n",
        "\n",
        "plt.tight_layout()\n",
        "plt.show()"
      ]
    },
    {
      "cell_type": "markdown",
      "metadata": {
        "id": "1-sFwAbHO2Vh"
      },
      "source": [
        "\n",
        "\n",
        "---\n",
        "\n",
        "\n",
        "Observando el desenvolvimiento de los diferentes equipos entre 2018 y 2024 se pueden observar **pequeñas diferencias en la evolución de las ventas medias**.\n",
        "\n",
        "**En lo que corresponde a los seguros de vida**, el **equipo Perez** logro en 2021 una venta diaria de 1.65 seguros, que con diferentes vaivenes termino colocandose en un promedio algo por debajo de 1.50 ventas diarias.\n",
        "**El equipo Gomez**, si bien tuvo un desenvolvimiento irregular, logro llegar a su pico en 2022, con casi 1.60 ventas diarias, colocandose durante 2024 en un promedio de 1.55\n",
        "El **equipo Santana** fue el equipo con una media más baja, con un pico de casi 1.55 en el año 2019, al cual se estarían acercando en 2024. Cabe resaltar que tuvieron un piso de 1.35 ventas en 2020, el piso más bajo de los tres equipos.\n",
        "\n",
        "**En lo que corresponde a la media de ventas de seguros de hogar:**\n",
        "El **equipo Gomez** logro tener el pico más alto, llegando a acercarse a 1.70 ventas diarias en el año 2022. Aunque, para el año 2024, el promedio de ventas de este equipo se coloco apenas algo por encima de 1.45\n",
        "El **equipo Perez** demostro mayor regularidad en esta comparación, acercandose tambien a las 1.70 ventas por día y teniendo en 2024 un promedio algo por encima de 1.55 ventas diarias.\n",
        "El **equipo Santana**, por su parte, tuvo el piso más bajo de ventas, algo por encima de 1.40 ventas diarias en 2019, colocandose en 2024 en un promedio algo por debajo de 1.50 ventas.\n",
        "\n",
        "**En lo que corresponde a la comparación a la venta de seguros de accidentes**, se puede observar una mayor volatilidad\n",
        "**El equipo Gomez** fue el equipo que supo mantener el pico más alto de ventas en 2022, con casi 2.75 ventas diarias, aunque en 2024 se ubico algo por debajo de las 2.40 ventas por día.\n",
        "**El equipo Perez** supo administrar con mayor regularidad sus ventas, alcanzando un pico cercano a 2.70 ventas diarias en 2019 y ubicandose en 2.50 ventas diarias en 2024.\n",
        "**El equipo Santana** nuevamente tuvo el piso más bajo de ventas en 2020, con un promedio por debajo de las 2.30 ventas diarias, aunque en 2024 se encuentra algo por encima del equipo Gomez, acercandose a 2.45 ventas por día.\n",
        "\n",
        "**En la comparación de estos 3 equipos en el año 2024, podemos observar que:**\n",
        "\n",
        "-El equipo Gomez lidero la venta de seguros de vida\n",
        "-El equipo Santana lidero la venta de seguros de hogar y de seguros de accidentes\n",
        "-El equipo Perez lidero la venta total de seguros\n",
        "\n",
        "**Sin embargo, estas diferencias en cantidad de seguros no represento una diferencia relevante en lo que refiere a montos obtenidos**, ya que tanto en la consideración del año 2024 como en la observación de las ventas efectuadas entre 2018 y 2024, **los tres equipos vendieron el 33% de los montos totales que obtuvo la empresa**.\n",
        "\n",
        "Asimismo, **no hay una importante diferencia entre la media de ventas totales de cada equipo**, dado que:\n",
        "La media del equipo Santana es de 12.15\n",
        "La media del equipo Gomez es de 12\n",
        "La media del equipo Perez es 11.89\n",
        "\n",
        "Por otro lado, **la mediana de ambos equipos se encuentra en niveles similares, así como los tres equipos tienen tienen el 75% de los casos por debajo de las 15 ventas diarias**. La diferencia de medias que se observa es producto de algunos outliers.\n",
        "\n",
        "\n"
      ]
    },
    {
      "cell_type": "markdown",
      "metadata": {
        "id": "NQf4RN4DkeqO"
      },
      "source": [
        "\n",
        "\n",
        "---\n",
        "\n"
      ]
    },
    {
      "cell_type": "code",
      "execution_count": null,
      "metadata": {
        "id": "xDBKb3_CGXAd"
      },
      "outputs": [],
      "source": [
        "seg_2024.describe().round(2)"
      ]
    },
    {
      "cell_type": "code",
      "execution_count": null,
      "metadata": {
        "id": "H4lvQuBxHQIa"
      },
      "outputs": [],
      "source": [
        "seg_2024.describe(include=\"object\").T"
      ]
    },
    {
      "cell_type": "code",
      "execution_count": null,
      "metadata": {
        "id": "ktWXlUH-P6DN"
      },
      "outputs": [],
      "source": [
        "median_activ= seg_2024[seg_2024[\"Activo\"] == \"Si\"][\"Ingresos\"].median()\n",
        "median2_activ = seg_2024[seg_2024[\"Activo\"] == \"Si\"][\"Edad\"].median()\n",
        "median_inactiv = seg_2024[seg_2024[\"Activo\"] == \"No\"][\"Ingresos\"].median()\n",
        "median2_inactiv = seg_2024[seg_2024[\"Activo\"] == \"No\"][\"Edad\"].median()\n",
        "\n",
        "print (\"Mediana de ingresos de clientes activos:\", median_activ)\n",
        "print (\"Mediana de edad de clientes activos:\", median2_activ)\n",
        "print (\"Mediana de ingresos de clientes inactivos:\", median_inactiv)\n",
        "print (\"Mediana de edad de clientes inactivos:\", median2_inactiv)"
      ]
    },
    {
      "cell_type": "code",
      "execution_count": null,
      "metadata": {
        "id": "dcITsd1EWYDx"
      },
      "outputs": [],
      "source": [
        "seg_2024.info()"
      ]
    },
    {
      "cell_type": "code",
      "execution_count": null,
      "metadata": {
        "id": "pcBWIAdHWDLx"
      },
      "outputs": [],
      "source": [
        "cat_activ2024_count= seg_2024[seg_2024[\"Activo\"] == \"Si\"][\"Categoría del Seguro\"].value_counts()\n",
        "cat_activ2024_gen = seg_2024[seg_2024[\"Activo\"] == \"Si\"][\"Género\"].value_counts()\n",
        "cat_inactiv2024_count = seg_2024[seg_2024[\"Activo\"] == \"No\"][\"Categoría del Seguro\"].value_counts()\n",
        "cat_inactiv2024_gen = seg_2024[seg_2024[\"Activo\"] == \"No\"][\"Género\"].value_counts()\n",
        "\n",
        "print (\"Cantidad de clientes activos por categoría de seguro:\", cat_activ2024_count)\n",
        "print()\n",
        "print (\"Cantidad de clientes activos por género:\", cat_activ2024_gen)\n",
        "print()\n",
        "print (\"Cantidad de clientes inactivos por categoría de seguro:\", cat_inactiv2024_count)\n",
        "print()\n",
        "print (\"Cantidad de clientes inactivos por género:\", cat_inactiv2024_gen)"
      ]
    },
    {
      "cell_type": "markdown",
      "metadata": {
        "id": "HAAamxVTkg9H"
      },
      "source": [
        "\n",
        "\n",
        "---\n",
        "\n"
      ]
    },
    {
      "cell_type": "markdown",
      "metadata": {
        "id": "i_BtU3jeEtcx"
      },
      "source": [
        "La mediana de edad de los clientes activos e inactivos de 2024 fue de 46 años\n",
        "En tanto la mediana de ingresos de los clientes activos fue de 930695, mientras que la mediana de los ingresos de los clientes inactivos fue de 927480\n",
        "Es decir, **no se observa una diferencia significativa entre los clientes que dejaron de estar activos e inactivos en lo que refiere a sus ingresos y sus edades.**\n",
        "\n",
        "En lo que refiere a los tipos de seguros, se observa que 2134 clientes se dieron de baja por seguros de alto valor que contrataron durante 2024 (frente a otros 2136 que mantuvieron sus seguros)\n",
        "Y 2614 clientes se dieron de baja de seguros de bajo valor (frente a 2485 que se mantuvieron)\n",
        "**Lo cual implicaría que los clientes de seguros de bajo valor tienden a darse de baja en una mayor medida que los clientes que contratan seguros de alto valor.**\n",
        "\n",
        "**En lo que refiere al género, no se observan diferencias significativas entre los clientes que mantuvieron sus seguros y los clientes que los dieron de baja**"
      ]
    },
    {
      "cell_type": "markdown",
      "metadata": {
        "id": "fcy81GwwkiWs"
      },
      "source": [
        "\n",
        "\n",
        "---\n",
        "\n"
      ]
    },
    {
      "cell_type": "code",
      "execution_count": null,
      "metadata": {
        "id": "Q0FVLrtpKwh2"
      },
      "outputs": [],
      "source": [
        "sns.set(style=\"whitegrid\")\n",
        "plt.figure(figsize=(8, 4))\n",
        "\n",
        "\n",
        "ax = sns.barplot(\n",
        "    x=seg_2024[\"Categoría\"].unique(),\n",
        "    y=seg_2024[\"Categoría\"].value_counts(),\n",
        "    palette=colors2)\n",
        "\n",
        "\n",
        "plt.xlabel(\"Categoría\", fontsize=14)\n",
        "plt.ylabel(\"Cantidad\", fontsize=14)\n",
        "plt.title(\"Cantidad de Clientes según su Categoría en 2024\", fontsize=16, pad=20)\n",
        "\n",
        "for container in ax.containers:\n",
        "    ax.bar_label(container, fontsize=10, label_type=\"center\")\n",
        "\n",
        "\n",
        "plt.tight_layout()\n",
        "\n",
        "plt.show()"
      ]
    },
    {
      "cell_type": "markdown",
      "source": [
        "Observando el nivel de ingresos de los diferentes clientes que contrataron seguros en 2024, se observa una predominancia de clientes con ingresos medios."
      ],
      "metadata": {
        "id": "6FSGxgqCr9Fj"
      }
    },
    {
      "cell_type": "code",
      "execution_count": null,
      "metadata": {
        "id": "AljgKGOBMvWa"
      },
      "outputs": [],
      "source": [
        "sns.set(style=\"whitegrid\")\n",
        "plt.figure(figsize=(8, 4))\n",
        "\n",
        "\n",
        "ax = sns.barplot(\n",
        "    x=seg_2024[\"Categoría del Seguro\"].unique(),\n",
        "    y=seg_2024[\"Categoría del Seguro\"].value_counts(),\n",
        "    palette=colors2)\n",
        "\n",
        "\n",
        "plt.xlabel(\"Categoría\", fontsize=14)\n",
        "plt.ylabel(\"Cantidad\", fontsize=14)\n",
        "plt.title(\"Cantidad de seguros según su valor en 2024\", fontsize=16, pad=20)\n",
        "\n",
        "for container in ax.containers:\n",
        "    ax.bar_label(container, fontsize=10, label_type=\"center\")\n",
        "\n",
        "\n",
        "plt.tight_layout()\n",
        "\n",
        "plt.show()"
      ]
    },
    {
      "cell_type": "markdown",
      "source": [
        "Analizando los tipos de seguros vendidos, se observa una pequeña diferencia en favor de los seguros de alto valor"
      ],
      "metadata": {
        "id": "krLiWmoSsJDR"
      }
    },
    {
      "cell_type": "code",
      "execution_count": null,
      "metadata": {
        "id": "8gY_sFohP-cm"
      },
      "outputs": [],
      "source": [
        "sns.set(style=\"whitegrid\")\n",
        "plt.figure(figsize=(8, 4))\n",
        "\n",
        "\n",
        "ax = sns.barplot(\n",
        "    x=seg_2024[\"Género\"].unique(),\n",
        "    y=seg_2024[\"Género\"].value_counts(),\n",
        "    palette=colors2)\n",
        "\n",
        "\n",
        "plt.xlabel(\"Género\", fontsize=14)\n",
        "plt.ylabel(\"Cantidad\", fontsize=14)\n",
        "plt.title(\"Cantidad de personas según su género en 2024\", fontsize=16, pad=20)\n",
        "\n",
        "for container in ax.containers:\n",
        "    ax.bar_label(container, fontsize=10, label_type=\"center\")\n",
        "\n",
        "\n",
        "plt.tight_layout()\n",
        "\n",
        "plt.show()"
      ]
    },
    {
      "cell_type": "code",
      "execution_count": null,
      "metadata": {
        "id": "pBtDMfJFSl-E"
      },
      "outputs": [],
      "source": [
        "plt.figure(figsize=(10, 6))\n",
        "sns.set(style=\"whitegrid\")\n",
        "\n",
        "sns.stripplot (y=\"Edad\",\n",
        "               hue=\"Género\",\n",
        "               data=seg_2024,\n",
        "               jitter=True,\n",
        "               palette=colors2,\n",
        "               size=8,\n",
        "               edgecolor=\"gray\",\n",
        "               linewidth=0.5  )\n",
        "\n",
        "\n",
        "plt.title(\"Distribución de Género según edad en los clientes de 2024\", fontsize=16)\n",
        "plt.xlabel(\"Género\", fontsize=14)\n",
        "plt.ylabel(\"Edad\", fontsize=14)\n",
        "\n",
        "plt.legend(title=\"Género\", bbox_to_anchor=(1.05, 1), loc='upper left')\n",
        "\n",
        "plt.tight_layout()\n",
        "plt.show()"
      ]
    },
    {
      "cell_type": "markdown",
      "source": [
        "No se observan diferencias significativas en el género de las personas que contrataron seguros en 2024, ni tampoco se observa cierta diferencia de género cuando se consideran las diferentes edades de los clientes."
      ],
      "metadata": {
        "id": "aMkxjNzKsmLI"
      }
    },
    {
      "cell_type": "code",
      "execution_count": null,
      "metadata": {
        "id": "lSVRG37sGX3a"
      },
      "outputs": [],
      "source": [
        "plt.figure(figsize=(10, 6))\n",
        "sns.set(style=\"whitegrid\")\n",
        "\n",
        "sns.stripplot (y=\"Ingresos\",\n",
        "               hue=\"Activo\",\n",
        "               data=seg_2024,\n",
        "               jitter=True,\n",
        "               palette=colors2,\n",
        "               size=8,\n",
        "               edgecolor=\"gray\",\n",
        "               linewidth=0.5  )\n",
        "\n",
        "\n",
        "plt.title(\"Distribución de Ingresos por clientes con la poliza activa en 2024\", fontsize=16)\n",
        "plt.xlabel(\"Estado de la poliza\", fontsize=14)\n",
        "plt.ylabel(\"Ingresos\", fontsize=14)\n",
        "\n",
        "plt.legend(title=\"Estado de la poliza\", bbox_to_anchor=(1.05, 1), loc='upper left')\n",
        "\n",
        "plt.tight_layout()\n",
        "plt.show()"
      ]
    },
    {
      "cell_type": "markdown",
      "source": [
        "En el gráfico anterior, no se puede percibir una clara diferencia entre los clientes que conservaron sus seguros con respecto a los que no lo hicieron cuando se considera su nivel de ingresos."
      ],
      "metadata": {
        "id": "XgNWsHhOs-2R"
      }
    },
    {
      "cell_type": "code",
      "execution_count": null,
      "metadata": {
        "id": "yOnrZ5BGINDo"
      },
      "outputs": [],
      "source": [
        "plt.figure(figsize=(12, 8))\n",
        "\n",
        "sns.set_style(\"whitegrid\")\n",
        "\n",
        "sns.scatterplot(\n",
        "    x=\"Edad\",\n",
        "    y=\"Ingresos\",\n",
        "    hue=\"Categoría del Seguro\",\n",
        "    data=seg_2024,\n",
        "    palette=colors2,\n",
        "    edgecolor=\"gray\",\n",
        "    linewidth=0.5\n",
        ")\n",
        "\n",
        "\n",
        "plt.title(\"Distribución de Ingresos y edad según la Categoría del Seguro en 2024\", fontsize=18, pad=20)\n",
        "plt.xlabel(\"Edad\", fontsize=14, labelpad=10)\n",
        "plt.ylabel(\"Ingresos\", fontsize=14, labelpad=10)\n",
        "\n",
        "\n",
        "plt.legend(\n",
        "    title=\"Categoría del Seguro\",\n",
        "    bbox_to_anchor=(1.05, 1),\n",
        "    loc=\"upper left\",\n",
        "    fontsize=12,\n",
        "    title_fontsize=14\n",
        ")\n",
        "\n",
        "median_income = seg_2024[\"Ingresos\"].median()\n",
        "plt.axhline(median_income,\n",
        "            color=\"red\",\n",
        "            linestyle='--',\n",
        "            linewidth=1.5,\n",
        "            label=\"Mediana de ingresos\")\n",
        "\n",
        "\n",
        "plt.tight_layout()\n",
        "\n",
        "plt.show()"
      ]
    },
    {
      "cell_type": "markdown",
      "metadata": {
        "id": "YpY8TFAckkx8"
      },
      "source": [
        "\n",
        "\n",
        "---\n",
        "\n"
      ]
    },
    {
      "cell_type": "markdown",
      "metadata": {
        "id": "iUw-01BnZ_fr"
      },
      "source": [
        "Comparando los tipos de clientes por recursos, tipo de seguro y género, **se observan 2 diferencias relevantes:**\n",
        "\n",
        "En primer lugar, **hay una mayor proporción de clientes de recursos medios, seguidos en segundo lugar por clientes de recursos altos y en tercer lugar por clientes de bajos recursos.**\n",
        "\n",
        "En segundo lugar, **existió una mayor cantidad de ventas de seguros de alto valor**\n",
        "\n",
        "**No existieron de todas maneras diferencias substanciales por el género de los clientes**\n",
        "\n",
        "Asimismo, **no es observable una diferencia relevante entre clientes activos e inactivos por la cantidad de ingresos**: Tanto los clientes de altos ingresos como los de bajos ingresos tuvieron proporciones similares a la hora de mantener sus seguros.\n",
        "\n",
        "Lo que si se observa en el scatterplot de distribución de ingresos y de edad es que **los ingresos que se encuentran por encima de la mediana tendieron a contratar en su mayoría seguros de alto valor**, en tanto **los ingresos que se encontraban por debajo de la mediana contrataron especialmente seguros de bajo valor.**\n",
        "\n"
      ]
    },
    {
      "cell_type": "markdown",
      "metadata": {
        "id": "Ne-pOvOu2gNW"
      },
      "source": [
        "#**Coeficientes estadisticos**"
      ]
    },
    {
      "cell_type": "code",
      "execution_count": null,
      "metadata": {
        "id": "PmJi1V-hTHwl"
      },
      "outputs": [],
      "source": [
        "#Test de shapiro\n",
        "p_value_tot = stats.shapiro(ventas[\"Total\"])\n",
        "p_value_vid = stats.shapiro(ventas[\"Ventas de seguro de vida\"])\n",
        "p_value_hog = stats.shapiro(ventas[\"Ventas de seguro de hogar\"])\n",
        "p_value_acc = stats.shapiro(ventas[\"Ventas de seguro de accidentes\"])\n",
        "\n",
        "print(\"Valor p del total de ventas:\", p_value_tot[1].round(10))\n",
        "print(\"Valor p del total de seguros de vida:\", p_value_vid[1].round(10))\n",
        "print(\"Valor p del total de seguros de hogar:\", p_value_hog[1].round(10))\n",
        "print(\"Valor p del total de seguros de accidentes:\", p_value_acc[1].round(10))"
      ]
    },
    {
      "cell_type": "code",
      "execution_count": null,
      "metadata": {
        "id": "JMD7hACoTx0k"
      },
      "outputs": [],
      "source": [
        "print (\"Coeficiente de variación del total de ventas:\", stats.variation(ventas.Total)*100, \"%\")\n",
        "print (\"Coeficiente de variación del total de seguros de vida:\", stats.variation(ventas[\"Ventas de seguro de vida\"])*100, \"%\")\n",
        "print (\"Coeficiente de variación el total de seguros de hogar:\", stats.variation(ventas[\"Ventas de seguro de hogar\"])*100, \"%\")\n",
        "print (\"Coeficiente de variación del total de seguros de accidentes:\", stats.variation(ventas[\"Ventas de seguro de accidentes\"])*100, \"%\")"
      ]
    },
    {
      "cell_type": "code",
      "execution_count": null,
      "metadata": {
        "id": "HFMm_9aAUKMk"
      },
      "outputs": [],
      "source": [
        "# Calcular las desviaciones absolutas medianas\n",
        "Md_t = np.median(ventas.Total)\n",
        "mad_t = np.median(np.abs(ventas.Total - Md_t))\n",
        "\n",
        "# Definir umbral para los outliers por lo general se usa desde 2,5 hasta 3,5\n",
        "threshold = 3.0\n",
        "\n",
        "# Detección de outliers\n",
        "outliers = ventas.Total[np.abs(ventas.Total- Md_t) / mad_t > threshold]\n",
        "\n",
        "#veamos los resultados finales\n",
        "print(\"Outliers detectados por el Método de las Desviaciones Absolutas Medianas (MAD):\")\n",
        "print(outliers)"
      ]
    },
    {
      "cell_type": "code",
      "execution_count": null,
      "metadata": {
        "id": "vl1SmIE2UqzM"
      },
      "outputs": [],
      "source": [
        "#spearman\n",
        "\n",
        "c_spr, p_v_spr = stats.spearmanr(seg_2024[\"Franja etaria\"], seg_2024[\"Categoría\"])\n",
        "\n",
        "print(\"coeficiente de spearman\", c_spr)\n",
        "print(\"p-valor:\",p_v_spr.round(10))"
      ]
    },
    {
      "cell_type": "code",
      "execution_count": null,
      "metadata": {
        "id": "m4768WBbVPm0"
      },
      "outputs": [],
      "source": [
        "#spearman 2\n",
        "c_spr2, p_v_spr2 = stats.spearmanr(seg_2024[\"Categoría del Seguro\"], seg_2024[\"Ingresos\"])\n",
        "\n",
        "print(\"coeficiente de spearman\", c_spr2)\n",
        "print(\"p-valor:\",p_v_spr2.round(6))"
      ]
    },
    {
      "cell_type": "code",
      "execution_count": null,
      "metadata": {
        "id": "EBvoPiVHWNsb"
      },
      "outputs": [],
      "source": [
        "# coeficiente biserial puntual\n",
        "\n",
        "seg_2024_2 = seg_2024\n",
        "seg_2024_2['Activo_Num'] = seg_2024_2['Activo'].map({\"Si\": 1, 'No': 0})\n",
        "\n",
        "coef_bis, p_valor = stats.pointbiserialr (seg_2024_2['Activo_Num'], seg_2024_2['Ingresos'])\n",
        "\n",
        "print (\"coeficiente de correlación biserial\", coef_bis)\n",
        "print (\"p-value\", p_valor)\n"
      ]
    },
    {
      "cell_type": "code",
      "execution_count": null,
      "metadata": {
        "id": "z8w3x55hWrCs"
      },
      "outputs": [],
      "source": [
        "# coeficiente biserial puntual 2\n",
        "\n",
        "seg_2024_2['Género_num'] = seg_2024_2[\"Género\"].map({\"Hombre\": 0, 'Mujer': 1})\n",
        "\n",
        "coef_bis2, p_valor2 = stats.pointbiserialr (seg_2024_2['Género_num'], seg_2024_2['Ingresos'])\n",
        "\n",
        "print (\"coeficiente de correlación biserial\", coef_bis2)\n",
        "print (\"p-value\", p_valor2)\n"
      ]
    },
    {
      "cell_type": "code",
      "execution_count": null,
      "metadata": {
        "id": "DQEUx5iVW85j"
      },
      "outputs": [],
      "source": [
        "# coeficiente biserial puntual 3\n",
        "\n",
        "coef_bis3, p_valor3 = stats.pointbiserialr (seg_2024_2[\"Cat_Seg_num\"], seg_2024_2['Ingresos'])\n",
        "\n",
        "print (\"coeficinte de correlación biserial\", coef_bis3)\n",
        "print (\"p-value\", p_valor3)\n"
      ]
    },
    {
      "cell_type": "code",
      "execution_count": null,
      "metadata": {
        "id": "V4aD_IayX4_T"
      },
      "outputs": [],
      "source": [
        "def per (x):\n",
        "    return round(100*(x/len(seg_2024_2)),1)"
      ]
    },
    {
      "cell_type": "code",
      "execution_count": null,
      "metadata": {
        "id": "OwFsPx9LXag7"
      },
      "outputs": [],
      "source": [
        "#chi 2\n",
        "\n",
        "tabla_contingencia_observados = pd.crosstab(index=seg_2024_2[\"Franja etaria\"], columns=seg_2024_2[\"Categoría\"], margins=True)\n",
        "\n",
        "p_valor_chi2 = chi2_contingency(tabla_contingencia_observados)\n",
        "\n",
        "tabla_contingencia_observados"
      ]
    },
    {
      "cell_type": "code",
      "execution_count": null,
      "metadata": {
        "id": "4-DrfobrXqd7"
      },
      "outputs": [],
      "source": [
        "test= chi2_contingency(tabla_contingencia_observados)\n",
        "test\n",
        "\n",
        "esperados = pd.DataFrame(test[3].round(0))\n",
        "\n",
        "esperados"
      ]
    },
    {
      "cell_type": "code",
      "execution_count": null,
      "metadata": {
        "id": "HJPjkr6SYKZv"
      },
      "outputs": [],
      "source": [
        "obser_relativos = tabla_contingencia_observados.apply(per)\n",
        "\n",
        "print(obser_relativos)"
      ]
    },
    {
      "cell_type": "code",
      "execution_count": null,
      "metadata": {
        "id": "os4cYplVX2-L"
      },
      "outputs": [],
      "source": [
        "esperados_relativos = esperados.apply(lambda x: round((x/len(seg_2024_2))* 100,1), axis=1)\n",
        "\n",
        "esperados_relativos"
      ]
    },
    {
      "cell_type": "code",
      "execution_count": null,
      "metadata": {
        "id": "LP3AnUcMYpGS"
      },
      "outputs": [],
      "source": [
        "print (p_valor_chi2[1])\n",
        "#si es menor que 0.05, se concluye que hay rel entre las variables\n",
        "#si es mayor, no hay relación"
      ]
    },
    {
      "cell_type": "code",
      "execution_count": null,
      "metadata": {
        "id": "wnf6zAuEY8P7"
      },
      "outputs": [],
      "source": [
        "#segunda prueba chi 2\n",
        "\n",
        "tabla_contingencia_observados2 = pd.crosstab(index=seg_2024_2[\"Categoría del Seguro\"], columns=seg_2024_2[\"Categoría\"], margins=True)\n",
        "\n",
        "p_valor_chi2_2 = chi2_contingency(tabla_contingencia_observados2)\n",
        "\n",
        "print (tabla_contingencia_observados2)"
      ]
    },
    {
      "cell_type": "code",
      "execution_count": null,
      "metadata": {
        "id": "o7xrUrxmZLcK"
      },
      "outputs": [],
      "source": [
        "test_nro_2= chi2_contingency(tabla_contingencia_observados2)\n",
        "\n",
        "esperados2 = pd.DataFrame(test_nro_2[3].round(0))\n",
        "\n",
        "esperados2"
      ]
    },
    {
      "cell_type": "code",
      "execution_count": null,
      "metadata": {
        "id": "KAWs6e2-ZOpi"
      },
      "outputs": [],
      "source": [
        "obser_relativos2 = tabla_contingencia_observados2.apply(per)\n",
        "\n",
        "print(obser_relativos2)"
      ]
    },
    {
      "cell_type": "code",
      "execution_count": null,
      "metadata": {
        "id": "lMyJLrKlZRWr"
      },
      "outputs": [],
      "source": [
        "esperados_relativos2 = esperados2.apply(per)\n",
        "\n",
        "esperados_relativos2"
      ]
    },
    {
      "cell_type": "code",
      "execution_count": null,
      "metadata": {
        "id": "P1CHFV1qZVDK"
      },
      "outputs": [],
      "source": [
        "print (p_valor_chi2_2[1])\n",
        "#si es menor que 0.05, se concluye que hay rel entre las variables\n",
        "#si es mayor, no hay relación"
      ]
    },
    {
      "cell_type": "code",
      "execution_count": null,
      "metadata": {
        "id": "29iCCfZgZefa"
      },
      "outputs": [],
      "source": [
        "#coeficiente phi\n",
        "phi_cross= pd.crosstab(seg_2024_2[\"Cat_Seg_num\"],seg_2024_2[\"Activo_Num\"])\n",
        "print (phi_cross)"
      ]
    },
    {
      "cell_type": "code",
      "execution_count": null,
      "metadata": {
        "id": "SKZhvWejboP6"
      },
      "outputs": [],
      "source": [
        "print(\"Coeficiente phi:\", \"-0,0045447216972526\")"
      ]
    },
    {
      "cell_type": "code",
      "execution_count": null,
      "metadata": {
        "id": "Xi2VNh3TZt-u"
      },
      "outputs": [],
      "source": [
        "ventas_gom = ventas[ventas[\"Equipo\"] == \"Gomez\"]\n",
        "ventas_per = ventas[ventas[\"Equipo\"] == \"Perez\"]\n",
        "ventas_san = ventas[ventas[\"Equipo\"] == \"Santana\"]"
      ]
    },
    {
      "cell_type": "code",
      "execution_count": null,
      "metadata": {
        "id": "6WQJhaQmZvJS"
      },
      "outputs": [],
      "source": [
        "#prueba de wilcoxon\n",
        "\n",
        "mean_gom = ventas_gom[\"Total\"].mean()\n",
        "mean_per = ventas_per[\"Total\"].mean()\n",
        "mean_san = ventas_san[\"Total\"].mean()\n",
        "\n",
        "w = stats.wilcoxon(mean_gom, mean_san)\n",
        "w1 = stats.wilcoxon(mean_gom, mean_per)\n",
        "w2 = stats.wilcoxon(mean_per, mean_san)\n",
        "print(w)\n",
        "print (w1)\n",
        "print (w2)"
      ]
    },
    {
      "cell_type": "code",
      "execution_count": null,
      "metadata": {
        "id": "lT3YsUXiarV0"
      },
      "outputs": [],
      "source": [
        "del p_value_tot\n",
        "del p_value_vid\n",
        "del p_value_hog\n",
        "del p_value_acc\n",
        "del Md_t\n",
        "del mad_t\n",
        "del threshold\n",
        "del outliers\n",
        "del c_spr\n",
        "del p_v_spr\n",
        "del c_spr2\n",
        "del p_v_spr2\n",
        "del coef_bis\n",
        "del p_valor\n",
        "del coef_bis2\n",
        "del p_valor2\n",
        "del coef_bis3\n",
        "del p_valor3\n",
        "del per\n",
        "del tabla_contingencia_observados\n",
        "del p_valor_chi2\n",
        "del test\n",
        "del esperados\n",
        "del obser_relativos\n",
        "del esperados_relativos\n",
        "del tabla_contingencia_observados2\n",
        "del p_valor_chi2_2\n",
        "del test_nro_2\n",
        "del esperados2\n",
        "del obser_relativos2\n",
        "del esperados_relativos2\n",
        "del phi_cross\n",
        "del ventas_gom\n",
        "del ventas_per\n",
        "del ventas_san\n",
        "del mean_gom\n",
        "del mean_per\n",
        "del mean_san\n",
        "del w\n",
        "del w1\n",
        "del w2\n"
      ]
    },
    {
      "cell_type": "markdown",
      "metadata": {
        "id": "HYeWHslrfI9H"
      },
      "source": [
        "#**Conclusiones de los diferentes coeficientes**"
      ]
    },
    {
      "cell_type": "markdown",
      "metadata": {
        "id": "oqouDyasfEX7"
      },
      "source": [
        "Siguiendo lo observado en los **test de shapiro** se confirma la hipotesis nula de que la distribución de las ventas sigue una distribución normal\n",
        "\n",
        "Observando los diferentes **coeficientes de variación**, se observa una heterogeneidad muy importante en los datos de las ventas. Por lo tanto, se decide remplazar los valores perdidos con la mediana en lugar de la media, así como utilizar a la mediana para hacer comparaciones, ya que ofrece una mayor fortaleza como medida debido a la dispersión de los datos.\n",
        "\n",
        "Esta prueba se hizo en primer lugar con la media, lo que derivo a cambiar los datos para utilizar la mediana. Tal modificación no es posible mostrarla en este notebook.\n",
        "\n",
        "En el calculo de la **desviación de las medianas absolutas**, no se observan outliers extremadamente altos, no existiendo ninguno que resulte inverosimil.\n",
        "\n",
        "Gracias a los **coeficientes de Spearman**, se puede decir que:\n",
        "\n",
        "- La correlación entre la franja etaria y la categoría de ingresos tiene un p value mayor a 0.05, por lo cual se confirma la hipotesis nula y se rechaza una correlación significativa\n",
        "\n",
        "- La correlación entre la categoría del seguro y los ingresos de los clientes es moderada, con un p_value que confirma la relación.\n",
        "\n",
        "Gracias al **coeficiente biserial puntual** podemos decir que:\n",
        "\n",
        "- La correlación entre los clientes que mantuvieron sus seguros y sus ingresos tiene una correlación practicamente nula. Por el p value debemos confirmar la hipotesis nula.\n",
        "\n",
        "- Lo mismo se puede decir de la correlación entre el género de los clientes y sus ingresos, con un p_value que confirma la hipotesis nula y un coeficiente muy bajo.\n",
        "\n",
        "- Como contraparte, se puede decir también gracias a este coeficiente que existe una correlación entre el tipo de seguro que contratan los clientes y sus ingresos, con un p value que rechaza la hipotesis nula y un coeficiente que indica una relación moderada entre estas dos variables.\n",
        "\n",
        "Por la prueba de **chi cuadrado**, podemos decir lo siguiente:\n",
        "\n",
        "- Pareciera haber una relación entre la categoría socio-económica y las franjas etarias de los clientes que contratan los seguros, no obstante lo cual no pareciera haber una distancia demasiado relevante entre los casos observados y los casos esperados por esta prueba estadistica.\n",
        "\n",
        "- Nuevamente, a traves de la prueba de chi cuadrado podemos decir que existe indudablemente una relación entre la categoría socio-económica de los clientes y el tipo de seguro que contratan, lo suficientemente significativa como para intentar precisar como podría esto beneficiar a nuestro modelo de negocios.\n",
        "\n",
        "Por el **coeficiente de phi** podemos decir que la correlación entre el tipo de seguro que contratan los clientes y su estado como clientes activos o inactivos es prácticamente nula.\n",
        "\n",
        "Por la **prueba de Wilcoxon** podemos observar que la diferencia entre la media de ventas totales de los diferentes equipos es estadisticamente identica.\n",
        "\n"
      ]
    },
    {
      "cell_type": "markdown",
      "source": [
        "# **Modelos**"
      ],
      "metadata": {
        "id": "UC6m2sZdubhq"
      }
    },
    {
      "cell_type": "markdown",
      "source": [
        "En la parte que sigue, se vera la elaboración de diferentes técnicas de modelados que fueron ideadas siguiendo **cierta relación que se observa entre los ingresos de las personas que contrataron seguros y el tipo de seguro que adquirieron**.\n",
        "\n",
        "Estos diferentes modelos intentan predecir la contratación de ciertos tipos de seguros según los ingresos que detente la persona. Debido a que hay tres seguros que poseen un mayor valor, se enfoco a los diferentes modelos en intentar predecir acertadamente la adquisición de esos seguros en desmedro de los de bajo de valor. Es por ello que el enfoque prioriza la métrica de **\"Precisión\"** en los diferentes algoritmos creados.\n",
        "\n",
        "En total, **se crearon 5 modelos**:\n",
        "-**Los primeros dos modelos fueron realizados con el algoritmo de Vecinos cercanos**, utilizando como variables independientes a la categoría de Género, Ingresos y Franja Etaria. **En tanto, la variable dependiente (como en todos los modelos) es la categoría del seguro (que se subdivide en seguros de alto valor y bajo valor)**. Al primer modelo se le aplico además una Curva ROC para intentar mejorar sus predicciones.\n",
        "\n",
        "-**El tercer modelo también se realiza con el algoritmo de vecinos cercanos**, utilizando como variables independientes a las cáracteristicas de Género, Categoría del cliente y Franja etaria. La variable objetivo no se modifica. A este modelo se le aplico una curva ROC para intentar mejorar sus predicciones.\n",
        "\n",
        "-**El cuarto modelo fue un Random Forest**, utilizando las mismas variables que las del tercer modelo. A este modelo se le aplico una curva ROC para intentar mejorar sus predicciones.\n",
        "\n",
        "-**El quinto modelo fue un arbol al cual se le aplico un algoritmo de XGBClassifier**, utilizando las mismas variables que en el modelo de Random Forest, con el objetivo de intentar comparar los resultados de este modelo con el del cuarto modelo.\n",
        "\n",
        "**Al final de este Notebook se encuentra una comparación sintetica de los resultados**, para poder comprender con solo un vistazo la diferencia entre los diferentes resultados que brindaron los modelos."
      ],
      "metadata": {
        "id": "E_HJjJFsuhBo"
      }
    },
    {
      "cell_type": "markdown",
      "source": [
        "\n",
        "\n",
        "---\n",
        "\n"
      ],
      "metadata": {
        "id": "V4-j5rsxG5eL"
      }
    },
    {
      "cell_type": "markdown",
      "source": [
        "# **Aclaración sobre los modelos**\n",
        "\n",
        "A los diversos modelos que siguen se les aplico la validación simple así como un Stratified K-Fold, con el objetivo de validar las predicciones.\n",
        "\n",
        "Adicionalmente, fueron aplicadas diferentes grillas con el objetivo de intentar aplicar diversos hiperparametros que permitan obtener los mejores rendimientos."
      ],
      "metadata": {
        "id": "34U1XAdiHBBD"
      }
    },
    {
      "cell_type": "markdown",
      "source": [
        "# **Primer Modelo KNN**"
      ],
      "metadata": {
        "id": "hyOx8C7jGZ93"
      }
    },
    {
      "cell_type": "markdown",
      "source": [
        "Definición de variables e importación de librerias"
      ],
      "metadata": {
        "id": "QAEeZF3OPJsh"
      }
    },
    {
      "cell_type": "code",
      "source": [
        "df_variables = seg_2024.drop([\"Poliza\", \"Seguro\", \"Edad\", \"Activo\", \"Activo\", \"Categoría\" , \"Activo_Num\", \"Género_num\", \"Categoría del Seguro\"], axis=1)"
      ],
      "metadata": {
        "id": "kpfu5eWiQoUZ"
      },
      "execution_count": null,
      "outputs": []
    },
    {
      "cell_type": "code",
      "source": [
        "X_New1 = seg_2024.drop([\"Poliza\", \"Seguro\", \"Edad\", \"Activo\", \"Categoría\" ,\"Categoría del Seguro\", \"Cat_Seg_num\", \"Activo_Num\", \"Género_num\"], axis=1)\n",
        "Y_New1 = seg_2024[\"Cat_Seg_num\"]"
      ],
      "metadata": {
        "id": "_E0Ud56hDz-v"
      },
      "execution_count": null,
      "outputs": []
    },
    {
      "cell_type": "code",
      "source": [
        "dict1 = {\"Joven\": 0, \"Adulto\": 1, \"Adulto mayor\":2}\n",
        "dict2 = {\"Mujer\": 0, \"Hombre\": 1}"
      ],
      "metadata": {
        "id": "XhhZjFEDEswO"
      },
      "execution_count": null,
      "outputs": []
    },
    {
      "cell_type": "code",
      "source": [
        "X_New1[\"Franja etaria\"] = X_New1[\"Franja etaria\"].map(dict1)\n",
        "X_New1[\"Género\"] = X_New1[\"Género\"].map(dict2)"
      ],
      "metadata": {
        "id": "ct9G7DVzEyd2"
      },
      "execution_count": null,
      "outputs": []
    },
    {
      "cell_type": "code",
      "source": [
        "df_variables [\"Franja etaria\"] = df_variables [\"Franja etaria\"].map(dict1)\n",
        "df_variables [\"Género\"] = df_variables [\"Género\"].map(dict2)"
      ],
      "metadata": {
        "id": "lRb-JJ7jSNsf"
      },
      "execution_count": null,
      "outputs": []
    },
    {
      "cell_type": "code",
      "source": [
        "df_variables.head()"
      ],
      "metadata": {
        "id": "H3i4JamqST-g"
      },
      "execution_count": null,
      "outputs": []
    },
    {
      "cell_type": "code",
      "source": [
        "from sklearn.metrics import mean_squared_error\n",
        "from sklearn.pipeline import Pipeline\n",
        "from sklearn.preprocessing import StandardScaler\n",
        "from sklearn.model_selection import train_test_split\n",
        "from sklearn.model_selection import GridSearchCV, StratifiedKFold, KFold\n",
        "from sklearn.model_selection import cross_val_score\n",
        "from sklearn.neighbors import KNeighborsClassifier\n",
        "from sklearn.metrics import make_scorer, accuracy_score, precision_score, recall_score, f1_score\n",
        "from sklearn.metrics import classification_report, confusion_matrix\n",
        "from sklearn import metrics\n",
        "from sklearn.model_selection import RandomizedSearchCV\n",
        "from sklearn.experimental import enable_halving_search_cv\n",
        "from sklearn.model_selection import HalvingGridSearchCV\n",
        "from sklearn.cluster import KMeans\n",
        "from yellowbrick.cluster import KElbowVisualizer\n",
        "from sklearn.experimental import enable_halving_search_cv\n",
        "from sklearn.model_selection import HalvingRandomSearchCV\n",
        "from sklearn.metrics import davies_bouldin_score,silhouette_score,silhouette_samples,calinski_harabasz_score\n",
        "from yellowbrick.cluster import SilhouetteVisualizer\n",
        "import matplotlib.cm as cm\n",
        "from sklearn.metrics import roc_curve\n",
        "from sklearn.metrics import roc_auc_score, auc\n",
        "from sklearn.ensemble import RandomForestClassifier"
      ],
      "metadata": {
        "id": "Py-vYbUfFa5I"
      },
      "execution_count": null,
      "outputs": []
    },
    {
      "cell_type": "markdown",
      "source": [
        "**Diseño de gráfico para analizar con cuantos clusters armar el Modelo KNN de clasificación**"
      ],
      "metadata": {
        "id": "MC6TUmO9_AZ6"
      }
    },
    {
      "cell_type": "code",
      "source": [
        "x_train_KNN, x_Test_KNN, y_train_KNN, y_test_KNN= train_test_split (X_New1, Y_New1, test_size=0.3, random_state=42)"
      ],
      "metadata": {
        "id": "EgGg41lWF25g"
      },
      "execution_count": null,
      "outputs": []
    },
    {
      "cell_type": "code",
      "source": [
        "# normalización de la data para gráficar\n",
        "X_scal = df_variables.values\n",
        "sc = StandardScaler()\n",
        "sc.fit(X_scal)\n",
        "scalado = sc.transform(X_scal)"
      ],
      "metadata": {
        "id": "GYb5w1FCira2"
      },
      "execution_count": null,
      "outputs": []
    },
    {
      "cell_type": "code",
      "source": [
        "model= KMeans()\n",
        "visualizer= KElbowVisualizer(model, k=(1,10))\n",
        "visualizer.fit(X_scal)\n",
        "visualizer.show()"
      ],
      "metadata": {
        "id": "xFNL2q0mP3--"
      },
      "execution_count": null,
      "outputs": []
    },
    {
      "cell_type": "markdown",
      "source": [
        "**Diseño de la silueta para ver con cuantos Clusters armar el modelo de KNN**"
      ],
      "metadata": {
        "id": "wsUskMcb_hb8"
      }
    },
    {
      "cell_type": "code",
      "source": [
        "#diseñar la silueta\n",
        "slc = {}\n",
        "for k in range(2, 10):\n",
        "    # semilla de 10 para asegurar reproducibilidad\n",
        "    kmeans = KMeans(n_clusters=k, max_iter=1000,random_state=42).fit(scalado) # Algoritmo K means\n",
        "    clusters = kmeans.labels_ # Extraccion de labels\n",
        "    slc[k] = silhouette_score(scalado,clusters) # Calculo del indice de Silhouette\n"
      ],
      "metadata": {
        "id": "qJtX1qfpi8Sc"
      },
      "execution_count": null,
      "outputs": []
    },
    {
      "cell_type": "code",
      "source": [
        "plt.figure(figsize=(15,10))\n",
        "plt.plot(list(slc.keys()), list(slc.values()))\n",
        "plt.xlabel(\"Numero de clusters\")\n",
        "plt.ylabel(\"Score de Silhouette\")\n",
        "plt.show()"
      ],
      "metadata": {
        "id": "VwjJL1HgktZL"
      },
      "execution_count": null,
      "outputs": []
    },
    {
      "cell_type": "code",
      "source": [
        "fig, ax = plt.subplots(2, 3, figsize=(15, 8))\n",
        "for i in range(2, 8):\n",
        "    km = KMeans(n_clusters=i, init='random', n_init=10, max_iter=100, random_state=42)\n",
        "    q, mod = divmod(i-2, 3)\n",
        "    visualizer = SilhouetteVisualizer(km, colors='yellowbrick', ax=ax[q][mod])\n",
        "    visualizer.fit(X_scal)\n",
        "\n",
        "# https://thedataschools.com/python/funciones/divmod-funcion/#:~:text=La%20funci%C3%B3n%20divmod()%20en,el%20cociente%20y%20el%20residuo.\n",
        "plt.show()"
      ],
      "metadata": {
        "id": "kpctxMEolC4u"
      },
      "execution_count": null,
      "outputs": []
    },
    {
      "cell_type": "markdown",
      "source": [
        "A primera vista, se puede observar gracias a este gráfico de silueta que el algoritmo de KNN tendría dificultad para agrupar a los diversos grupos, contando los clusters con una heterogeneidad diversa (cuando no con datos negativos)"
      ],
      "metadata": {
        "id": "zTebXPp9IAV9"
      }
    },
    {
      "cell_type": "markdown",
      "source": [
        "**Primer modelo, diseñado con GridSearch**"
      ],
      "metadata": {
        "id": "Fi8Ktr4B_ndm"
      }
    },
    {
      "cell_type": "code",
      "source": [
        "pipe_KNN_1 = Pipeline([\n",
        "    ('scaler', StandardScaler()),\n",
        "    ('modelo', KNeighborsClassifier())\n",
        "])\n",
        "\n",
        "hiperp_KNN_1 = [\n",
        "    {\n",
        "        'modelo__n_neighbors': [3, 5, 7, 10],\n",
        "        'modelo__weights': ['uniform', 'distance'],\n",
        "        'modelo__metric': ['euclidean'],\n",
        "        'modelo__p': [2]\n",
        "    },\n",
        "    {\n",
        "        'modelo__n_neighbors': [3, 5, 7, 10],\n",
        "        'modelo__weights': ['uniform', 'distance'],\n",
        "        'modelo__metric': ['manhattan'],\n",
        "        'modelo__p': [1]\n",
        "    },\n",
        "    {\n",
        "        'modelo__n_neighbors': [3, 5, 7, 10],\n",
        "        'modelo__weights': ['uniform', 'distance'],\n",
        "        'modelo__metric': ['minkowski'],\n",
        "        'modelo__p': [1, 2, 3]\n",
        "    }\n",
        "]\n",
        "\n",
        "scoring_1 = {\n",
        "    'accuracy': make_scorer(accuracy_score),\n",
        "    'precision': make_scorer(precision_score, average='macro'),\n",
        "    'recall': make_scorer(recall_score, average='macro'),\n",
        "    'f1': make_scorer(f1_score, average='macro')\n",
        "}\n",
        "\n",
        "S_kfold_1 = StratifiedKFold(n_splits=10, shuffle=True, random_state=42)\n",
        "\n",
        "grilla_KNN_1 = GridSearchCV(\n",
        "    pipe_KNN_1,\n",
        "    hiperp_KNN_1,\n",
        "    cv=S_kfold_1,\n",
        "    scoring=scoring_1,\n",
        "    refit='precision',\n",
        "    n_jobs=-1,\n",
        "    verbose=3\n",
        ")\n",
        "\n",
        "grilla_KNN_1.fit(x_train_KNN, y_train_KNN)"
      ],
      "metadata": {
        "id": "EevwI4nVGQFe"
      },
      "execution_count": null,
      "outputs": []
    },
    {
      "cell_type": "code",
      "source": [
        "modelo_KNN_1= grilla_KNN_1.best_estimator_\n",
        "modelo_KNN_1.fit(x_train_KNN, y_train_KNN)"
      ],
      "metadata": {
        "id": "_g_g4AdZGkjR"
      },
      "execution_count": null,
      "outputs": []
    },
    {
      "cell_type": "code",
      "source": [
        "y_pred_train_KNN_1 = modelo_KNN_1.predict(x_train_KNN)\n",
        "y_pred_test_KNN_1= modelo_KNN_1.predict(x_Test_KNN)"
      ],
      "metadata": {
        "id": "TgaTiAR1G5yI"
      },
      "execution_count": null,
      "outputs": []
    },
    {
      "cell_type": "code",
      "source": [
        "# Reporte de clasificación con datos de entrenamiento\n",
        "print(\"Reporte de clasificación con datos de entrenamiento:\")\n",
        "print(classification_report(y_train_KNN, y_pred_train_KNN_1))"
      ],
      "metadata": {
        "id": "htuagUv0NfVe"
      },
      "execution_count": null,
      "outputs": []
    },
    {
      "cell_type": "code",
      "source": [
        "# Reporte de clasificación con datos de testeo\n",
        "print(\"Reporte de clasificación con datos de testeo:\")\n",
        "print(classification_report(y_test_KNN, y_pred_test_KNN_1))"
      ],
      "metadata": {
        "id": "LFv-kJIlJ3Ch"
      },
      "execution_count": null,
      "outputs": []
    },
    {
      "cell_type": "code",
      "source": [
        "# Matriz de confusión\n",
        "cm_1 = confusion_matrix(y_train_KNN, y_pred_train_KNN_1)\n",
        "cm_2 = confusion_matrix(y_test_KNN, y_pred_test_KNN_1)"
      ],
      "metadata": {
        "id": "DuOHjFgtKGo7"
      },
      "execution_count": null,
      "outputs": []
    },
    {
      "cell_type": "code",
      "source": [
        "plt.figure(figsize=(6, 4))\n",
        "sns.heatmap(cm_1, annot=True, fmt=\"d\", cmap=\"Blues\")\n",
        "plt.title(\"Matriz de datos de entrenamiento\")\n",
        "plt.xlabel(\"Predicted Label\")\n",
        "plt.ylabel(\"True Label\")\n",
        "plt.show()"
      ],
      "metadata": {
        "id": "dFFy_cRGBB4x"
      },
      "execution_count": null,
      "outputs": []
    },
    {
      "cell_type": "code",
      "source": [
        "plt.figure(figsize=(6, 4))\n",
        "sns.heatmap(cm_2, annot=True, fmt=\"d\", cmap=\"Blues\")\n",
        "plt.title(\"Matriz de datos de testeo\")\n",
        "plt.xlabel(\"Predicted Label\")\n",
        "plt.ylabel(\"True Label\")\n",
        "plt.show()\n"
      ],
      "metadata": {
        "id": "8jtfc7r6K5MP"
      },
      "execution_count": null,
      "outputs": []
    },
    {
      "cell_type": "code",
      "source": [
        "# Obtener las probabilidades predichas (para la clase positiva) en datos de entrenamiento\n",
        "y_proba_1 = modelo_KNN_1.predict_proba(x_train_KNN)[:, 1]\n",
        "\n",
        "# Calcular FPR, TPR y thresholds\n",
        "fpr_1, tpr_1, umbrales_1 = roc_curve(y_train_KNN, y_proba_1)\n",
        "\n",
        "# Calcular AUC\n",
        "roc_auc_1 = auc(fpr_1, tpr_1)\n",
        "\n",
        "plt.figure(figsize=(8, 6))\n",
        "plt.plot(fpr_1, tpr_1, color='blue', lw=2, label=f'Curva ROC (AUC = {roc_auc_1:.2f})')\n",
        "plt.plot([0, 1], [0, 1], color='black', linestyle='--')  # Línea de referencia\n",
        "plt.xlabel('Rango de Falsos Positivos (FPR)')\n",
        "plt.ylabel('Rango de Verdaderos Positivos (TPR)')\n",
        "plt.title('Curva ROC - Clasificación Binaria')\n",
        "plt.legend()\n",
        "plt.grid()\n",
        "plt.show()"
      ],
      "metadata": {
        "id": "IHipBiFbwURe"
      },
      "execution_count": null,
      "outputs": []
    },
    {
      "cell_type": "code",
      "source": [
        "youden_j_KNN = tpr_1 - fpr_1\n",
        "indice_optimo_KNN_1 = np.argmax(youden_j_KNN)\n",
        "umbral_optimo_KNN_1 = umbrales_1[indice_optimo_KNN_1]\n",
        "print(\"Punto de corte óptimo:\", umbral_optimo_KNN_1)"
      ],
      "metadata": {
        "id": "9AYW-fkQwkmW"
      },
      "execution_count": null,
      "outputs": []
    },
    {
      "cell_type": "code",
      "source": [
        "Datos_ROC_1 = pd.DataFrame(zip(fpr_1, tpr_1, umbrales_1), columns=[\"FPR\", \"TPR\", \"Umbrales\"])\n",
        "Datos_ROC_1.head()"
      ],
      "metadata": {
        "id": "Lhjf17wXxAy1"
      },
      "execution_count": null,
      "outputs": []
    },
    {
      "cell_type": "code",
      "source": [
        "# Establecer un umbral para convertir las probabilidades en etiquetas binarias\n",
        "umbral_1 = 0.5\n",
        "etiquetas_predichas_1 = (y_proba_1 >= umbral_1).astype(int)"
      ],
      "metadata": {
        "id": "0mrYfvHvxG2w"
      },
      "execution_count": null,
      "outputs": []
    },
    {
      "cell_type": "code",
      "source": [
        "# Matriz de confusión con curva ROC de datos de entrenamiento\n",
        "cm_ROC_1 = confusion_matrix(y_train_KNN, etiquetas_predichas_1)\n",
        "\n",
        "plt.figure(figsize=(6, 4))\n",
        "sns.heatmap(cm_ROC_1, annot=True, fmt=\"d\", cmap=\"Blues\")\n",
        "plt.title(\"Matriz con la curva ROC\")\n",
        "plt.xlabel(\"Predicted Label\")\n",
        "plt.ylabel(\"True Label\")\n",
        "plt.show()"
      ],
      "metadata": {
        "id": "LP0lKISmxOmm"
      },
      "execution_count": null,
      "outputs": []
    },
    {
      "cell_type": "code",
      "source": [
        "# Evaluar el rendimiento del modelo luego de la curva ROC\n",
        "print(classification_report(y_train_KNN, etiquetas_predichas_1))"
      ],
      "metadata": {
        "id": "fwjWIld_CSq7"
      },
      "execution_count": null,
      "outputs": []
    },
    {
      "cell_type": "code",
      "source": [
        "# Obtener las probabilidades predichas (para la clase positiva) en datos de testeo\n",
        "y_proba_2 = modelo_KNN_1.predict_proba(x_Test_KNN)[:, 1]\n",
        "# Calcular FPR, TPR y thresholds\n",
        "fpr_2, tpr_2, umbrales_2 = roc_curve(y_test_KNN, y_proba_2)\n",
        "\n",
        "# Calcular AUC\n",
        "roc_auc_2 = auc(fpr_2, tpr_2)\n",
        "\n",
        "\n",
        "plt.figure(figsize=(8, 6))\n",
        "plt.plot(fpr_2, tpr_2, color='blue', lw=2, label=f'Curva ROC (AUC = {roc_auc_2:.2f})')\n",
        "plt.plot([0, 1], [0, 1], color='black', linestyle='--')  # Línea de referencia\n",
        "plt.xlabel('Rango de Falsos Positivos (FPR)')\n",
        "plt.ylabel('Rango de Verdaderos Positivos (TPR)')\n",
        "plt.title('Curva ROC - Clasificación Binaria')\n",
        "plt.legend()\n",
        "plt.grid()\n",
        "plt.show()"
      ],
      "metadata": {
        "id": "-jSsc8eRhHOA"
      },
      "execution_count": null,
      "outputs": []
    },
    {
      "cell_type": "code",
      "source": [
        "youden_j_KNN_2 = tpr_2 - fpr_2\n",
        "indice_optimo_KNN_2 = np.argmax(youden_j_KNN)\n",
        "umbral_optimo_KNN_2 = umbrales_2[indice_optimo_KNN_2]\n",
        "print(\"Punto de corte óptimo:\", umbral_optimo_KNN_2)"
      ],
      "metadata": {
        "id": "NZQCZT75uWGD"
      },
      "execution_count": null,
      "outputs": []
    },
    {
      "cell_type": "code",
      "source": [
        "Datos_ROC_2 = pd.DataFrame(zip(fpr_2, tpr_2, umbrales_2), columns=[\"FPR\", \"TPR\", \"Umbrales\"])\n",
        "Datos_ROC_2.head()"
      ],
      "metadata": {
        "id": "S_bb70dCu_fw"
      },
      "execution_count": null,
      "outputs": []
    },
    {
      "cell_type": "code",
      "source": [
        "# Establecer un umbral para convertir las probabilidades en etiquetas binarias\n",
        "umbral_2 = 0.5\n",
        "etiquetas_predichas_2 = (y_proba_2 >= umbral_2).astype(int)"
      ],
      "metadata": {
        "id": "q4hHG_tLDRHr"
      },
      "execution_count": null,
      "outputs": []
    },
    {
      "cell_type": "code",
      "source": [
        "# Creando la matriz de confusión con curva ROC para datos de testeo\n",
        "cm_ROC_2 = confusion_matrix(y_test_KNN, etiquetas_predichas_2)\n",
        "\n",
        "plt.figure(figsize=(6, 4))\n",
        "sns.heatmap(cm_ROC_2, annot=True, fmt=\"d\", cmap=\"Blues\")\n",
        "plt.title(\"Confusion Matrix\")\n",
        "plt.xlabel(\"Predicted Label\")\n",
        "plt.ylabel(\"True Label\")\n",
        "plt.show()"
      ],
      "metadata": {
        "id": "uw_BtSjAvqsK"
      },
      "execution_count": null,
      "outputs": []
    },
    {
      "cell_type": "code",
      "source": [
        "#Rendimiento del modelo aplicada la curva ROC con datos de testeo\n",
        "print(classification_report(y_test_KNN, etiquetas_predichas_2))"
      ],
      "metadata": {
        "id": "uKgKxktJyC7O"
      },
      "execution_count": null,
      "outputs": []
    },
    {
      "cell_type": "markdown",
      "source": [
        "# **Segundo Modelo KNN**"
      ],
      "metadata": {
        "id": "WJ5gBgfbBc0w"
      }
    },
    {
      "cell_type": "code",
      "source": [
        "#datos del segundo modelo\n",
        "x_train_KNN_2, x_Test_KNN_2, y_train_KNN_2, y_test_KNN_2= train_test_split (X_New1, Y_New1, test_size=0.3, random_state=42)"
      ],
      "metadata": {
        "id": "2sKZ3yghXNMP"
      },
      "execution_count": null,
      "outputs": []
    },
    {
      "cell_type": "code",
      "source": [
        "pipe_KNN_2 = Pipeline([\n",
        "    ('scaler', StandardScaler()),\n",
        "    ('modelo', KNeighborsClassifier())\n",
        "])\n",
        "\n",
        "hiperp_KNN_2 = {'modelo__n_neighbors': [3, 4, 5, 6],\n",
        "              'modelo__weights': ['uniform', 'distance'],\n",
        "              }\n",
        "\n",
        "S_kfold_2 = StratifiedKFold(n_splits=10, shuffle=True, random_state=42)\n",
        "\n",
        "grilla_KNN_2 = HalvingRandomSearchCV(\n",
        "    pipe_KNN_2,\n",
        "    hiperp_KNN_2,\n",
        "    factor=3,\n",
        "    cv=S_kfold_2,\n",
        "    n_jobs=-1,\n",
        "    random_state=42,\n",
        "    verbose=3\n",
        ")\n",
        "\n",
        "grilla_KNN_2.fit(x_train_KNN_2, y_train_KNN_2)"
      ],
      "metadata": {
        "id": "BFVxjaskPCAj"
      },
      "execution_count": null,
      "outputs": []
    },
    {
      "cell_type": "code",
      "source": [
        "modelo_KNN_2=grilla_KNN_2.best_estimator_\n",
        "modelo_KNN_2.fit(x_train_KNN_2, y_train_KNN_2)"
      ],
      "metadata": {
        "id": "zzfOlK-7YeWq"
      },
      "execution_count": null,
      "outputs": []
    },
    {
      "cell_type": "code",
      "source": [
        "y_pred_test_KNN_2 = modelo_KNN_2.predict(x_Test_KNN_2)\n",
        "y_pred_train_KNN_2 = modelo_KNN_2.predict(x_train_KNN_2)"
      ],
      "metadata": {
        "id": "LMODVY-UZH4P"
      },
      "execution_count": null,
      "outputs": []
    },
    {
      "cell_type": "code",
      "source": [
        "# Reporte de clasificación con datos de train\n",
        "print(classification_report(y_train_KNN_2, y_pred_train_KNN_2))"
      ],
      "metadata": {
        "id": "4PG8XrIHZVJS"
      },
      "execution_count": null,
      "outputs": []
    },
    {
      "cell_type": "code",
      "source": [
        "# Reporte de clasificación con datos de testeo\n",
        "print(classification_report(y_test_KNN_2, y_pred_test_KNN_2))"
      ],
      "metadata": {
        "id": "pSBan7tkZlvf"
      },
      "execution_count": null,
      "outputs": []
    },
    {
      "cell_type": "code",
      "source": [
        "cm_KNN_3 = confusion_matrix(y_test_KNN_2, y_pred_test_KNN_2)\n",
        "cm_KNN_4 = confusion_matrix(y_train_KNN_2, y_pred_train_KNN_2)"
      ],
      "metadata": {
        "id": "pAjELo-mcVNb"
      },
      "execution_count": null,
      "outputs": []
    },
    {
      "cell_type": "code",
      "source": [
        "plt.figure(figsize=(6, 4))\n",
        "sns.heatmap(cm_KNN_4, annot=True, fmt=\"d\", cmap=\"Blues\")\n",
        "plt.title(\"Matrix de confusión con datos de entrenamiento\")\n",
        "plt.xlabel(\"Predicted Label\")\n",
        "plt.ylabel(\"True Label\")\n",
        "plt.show()"
      ],
      "metadata": {
        "id": "-9mdQU0w0MQL"
      },
      "execution_count": null,
      "outputs": []
    },
    {
      "cell_type": "code",
      "source": [
        "plt.figure(figsize=(6, 4))\n",
        "sns.heatmap(cm_KNN_3, annot=True, fmt=\"d\", cmap=\"Blues\")\n",
        "plt.title(\"Matrix de confusión con datos de testeo\")\n",
        "plt.xlabel(\"Predicted Label\")\n",
        "plt.ylabel(\"True Label\")\n",
        "plt.show()"
      ],
      "metadata": {
        "id": "PZEF9zdM0GB4"
      },
      "execution_count": null,
      "outputs": []
    },
    {
      "cell_type": "code",
      "source": [
        "# Obtener las probabilidades predichas (para la clase positiva) en datos de entrenamiento\n",
        "y_proba_KNN_3 = modelo_KNN_2.predict_proba(x_train_KNN_2)[:, 1]\n",
        "\n",
        "# Calcular FPR, TPR y thresholds\n",
        "fpr_3, tpr_3, umbrales_3 = roc_curve(y_train_KNN_2, y_proba_KNN_3)\n",
        "\n",
        "# Calcular AUC\n",
        "roc_auc_3 = auc(fpr_3, tpr_3)\n",
        "\n",
        "plt.figure(figsize=(8, 6))\n",
        "plt.plot(fpr_3, tpr_3, color='blue', lw=2, label=f'Curva ROC (AUC = {roc_auc_3:.2f})')\n",
        "plt.plot([0, 1], [0, 1], color='black', linestyle='--')  # Línea de referencia\n",
        "plt.xlabel('Rango de Falsos Positivos (FPR)')\n",
        "plt.ylabel('Rango de Verdaderos Positivos (TPR)')\n",
        "plt.title('Curva ROC - Clasificación Binaria')\n",
        "plt.legend()\n",
        "plt.grid()\n",
        "plt.show()"
      ],
      "metadata": {
        "id": "QMnn_iDG0I42"
      },
      "execution_count": null,
      "outputs": []
    },
    {
      "cell_type": "code",
      "source": [
        "# Calcular la distancia para encontrar el punto de corte óptimo\n",
        "distancias_3 = np.sqrt((1 - tpr_3)**2 + fpr_3**2)\n",
        "indice_optimo_3 = np.argmin(distancias_3)\n",
        "umbral_optimo_3 = umbrales_3[indice_optimo_3]\n",
        "\n",
        "print(\"Punto de corte óptimo:\", umbral_optimo_3)"
      ],
      "metadata": {
        "id": "yF8EnfkM2OXu"
      },
      "execution_count": null,
      "outputs": []
    },
    {
      "cell_type": "code",
      "source": [
        "Datos_ROC_3 = pd.DataFrame(zip(fpr_3, tpr_3, umbrales_3), columns=[\"FPR\", \"TPR\", \"Umbrales\"])\n",
        "Datos_ROC_3.head()"
      ],
      "metadata": {
        "id": "vEgxs2lr3YTU"
      },
      "execution_count": null,
      "outputs": []
    },
    {
      "cell_type": "code",
      "source": [
        "# Establecer un umbral para convertir las probabilidades en etiquetas binarias\n",
        "umbral_3 = 0.5\n",
        "etiquetas_predichas_3 = (y_proba_KNN_3 >= umbral_3).astype(int)"
      ],
      "metadata": {
        "id": "oKQl31Qi4W2V"
      },
      "execution_count": null,
      "outputs": []
    },
    {
      "cell_type": "code",
      "source": [
        "# Creando la matriz de confusión\n",
        "cm_ROC_3 = confusion_matrix(y_train_KNN_2, etiquetas_predichas_3)"
      ],
      "metadata": {
        "id": "j_Sf23gg4zQg"
      },
      "execution_count": null,
      "outputs": []
    },
    {
      "cell_type": "code",
      "source": [
        "plt.figure(figsize=(6, 4))\n",
        "sns.heatmap(cm_ROC_3, annot=True, fmt=\"d\", cmap=\"Blues\")\n",
        "plt.title(\"Matriz de confusión con datos de entrenamiento\")\n",
        "plt.xlabel(\"Predicted Label\")\n",
        "plt.ylabel(\"True Label\")\n",
        "plt.show()"
      ],
      "metadata": {
        "id": "frF2_Lpp5BeK"
      },
      "execution_count": null,
      "outputs": []
    },
    {
      "cell_type": "code",
      "source": [
        "#Rendimiento del modelo de train con la curva ROC\n",
        "print(classification_report(y_train_KNN_2, etiquetas_predichas_3))"
      ],
      "metadata": {
        "id": "sAuMwJS79Siz"
      },
      "execution_count": null,
      "outputs": []
    },
    {
      "cell_type": "code",
      "source": [
        "# Obtener las probabilidades predichas (para la clase positiva) en datos de Test\n",
        "y_proba_KNN_4 = modelo_KNN_2.predict_proba(x_Test_KNN_2)[:, 1]\n",
        "\n",
        "# Calcular FPR, TPR y thresholds\n",
        "fpr_4, tpr_4, umbrales_4 = roc_curve(y_test_KNN_2, y_proba_KNN_4)\n",
        "\n",
        "# Calcular AUC\n",
        "roc_auc_4 = auc(fpr_4, tpr_4)\n",
        "\n",
        "plt.figure(figsize=(8, 6))\n",
        "plt.plot(fpr_4, tpr_4, color='blue', lw=2, label=f'Curva ROC (AUC = {roc_auc_4:.2f})')\n",
        "plt.plot([0, 1], [0, 1], color='gray', linestyle='--')  # Línea de referencia\n",
        "plt.xlabel('False Positive Rate (FPR)')\n",
        "plt.ylabel('True Positive Rate (TPR)')\n",
        "plt.title('Curva ROC - Clasificación Binaria')\n",
        "plt.legend()\n",
        "plt.grid()\n",
        "plt.show()"
      ],
      "metadata": {
        "id": "fNpM9qYr5Nn4"
      },
      "execution_count": null,
      "outputs": []
    },
    {
      "cell_type": "code",
      "source": [
        "# Calcular la distancia para encontrar el punto de corte óptimo\n",
        "distancias_4 = np.sqrt((1 - tpr_4)**2 + fpr_4**2)\n",
        "indice_optimo_4 = np.argmin(distancias_4)\n",
        "umbral_optimo_4 = umbrales_4[indice_optimo_4]\n",
        "\n",
        "print(\"Punto de corte óptimo:\", umbral_optimo_4)"
      ],
      "metadata": {
        "id": "LzTAulAk6Dof"
      },
      "execution_count": null,
      "outputs": []
    },
    {
      "cell_type": "code",
      "source": [
        "Datos_ROC_4 = pd.DataFrame(zip(fpr_4, tpr_4, umbrales_4), columns=[\"FPR\", \"TPR\", \"Umbrales\"])\n",
        "Datos_ROC_4.head()"
      ],
      "metadata": {
        "id": "UBVO5T9e6TBN"
      },
      "execution_count": null,
      "outputs": []
    },
    {
      "cell_type": "code",
      "source": [
        "# Establecer un umbral para convertir las probabilidades en etiquetas binarias\n",
        "umbral_4 = 0.5\n",
        "etiquetas_predichas_4 = (y_proba_KNN_4 >= umbral_4).astype(int)"
      ],
      "metadata": {
        "id": "2vA0xeUU6t0d"
      },
      "execution_count": null,
      "outputs": []
    },
    {
      "cell_type": "code",
      "source": [
        "cm_ROC_4 = confusion_matrix(y_test_KNN_2, etiquetas_predichas_4)"
      ],
      "metadata": {
        "id": "T2YFhznB8KnL"
      },
      "execution_count": null,
      "outputs": []
    },
    {
      "cell_type": "code",
      "source": [
        "plt.figure(figsize=(6, 4))\n",
        "sns.heatmap(cm_ROC_4, annot=True, fmt=\"d\", cmap=\"Blues\")\n",
        "plt.title(\"Matriz con curva ROC y datos de testeo\")\n",
        "plt.xlabel(\"Predicted Label\")\n",
        "plt.ylabel(\"True Label\")\n",
        "plt.show()"
      ],
      "metadata": {
        "id": "MSVVp6rG89bf"
      },
      "execution_count": null,
      "outputs": []
    },
    {
      "cell_type": "code",
      "source": [
        "#Rendimiento del modelo con Curva ROC y datos de testeo\n",
        "print(classification_report(y_test_KNN_2, etiquetas_predichas_4))"
      ],
      "metadata": {
        "id": "0Ytlf6C193-V"
      },
      "execution_count": null,
      "outputs": []
    },
    {
      "cell_type": "markdown",
      "source": [
        "Debido a la varianza, se descarta este modelo y no se ingresan los resultados del mismo con la curva ROC en los resultados finales."
      ],
      "metadata": {
        "id": "BO5g8nESATxd"
      }
    },
    {
      "cell_type": "markdown",
      "source": [
        "# **Tercer Modelo KNN**"
      ],
      "metadata": {
        "id": "KDDB6BG9C9nC"
      }
    },
    {
      "cell_type": "markdown",
      "source": [
        "Definición de las variables a utilizar"
      ],
      "metadata": {
        "id": "JOM-SY3mIST4"
      }
    },
    {
      "cell_type": "code",
      "source": [
        "x_mod_3 = seg_2024.drop([\"Poliza\", \"Seguro\", \"Edad\", \"Activo\" , \"Activo_Num\", \"Género_num\", \"Ingresos\", \"Categoría del Seguro\", \"Cat_Seg_num\"], axis=1)\n",
        "y_mod_3 = seg_2024[\"Cat_Seg_num\"]"
      ],
      "metadata": {
        "id": "B34l623FLcJp"
      },
      "execution_count": null,
      "outputs": []
    },
    {
      "cell_type": "code",
      "source": [
        "df_mod_3 = seg_2024.drop([\"Poliza\", \"Seguro\", \"Edad\", \"Activo\" , \"Activo_Num\", \"Género_num\", \"Ingresos\", \"Categoría del Seguro\"], axis=1)"
      ],
      "metadata": {
        "id": "beIFkn48M9HJ"
      },
      "execution_count": null,
      "outputs": []
    },
    {
      "cell_type": "code",
      "source": [
        "dict3 = {\"Bajos recursos\": 0, \"Recursos medios\": 1, \"Recursos altos\":2}"
      ],
      "metadata": {
        "id": "Nvw52x6qOASX"
      },
      "execution_count": null,
      "outputs": []
    },
    {
      "cell_type": "code",
      "source": [
        "x_mod_3[\"Franja etaria\"] = x_mod_3[\"Franja etaria\"].map(dict1)\n",
        "x_mod_3[\"Género\"] = x_mod_3[\"Género\"].map(dict2)\n",
        "x_mod_3[\"Categoría\"] = x_mod_3[\"Categoría\"].map(dict3)"
      ],
      "metadata": {
        "id": "jEPNu55NNzzJ"
      },
      "execution_count": null,
      "outputs": []
    },
    {
      "cell_type": "code",
      "source": [
        "df_mod_3[\"Franja etaria\"] = df_mod_3[\"Franja etaria\"].map(dict1)\n",
        "df_mod_3[\"Género\"] = df_mod_3[\"Género\"].map(dict2)\n",
        "df_mod_3[\"Categoría\"] = df_mod_3[\"Categoría\"].map(dict3)"
      ],
      "metadata": {
        "id": "l1jyC5aUOU0T"
      },
      "execution_count": null,
      "outputs": []
    },
    {
      "cell_type": "code",
      "source": [
        "# normalizar data para graficar\n",
        "X_scal_2 = df_mod_3.values\n",
        "sc.fit(X_scal_2)\n",
        "scalado2 = sc.transform(X_scal_2)"
      ],
      "metadata": {
        "id": "UrftUSYoNUeG"
      },
      "execution_count": null,
      "outputs": []
    },
    {
      "cell_type": "code",
      "source": [
        "model_2= KMeans()\n",
        "visualizer= KElbowVisualizer(model_2, k=(1,10))\n",
        "visualizer.fit(scalado2)\n",
        "visualizer.show()"
      ],
      "metadata": {
        "id": "5WII9bxUMxcb"
      },
      "execution_count": null,
      "outputs": []
    },
    {
      "cell_type": "code",
      "source": [
        "x_train_KNN_3, x_Test_KNN_3, y_train_KNN_3, y_test_KNN_3= train_test_split (x_mod_3, y_mod_3, test_size=0.3, random_state=42)"
      ],
      "metadata": {
        "id": "htyax71gMmDk"
      },
      "execution_count": null,
      "outputs": []
    },
    {
      "cell_type": "code",
      "source": [
        "#diseñar la silueta\n",
        "slc_2 = {}\n",
        "for k in range(2, 10):\n",
        "    kmeans = KMeans(n_clusters=k, max_iter=1000,random_state=42).fit(scalado2) # Algoritmo K means\n",
        "    clusters = kmeans.labels_ # Extraccion de labels\n",
        "    slc_2[k] = silhouette_score(scalado2,clusters) # Calculo del indice de Silhouette"
      ],
      "metadata": {
        "id": "aE-Bh76TOnG9"
      },
      "execution_count": null,
      "outputs": []
    },
    {
      "cell_type": "code",
      "source": [
        "plt.figure(figsize=(15,10))\n",
        "plt.plot(list(slc_2.keys()), list(slc_2.values()))\n",
        "plt.xlabel(\"Numero de clusters\")\n",
        "plt.ylabel(\"Score de Silhouette\")\n",
        "plt.show()"
      ],
      "metadata": {
        "id": "IED9_GCUPYEZ"
      },
      "execution_count": null,
      "outputs": []
    },
    {
      "cell_type": "code",
      "source": [
        "fig, ax = plt.subplots(2, 4, figsize=(15, 8))\n",
        "for i in range(2, 10):\n",
        "    km_2 = KMeans(n_clusters=i, init='random', n_init=10, max_iter=100, random_state=42)\n",
        "    q, mod = divmod(i-2, 4)\n",
        "    visualizer = SilhouetteVisualizer(km_2, colors='yellowbrick', ax=ax[q][mod])\n",
        "    visualizer.fit(X_scal_2)"
      ],
      "metadata": {
        "id": "bx7uXaAzPfRV"
      },
      "execution_count": null,
      "outputs": []
    },
    {
      "cell_type": "code",
      "source": [
        "pipe_KNN_3 = Pipeline([\n",
        "    ('scaler', StandardScaler()),\n",
        "    ('modelo', KNeighborsClassifier())\n",
        "])\n",
        "\n",
        "\n",
        "hiperp_KNN_3 = {'modelo__n_neighbors': (3,4,5,6),\n",
        "              'modelo__weights': ['uniform', 'distance'],\n",
        "                'modelo__metric': ['euclidean', 'manhattan', 'minkowski'],\n",
        "                'modelo__p': [1, 2, 3],\n",
        "             }\n",
        "\n",
        "\n",
        "S_kfold_3 = StratifiedKFold(n_splits=10, shuffle=True, random_state=42)\n",
        "\n",
        "grilla_KNN_3 = HalvingGridSearchCV(\n",
        "    estimator= pipe_KNN_3,\n",
        "    param_grid= hiperp_KNN_3,\n",
        "    factor=3,\n",
        "    cv=S_kfold_3,\n",
        "    scoring='precision',\n",
        "    aggressive_elimination=False,\n",
        "    n_jobs=-1,\n",
        "    verbose=3\n",
        ")\n",
        "\n",
        "grilla_KNN_3.fit(x_train_KNN_3, y_train_KNN_3)"
      ],
      "metadata": {
        "id": "jmyIEMKlQFsP"
      },
      "execution_count": null,
      "outputs": []
    },
    {
      "cell_type": "code",
      "source": [
        "modelo_KNN_3=grilla_KNN_3.best_estimator_\n",
        "modelo_KNN_3.fit(x_train_KNN_3, y_train_KNN_3)"
      ],
      "metadata": {
        "id": "sR8q753kUsld"
      },
      "execution_count": null,
      "outputs": []
    },
    {
      "cell_type": "code",
      "source": [
        "y_pred_test_KNN_3 = modelo_KNN_3.predict(x_Test_KNN_3)\n",
        "y_pred_train_KNN_3 = modelo_KNN_3.predict(x_train_KNN_3)"
      ],
      "metadata": {
        "id": "TWRswbMNVMe2"
      },
      "execution_count": null,
      "outputs": []
    },
    {
      "cell_type": "code",
      "source": [
        "# Reporte de clasificación con datos de train\n",
        "print(classification_report(y_train_KNN_3, y_pred_train_KNN_3))"
      ],
      "metadata": {
        "id": "iZ7rWJKLVlNZ"
      },
      "execution_count": null,
      "outputs": []
    },
    {
      "cell_type": "code",
      "source": [
        "# Reporte de clasificación con datos de testeo\n",
        "print(classification_report(y_test_KNN_3, y_pred_test_KNN_3))"
      ],
      "metadata": {
        "id": "7BDhvTgcVtHR"
      },
      "execution_count": null,
      "outputs": []
    },
    {
      "cell_type": "code",
      "source": [
        "cm_KNN_5 = confusion_matrix(y_test_KNN_3, y_pred_test_KNN_3)\n",
        "cm_KNN_6 = confusion_matrix(y_train_KNN_3, y_pred_train_KNN_3)"
      ],
      "metadata": {
        "id": "qqBt6RgvWCDU"
      },
      "execution_count": null,
      "outputs": []
    },
    {
      "cell_type": "code",
      "source": [
        "plt.figure(figsize=(6, 4))\n",
        "sns.heatmap(cm_KNN_6, annot=True, fmt=\"d\", cmap=\"Blues\")\n",
        "plt.title(\"Matriz de confusión con datos de Train\")\n",
        "plt.xlabel(\"Predicted Label\")\n",
        "plt.ylabel(\"True Label\")\n",
        "plt.show()"
      ],
      "metadata": {
        "id": "u84_HGjlWPoR"
      },
      "execution_count": null,
      "outputs": []
    },
    {
      "cell_type": "code",
      "source": [
        "plt.figure(figsize=(6, 4))\n",
        "sns.heatmap(cm_KNN_5, annot=True, fmt=\"d\", cmap=\"Blues\")\n",
        "plt.title(\"Matriz de confusión con datos de testeo\")\n",
        "plt.xlabel(\"Predicted Label\")\n",
        "plt.ylabel(\"True Label\")\n",
        "plt.show()"
      ],
      "metadata": {
        "id": "eXitXBtzWHmv"
      },
      "execution_count": null,
      "outputs": []
    },
    {
      "cell_type": "code",
      "source": [
        "# Obtener las probabilidades predichas en datos de train\n",
        "y_proba_KNN_5 = modelo_KNN_3.predict_proba(x_train_KNN_3)[:, 1]  # Solo clase positiva\n",
        "\n",
        "# Calcular FPR, TPR y thresholds\n",
        "fpr_5, tpr_5, umbrales_5 = roc_curve(y_train_KNN_3, y_proba_KNN_5)\n",
        "\n",
        "# Calcular AUC\n",
        "roc_auc_5 = auc(fpr_5, tpr_5)\n",
        "\n",
        "plt.figure(figsize=(8, 6))\n",
        "plt.plot(fpr_5, tpr_5, color='blue', lw=2, label=f'Curva ROC(AUC = {roc_auc_5:.2f})')\n",
        "plt.plot([0, 1], [0, 1], color='gray', linestyle='--')  # Línea de referencia\n",
        "plt.xlabel('Rango de Falsos Positivos (FPR)')\n",
        "plt.ylabel('Rango de Verdaderos Positivos (TPR)')\n",
        "plt.title('Curva ROC - Clasificación Binaria')\n",
        "plt.legend()\n",
        "plt.grid()\n",
        "plt.show()"
      ],
      "metadata": {
        "id": "32NqUIWdWXto"
      },
      "execution_count": null,
      "outputs": []
    },
    {
      "cell_type": "code",
      "source": [
        "youden_j_KNN3 = tpr_5 - fpr_5\n",
        "indice_optimo_KNN_3 = np.argmax(youden_j_KNN3)\n",
        "umbral_optimo_KNN_3 = umbrales_5[indice_optimo_KNN_3]\n",
        "print(\"Punto de corte óptimo:\", umbral_optimo_KNN_3)"
      ],
      "metadata": {
        "id": "TZGTimivs5Kp"
      },
      "execution_count": null,
      "outputs": []
    },
    {
      "cell_type": "code",
      "source": [
        "Datos_ROC_5 = pd.DataFrame(zip(fpr_5, tpr_5, umbrales_5), columns=[\"FPR\", \"TPR\", \"Umbrales\"])\n",
        "Datos_ROC_5.head()"
      ],
      "metadata": {
        "id": "Nj3TQnouXvB4"
      },
      "execution_count": null,
      "outputs": []
    },
    {
      "cell_type": "code",
      "source": [
        "#Umbral para convertir las probabilidades en etiquetas binarias\n",
        "umbral_5 = 0.75\n",
        "etiquetas_predichas_5 = (y_proba_KNN_5 >= umbral_5).astype(int)"
      ],
      "metadata": {
        "id": "dnSI1YNfX0Md"
      },
      "execution_count": null,
      "outputs": []
    },
    {
      "cell_type": "code",
      "source": [
        "cm_ROC_5 = confusion_matrix(y_train_KNN_3, etiquetas_predichas_5)"
      ],
      "metadata": {
        "id": "ObGAi4giX5l_"
      },
      "execution_count": null,
      "outputs": []
    },
    {
      "cell_type": "code",
      "source": [
        "plt.figure(figsize=(6, 4))\n",
        "sns.heatmap(cm_ROC_5, annot=True, fmt=\"d\", cmap=\"Blues\")\n",
        "plt.title(\"Matriz de confusión con datos de train y curva ROC\")\n",
        "plt.xlabel(\"Predicted Label\")\n",
        "plt.ylabel(\"True Label\")\n",
        "plt.show()\n"
      ],
      "metadata": {
        "id": "59ole8tjYA1M"
      },
      "execution_count": null,
      "outputs": []
    },
    {
      "cell_type": "code",
      "source": [
        "#Rendimiento del modelo con datos de train y curva ROC\n",
        "print(classification_report(y_train_KNN_3, etiquetas_predichas_5))"
      ],
      "metadata": {
        "id": "FD8rHY7kYGJC"
      },
      "execution_count": null,
      "outputs": []
    },
    {
      "cell_type": "code",
      "source": [
        "# Obtener las probabilidades predichas en datos de testeo\n",
        "y_proba_KNN_6 = modelo_KNN_3.predict_proba(x_Test_KNN_3)[:, 1]\n",
        "\n",
        "# Calcular FPR, TPR y thresholds\n",
        "fpr_6, tpr_6, umbrales_6 = roc_curve(y_test_KNN_3, y_proba_KNN_6)\n",
        "\n",
        "# Calcular AUC\n",
        "roc_auc_6 = auc(fpr_5, tpr_5)\n",
        "\n",
        "plt.figure(figsize=(8, 6))\n",
        "plt.plot(fpr_6, tpr_6, color='blue', lw=2, label=f'Curva ROC (AUC = {roc_auc_6:.2f})')\n",
        "plt.plot([0, 1], [0, 1], color='gray', linestyle='--')  # Línea de referencia\n",
        "plt.xlabel('Rango de Falsos Positivos (FPR)')\n",
        "plt.ylabel('Rango de Verdaderos Positivos (TPR)')\n",
        "plt.title('Curva ROC - Clasificación Binaria')\n",
        "plt.legend()\n",
        "plt.grid()\n",
        "plt.show()"
      ],
      "metadata": {
        "id": "6iMLikraW3v3"
      },
      "execution_count": null,
      "outputs": []
    },
    {
      "cell_type": "code",
      "source": [
        "youden_j_KNN4 = tpr_6 - fpr_6\n",
        "indice_optimo_KNN_4 = np.argmax(youden_j_KNN4)\n",
        "umbral_optimo_KNN_4 = umbrales_6[indice_optimo_KNN_4]\n",
        "print(\"Punto de corte óptimo:\", umbral_optimo_KNN_4)"
      ],
      "metadata": {
        "id": "uiovaQHVtgK3"
      },
      "execution_count": null,
      "outputs": []
    },
    {
      "cell_type": "code",
      "source": [
        "Datos_ROC_6 = pd.DataFrame(zip(fpr_6, tpr_6, umbrales_6), columns=[\"FPR\", \"TPR\", \"Umbrales\"])\n",
        "Datos_ROC_6.head()"
      ],
      "metadata": {
        "id": "ovItOtRZYa_B"
      },
      "execution_count": null,
      "outputs": []
    },
    {
      "cell_type": "code",
      "source": [
        "# Establecer un umbral para convertir las probabilidades en etiquetas binarias\n",
        "umbral_6 = 0.75\n",
        "etiquetas_predichas_6 = (y_proba_KNN_6 >= umbral_6).astype(int)"
      ],
      "metadata": {
        "id": "v5rpxzBJm2YD"
      },
      "execution_count": null,
      "outputs": []
    },
    {
      "cell_type": "code",
      "source": [
        "cm_ROC_6 = confusion_matrix(y_test_KNN_3, etiquetas_predichas_6)"
      ],
      "metadata": {
        "id": "o27pbg3em614"
      },
      "execution_count": null,
      "outputs": []
    },
    {
      "cell_type": "code",
      "source": [
        "plt.figure(figsize=(6, 4))\n",
        "sns.heatmap(cm_ROC_6, annot=True, fmt=\"d\", cmap=\"Blues\")\n",
        "plt.title(\"Matriz de confusión con datos de testeo y curva ROC\")\n",
        "plt.xlabel(\"Predicted Label\")\n",
        "plt.ylabel(\"True Label\")\n",
        "plt.show()"
      ],
      "metadata": {
        "id": "Z_gUAZgwnCWW"
      },
      "execution_count": null,
      "outputs": []
    },
    {
      "cell_type": "code",
      "source": [
        "#Rendimiento del modelo con curva ROC y datos de testeo\n",
        "print(classification_report(y_test_KNN_3, etiquetas_predichas_6))"
      ],
      "metadata": {
        "id": "4byuEV3fnFqQ"
      },
      "execution_count": null,
      "outputs": []
    },
    {
      "cell_type": "markdown",
      "source": [
        "#**Random Forest**"
      ],
      "metadata": {
        "id": "FRhAGHEBoIdF"
      }
    },
    {
      "cell_type": "code",
      "source": [
        "x_RF = x_mod_3\n",
        "y_RF = y_mod_3"
      ],
      "metadata": {
        "id": "ih8TnX-YoPxJ"
      },
      "execution_count": null,
      "outputs": []
    },
    {
      "cell_type": "code",
      "source": [
        "x_train_RF, x_Test_RF, y_train_RF, y_test_RF= train_test_split (x_RF, y_RF, test_size=0.3, random_state=42)"
      ],
      "metadata": {
        "id": "kWsBeUn5rsTa"
      },
      "execution_count": null,
      "outputs": []
    },
    {
      "cell_type": "code",
      "source": [
        "clf_rf = RandomForestClassifier()\n",
        "\n",
        "param_grid = {'n_estimators': [300,400],\n",
        "    'max_depth': [8,10],\n",
        "    'min_samples_split': [750,850],\n",
        "    'min_samples_leaf': [125,150,200]\n",
        "\n",
        "}\n",
        "\n",
        "\n",
        "S_kfold_4 = StratifiedKFold(n_splits=10, shuffle=True, random_state=42)\n",
        "\n",
        "RF_halving_cv = HalvingGridSearchCV(clf_rf, param_grid=param_grid, factor=3, min_resources=250, cv=S_kfold_4,  scoring='recall', n_jobs=-1, verbose=2)\n",
        "\n",
        "RF_halving_cv.fit(x_train_RF, y_train_RF)"
      ],
      "metadata": {
        "id": "i2c3FUpgpvkD"
      },
      "execution_count": null,
      "outputs": []
    },
    {
      "cell_type": "code",
      "source": [
        "modelo_RF= RF_halving_cv.best_estimator_\n",
        "modelo_RF.fit(x_train_RF, y_train_RF)"
      ],
      "metadata": {
        "id": "d39FXkcBLiGw"
      },
      "execution_count": null,
      "outputs": []
    },
    {
      "cell_type": "code",
      "source": [
        "#Resultados obtenidos\n",
        "scores = pd.DataFrame(RF_halving_cv.cv_results_)\n",
        "scores.sort_values(\"rank_test_score\").head()"
      ],
      "metadata": {
        "id": "-2xstdJdw_zF"
      },
      "execution_count": null,
      "outputs": []
    },
    {
      "cell_type": "code",
      "source": [
        "prediction1 = RF_halving_cv.predict(x_train_RF)\n",
        "prediction2 = RF_halving_cv.predict(x_Test_RF)"
      ],
      "metadata": {
        "id": "XUVzDyN3xE_V"
      },
      "execution_count": null,
      "outputs": []
    },
    {
      "cell_type": "code",
      "source": [
        "#Accuracy\n",
        "print('Exactitud:', accuracy_score(y_train_RF, prediction1))\n",
        "print('Exactitud:', accuracy_score(y_test_RF, prediction2))"
      ],
      "metadata": {
        "id": "01qpRbQXxbpi"
      },
      "execution_count": null,
      "outputs": []
    },
    {
      "cell_type": "code",
      "source": [
        "# Matriz de Confusion\n",
        "cm_rf_1 = confusion_matrix(y_train_RF,prediction1)\n",
        "cm_rf_2 = confusion_matrix(y_test_RF,prediction2)"
      ],
      "metadata": {
        "id": "amyOG9G7xvRB"
      },
      "execution_count": null,
      "outputs": []
    },
    {
      "cell_type": "code",
      "source": [
        "# usando heatmap\n",
        "plt.figure(figsize=(6, 4))\n",
        "sns.heatmap(cm_rf_1, annot=True, fmt=\"d\", cmap=\"Blues\")\n",
        "plt.title(\"Confusion Matrix\")\n",
        "plt.xlabel(\"Predicted Label\")\n",
        "plt.ylabel(\"True Label\")\n",
        "plt.show()"
      ],
      "metadata": {
        "id": "9Cz1M4x5x6Qz"
      },
      "execution_count": null,
      "outputs": []
    },
    {
      "cell_type": "code",
      "source": [
        "# usando heatmap\n",
        "plt.figure(figsize=(6, 4))\n",
        "sns.heatmap(cm_rf_2, annot=True, fmt=\"d\", cmap=\"Blues\")\n",
        "plt.title(\"Confusion Matrix\")\n",
        "plt.xlabel(\"Predicted Label\")\n",
        "plt.ylabel(\"True Label\")\n",
        "plt.show()"
      ],
      "metadata": {
        "id": "0d2oRZkzyRfI"
      },
      "execution_count": null,
      "outputs": []
    },
    {
      "cell_type": "code",
      "source": [
        "# Reporte de clasificación con datos de testeo\n",
        "print(\"Classification Report:\")\n",
        "print(classification_report(y_train_RF, prediction1))"
      ],
      "metadata": {
        "id": "4Io9STIKyVbY"
      },
      "execution_count": null,
      "outputs": []
    },
    {
      "cell_type": "code",
      "source": [
        "# Reporte de clasificación con datos de testeo\n",
        "print(\"Classification Report:\")\n",
        "print(classification_report(y_test_RF, prediction2))"
      ],
      "metadata": {
        "id": "3Fssz23Bys83"
      },
      "execution_count": null,
      "outputs": []
    },
    {
      "cell_type": "code",
      "source": [
        "# Obtener las probabilidades predichas en datos de train para la clase 1\n",
        "y_proba_RF = modelo_RF.predict_proba(x_train_RF)[:, 1]\n",
        "\n",
        "# Calcular FPR, TPR y thresholds\n",
        "fpr_RF, tpr_RF, umbrales_RF = roc_curve(y_train_RF, y_proba_RF)\n",
        "\n",
        "# Calcular AUC\n",
        "roc_auc_RF = auc(fpr_RF, tpr_RF)\n",
        "\n",
        "plt.figure(figsize=(8, 6))\n",
        "plt.plot(fpr_RF, tpr_RF, color='blue', lw=2, label=f'Curva ROC(AUC = {roc_auc_RF:.2f})')\n",
        "plt.plot([0, 1], [0, 1], color='black', linestyle='--')  # Línea de referencia\n",
        "plt.xlabel('Rango de Falsos Positivos (FPR)')\n",
        "plt.ylabel('Rango de Verdaderos Positivos (TPR)')\n",
        "plt.title('Curva ROC - Clasificación Binaria')\n",
        "plt.legend()\n",
        "plt.grid()\n",
        "plt.show()"
      ],
      "metadata": {
        "id": "UIOEWW3tKeeg"
      },
      "execution_count": null,
      "outputs": []
    },
    {
      "cell_type": "code",
      "source": [
        "youden_j_RF = tpr_RF - fpr_RF\n",
        "indice_optimo_RF = np.argmax(youden_j_RF)\n",
        "umbral_optimo_RF = umbrales_RF[indice_optimo_RF]\n",
        "print(\"Punto de corte óptimo:\", umbral_optimo_RF)"
      ],
      "metadata": {
        "id": "Ai6O9WahTjfN"
      },
      "execution_count": null,
      "outputs": []
    },
    {
      "cell_type": "code",
      "source": [
        "#Umbral para convertir las probabilidades en etiquetas binarias\n",
        "umbral_RF = 0.7550972338398136\n",
        "etiquetas_predichas_RF = (y_proba_RF >= umbral_optimo_RF).astype(int)"
      ],
      "metadata": {
        "id": "5b5ea00AX36u"
      },
      "execution_count": null,
      "outputs": []
    },
    {
      "cell_type": "code",
      "source": [
        "cm_ROC_RF = confusion_matrix(y_train_RF, etiquetas_predichas_RF)\n",
        "\n",
        "plt.figure(figsize=(6, 4))\n",
        "sns.heatmap(cm_ROC_RF, annot=True, fmt=\"d\", cmap=\"Blues\")\n",
        "plt.title(\"Matriz de confusión con datos de train y curva ROC\")\n",
        "plt.xlabel(\"Predicted Label\")\n",
        "plt.ylabel(\"True Label\")\n",
        "plt.show()"
      ],
      "metadata": {
        "id": "qemdz8zLNad0"
      },
      "execution_count": null,
      "outputs": []
    },
    {
      "cell_type": "code",
      "source": [
        "#Rendimiento del modelo con datos de train y curva ROC\n",
        "print(classification_report(y_train_RF, etiquetas_predichas_RF))"
      ],
      "metadata": {
        "id": "2dFGuZneNieV"
      },
      "execution_count": null,
      "outputs": []
    },
    {
      "cell_type": "code",
      "source": [
        "# Obtener las probabilidades predichas en datos de test para la clase 1\n",
        "y_proba_RF_2 = modelo_RF.predict_proba(x_Test_RF)[:, 1]\n",
        "\n",
        "# Calcular FPR, TPR y thresholds\n",
        "fpr_RF_2, tpr_RF_2, umbrales_RF_2 = roc_curve(y_test_RF, y_proba_RF_2)\n",
        "\n",
        "# Calcular AUC\n",
        "roc_auc_RF_2 = auc(fpr_RF_2, tpr_RF_2)\n",
        "\n",
        "plt.figure(figsize=(8, 6))\n",
        "plt.plot(fpr_RF_2, tpr_RF_2, color='blue', lw=2, label=f'Curva ROC(AUC = {roc_auc_RF_2:.2f})')\n",
        "plt.plot([0, 1], [0, 1], color='black', linestyle='--')  # Línea de referencia\n",
        "plt.xlabel('Rango de Falsos Positivos (FPR)')\n",
        "plt.ylabel('Rango de Verdaderos Positivos (TPR)')\n",
        "plt.title('Curva ROC - Clasificación Binaria')\n",
        "plt.legend()\n",
        "plt.grid()\n",
        "plt.show()\n"
      ],
      "metadata": {
        "id": "mdjp3_cgPBLj"
      },
      "execution_count": null,
      "outputs": []
    },
    {
      "cell_type": "code",
      "source": [
        "youden_j_RF_2 = tpr_RF_2 - fpr_RF_2\n",
        "indice_optimo_RF_2 = np.argmax(youden_j_RF_2)\n",
        "umbral_optimo_RF_2 = umbrales_RF_2[indice_optimo_RF]\n",
        "print(\"Punto de corte óptimo:\", umbral_optimo_RF_2)"
      ],
      "metadata": {
        "id": "oeCntOuQURyx"
      },
      "execution_count": null,
      "outputs": []
    },
    {
      "cell_type": "code",
      "source": [
        "#Umbral para convertir las probabilidades en etiquetas binarias\n",
        "umbral_RF_2 = 0.7550972338398136\n",
        "etiquetas_predichas_RF_2 = (y_proba_RF_2 >= umbral_RF_2).astype(int)"
      ],
      "metadata": {
        "id": "svUD72cKQr1W"
      },
      "execution_count": null,
      "outputs": []
    },
    {
      "cell_type": "code",
      "source": [
        "cm_ROC_RF_2 = confusion_matrix(y_test_RF, etiquetas_predichas_RF_2)\n",
        "\n",
        "plt.figure(figsize=(6, 4))\n",
        "sns.heatmap(cm_ROC_RF_2, annot=True, fmt=\"d\", cmap=\"Blues\")\n",
        "plt.title(\"Matriz de confusión con datos de train y curva ROC\")\n",
        "plt.xlabel(\"Predicted Label\")\n",
        "plt.ylabel(\"True Label\")\n",
        "plt.show()"
      ],
      "metadata": {
        "id": "d42VrswwRE5J"
      },
      "execution_count": null,
      "outputs": []
    },
    {
      "cell_type": "code",
      "source": [
        "#Rendimiento del modelo con datos de testeo y curva ROC\n",
        "print(classification_report(y_test_RF, etiquetas_predichas_RF_2))"
      ],
      "metadata": {
        "id": "0CaqT07YRSFG"
      },
      "execution_count": null,
      "outputs": []
    },
    {
      "cell_type": "markdown",
      "source": [
        "# **XGBClassifier**"
      ],
      "metadata": {
        "id": "zHpFP9kZJaNp"
      }
    },
    {
      "cell_type": "code",
      "source": [
        "!pip install xgboost"
      ],
      "metadata": {
        "id": "m3v32_F0PXLc"
      },
      "execution_count": null,
      "outputs": []
    },
    {
      "cell_type": "code",
      "source": [
        "from sklearn.tree import DecisionTreeClassifier\n",
        "import xgboost as xgb"
      ],
      "metadata": {
        "id": "ZAFUMq0YNjiX"
      },
      "execution_count": null,
      "outputs": []
    },
    {
      "cell_type": "code",
      "source": [
        "x_XGB = x_mod_3\n",
        "y_XGB = y_mod_3"
      ],
      "metadata": {
        "id": "oAVQRnGgMvuP"
      },
      "execution_count": null,
      "outputs": []
    },
    {
      "cell_type": "code",
      "source": [
        "X_train_XGB_1, X_test_XGB_1, y_train_XGB_1, y_test_XGB_1 = train_test_split(x_XGB, y_XGB, test_size = 0.2, random_state=42)"
      ],
      "metadata": {
        "id": "mUMjDFuIOSL6"
      },
      "execution_count": null,
      "outputs": []
    },
    {
      "cell_type": "code",
      "source": [
        "clf_tree = DecisionTreeClassifier()\n",
        "clf_xgb = xgb.XGBClassifier()"
      ],
      "metadata": {
        "id": "dIj9UOB5M62-"
      },
      "execution_count": null,
      "outputs": []
    },
    {
      "cell_type": "code",
      "source": [
        "param_grid = {\n",
        "    'max_depth': [15, 17, 20, 22],\n",
        "    'min_samples_split': [250, 350, 400],\n",
        "    'min_samples_leaf': [500, 575]\n",
        "}\n",
        "\n",
        "S_kfold_5 = StratifiedKFold(n_splits=10, shuffle=True, random_state=42)\n",
        "\n",
        "clf_tree_cv = RandomizedSearchCV(\n",
        "    clf_tree,\n",
        "    param_distributions=param_grid,  # este es el nombre correcto para RandomizedSearchCV\n",
        "    cv=S_kfold_5,\n",
        "    scoring='precision',\n",
        "    n_jobs=-1,\n",
        "    verbose=3\n",
        ")\n",
        "\n",
        "clf_tree_cv.fit(X_train_XGB_1, y_train_XGB_1)\n"
      ],
      "metadata": {
        "id": "Q6A7Yk1tNlKL"
      },
      "execution_count": null,
      "outputs": []
    },
    {
      "cell_type": "code",
      "source": [
        "y_train_pred_XGB_1 = clf_tree_cv.predict(X_train_XGB_1) #Prediccion en Train\n",
        "y_test_pred_XGB_1 = clf_tree_cv.predict(X_test_XGB_1) #Prediccion en Test\n",
        "# Calcular la precisión\n",
        "accuracy_tree = accuracy_score(y_test_XGB_1, y_test_pred_XGB_1)\n",
        "print('DecisionTree Model accuracy score: {0:0.3f}'.format(accuracy_tree))"
      ],
      "metadata": {
        "id": "jQuaNfQTOp_3"
      },
      "execution_count": null,
      "outputs": []
    },
    {
      "cell_type": "code",
      "source": [
        "# Reporte de clasificación con datos de train\n",
        "print(\"Classification Report:\")\n",
        "print(classification_report(y_train_XGB_1, y_train_pred_XGB_1))"
      ],
      "metadata": {
        "id": "B7RkYDFhvXOM"
      },
      "execution_count": null,
      "outputs": []
    },
    {
      "cell_type": "code",
      "source": [
        "# Reporte de clasificación con datos de testeo\n",
        "print(\"Classification Report:\")\n",
        "print(classification_report(y_test_XGB_1, y_test_pred_XGB_1))"
      ],
      "metadata": {
        "id": "R2GKz7VEvTnz"
      },
      "execution_count": null,
      "outputs": []
    },
    {
      "cell_type": "code",
      "source": [
        "param_grid = {\n",
        "    'n_estimators': (450,600),  # Número de árboles en el bosque\n",
        "    'max_depth': [24],  # Profundidad máxima de cada árbol\n",
        "    'min_samples_split': [300,400],  # Número mínimo de muestras requeridas para dividir un nodo interno\n",
        "    'min_samples_leaf': [575],  # Número mínimo de muestras requeridas en cada hoja del árbol\n",
        "    'gamma': np.arange(10,50,10),\n",
        "    'alpha': np.arange(0.1,1,0.1)\n",
        "}\n",
        "\n",
        "S_kfold_6 = StratifiedKFold(n_splits=10, shuffle=True, random_state=42)\n",
        "\n",
        "clf_xgb_cv = HalvingGridSearchCV(clf_xgb, param_grid=param_grid, cv=S_kfold_6, min_resources=650, scoring= \"accuracy\", refit='precision', n_jobs=-1, verbose=2)\n",
        "\n",
        "clf_xgb_cv.fit(X_train_XGB_1, y_train_XGB_1)"
      ],
      "metadata": {
        "id": "LhYJSoUFPM99"
      },
      "execution_count": null,
      "outputs": []
    },
    {
      "cell_type": "code",
      "source": [
        "XGB_model = clf_xgb_cv.best_estimator_\n",
        "XGB_model.fit(X_train_XGB_1, y_train_XGB_1)"
      ],
      "metadata": {
        "id": "0mG62VezbQyW"
      },
      "execution_count": null,
      "outputs": []
    },
    {
      "cell_type": "code",
      "source": [
        "y_train_pred_XGB_2 = clf_xgb_cv.predict(X_train_XGB_1) #Prediccion en Train\n",
        "y_test_pred_XGB_2= clf_xgb_cv.predict(X_test_XGB_1) #Prediccion en Test\n",
        "# Calcular la precisión\n",
        "accuracy_XGBoost = accuracy_score(y_test_XGB_1, y_test_pred_XGB_2)\n",
        "print('XGBoost Model precision score: {0:0.3f}'.format(accuracy_XGBoost ))"
      ],
      "metadata": {
        "id": "9_cfQ1KwSv8w"
      },
      "execution_count": null,
      "outputs": []
    },
    {
      "cell_type": "code",
      "source": [
        "# Obtener los scores de todas las combinaciones de parámetros\n",
        "results = clf_xgb_cv.cv_results_\n",
        "results\n",
        "\n",
        "# guardemos lo más importante dentro de un dataframe\n",
        "df_clf_xgb_cv = pd.DataFrame(results)\n",
        "\n",
        "df_clf_xgb_cv[\"Accuracy total del XGBoost\"]=accuracy_XGBoost\n",
        "\n",
        "df_clf_xgb_cv = df_clf_xgb_cv[['mean_train_score', 'mean_test_score',  \"Accuracy total del XGBoost\" ,'params']]\n",
        "df_clf_xgb_cv= df_clf_xgb_cv.round(3).sort_values(\"mean_test_score\", ascending=False)[:1]\n",
        "\n",
        "df_clf_xgb_cv"
      ],
      "metadata": {
        "id": "cLLuP7OYS89n"
      },
      "execution_count": null,
      "outputs": []
    },
    {
      "cell_type": "code",
      "source": [
        "# Reporte de clasificación con datos de train\n",
        "print(\"Classification Report:\")\n",
        "print(classification_report(y_train_XGB_1, y_train_pred_XGB_2))"
      ],
      "metadata": {
        "id": "QGn86Ps8TMoG"
      },
      "execution_count": null,
      "outputs": []
    },
    {
      "cell_type": "code",
      "source": [
        "# Reporte de clasificación con datos de testeo\n",
        "print(\"Classification Report:\")\n",
        "print(classification_report(y_test_XGB_1, y_test_pred_XGB_2))"
      ],
      "metadata": {
        "id": "W7gmoFHXTC5e"
      },
      "execution_count": null,
      "outputs": []
    },
    {
      "cell_type": "markdown",
      "source": [
        "# **Comparación de resultados**"
      ],
      "metadata": {
        "id": "T-69WydX0v7K"
      }
    },
    {
      "cell_type": "code",
      "source": [
        "#predicción de datos de Entrenamiento\n",
        "precision_KNN_1_train= precision_score(y_train_KNN, y_pred_train_KNN_1)\n",
        "precision_KNN_1_train_ROC= precision_score(y_train_KNN, etiquetas_predichas_1)\n",
        "precision_KNN_2_train = precision_score(y_train_KNN_2, etiquetas_predichas_3)\n",
        "precision_KNN_3_train= precision_score(y_train_KNN_3, y_pred_train_KNN_3)\n",
        "precision_KNN_3_train_ROC = precision_score(y_train_KNN_3, etiquetas_predichas_5)\n",
        "precision_RF_train = precision_score(y_train_RF, prediction1)\n",
        "precision_RF_ROC = precision_score(y_train_RF, etiquetas_predichas_RF)\n",
        "precision_XGB_train = precision_score(y_train_XGB_1, y_train_pred_XGB_2)\n",
        "accuracy_KNN_1_train= accuracy_score(y_train_KNN, y_pred_train_KNN_1)\n",
        "accuracy_KNN_1_train_ROC = accuracy_score(y_train_KNN, etiquetas_predichas_1)\n",
        "accuracy_KNN_2_train = accuracy_score(y_train_KNN_2, etiquetas_predichas_3)\n",
        "accuracy_KNN_3_train = accuracy_score(y_train_KNN_3, y_pred_train_KNN_3)\n",
        "accuracy_KNN_3_train_ROC = accuracy_score(y_train_KNN_3, etiquetas_predichas_5)\n",
        "accuracy_RF_train = accuracy_score(y_train_RF, prediction1)\n",
        "accuracy_RF_ROC = accuracy_score(y_train_RF, etiquetas_predichas_RF)\n",
        "accuracy_XGB_train = accuracy_score(y_train_XGB_1, y_train_pred_XGB_2)\n",
        "recall_KNN_1_train= recall_score(y_train_KNN, y_pred_train_KNN_1)\n",
        "recall__KNN_1_train_ROC= recall_score(y_train_KNN, etiquetas_predichas_1)\n",
        "recall__KNN_2_train = recall_score(y_train_KNN_2, etiquetas_predichas_3)\n",
        "recall__KNN_3_train = recall_score(y_train_KNN_3, y_pred_train_KNN_3)\n",
        "recall__KNN_3_train_ROC = recall_score(y_train_KNN_3, etiquetas_predichas_5)\n",
        "recall__RF_train = recall_score(y_train_RF, prediction1)\n",
        "recall_RF_ROC = recall_score(y_train_RF, etiquetas_predichas_RF)\n",
        "recall__XGB_train = recall_score(y_train_XGB_1, y_train_pred_XGB_2)\n",
        "\n",
        "Precisión_Train = pd.DataFrame([precision_KNN_1_train, precision_KNN_1_train_ROC, precision_KNN_2_train, precision_KNN_3_train, precision_KNN_3_train_ROC,precision_RF_train, precision_RF_ROC, precision_XGB_train], columns=[\"Precisión de train\"])\n",
        "Precisión_Train[\"Modelo\"] = ([\"KNN 1\", \"KNN 1 con curva ROC\", \"KNN 2 con curva ROC\", \"KNN 3\" ,\"KNN 3 con curva ROC\", \"Random Forest\", \"Random Forest con Curva ROC\", \"XGB\"])\n",
        "Precisión_Train[\"Accuracy de train\"]= ([accuracy_KNN_1_train, accuracy_KNN_1_train_ROC, accuracy_KNN_2_train, accuracy_KNN_3_train,accuracy_KNN_3_train_ROC, accuracy_RF_train,accuracy_RF_ROC, accuracy_XGB_train])\n",
        "Precisión_Train[\"Recall de train\"]= ([recall_KNN_1_train,recall__KNN_1_train_ROC, recall__KNN_2_train, recall__KNN_3_train,recall__KNN_3_train_ROC, recall__RF_train,recall_RF_ROC, recall__XGB_train])\n",
        "Precisión_Train.set_index(\"Modelo\", inplace=True)\n",
        "Precisión_Train.sort_values(\"Precisión de train\", ascending=False)"
      ],
      "metadata": {
        "id": "3kcLxkl59IBt"
      },
      "execution_count": null,
      "outputs": []
    },
    {
      "cell_type": "code",
      "source": [
        "#predicción de datos de testeo\n",
        "precision_KNN_1_test= precision_score(y_test_KNN, y_pred_test_KNN_1)\n",
        "precision_KNN_1_test_ROC= precision_score(y_test_KNN, etiquetas_predichas_2)\n",
        "precision_KNN_2_test = precision_score(y_test_KNN_2, etiquetas_predichas_4)\n",
        "precision_KNN_3_test = precision_score(y_test_KNN_3, y_pred_test_KNN_3)\n",
        "precision_KNN_3_test_ROC = precision_score(y_test_KNN_3, etiquetas_predichas_6)\n",
        "precision_RF_test = precision_score(y_test_RF, prediction2)\n",
        "precision_RF_ROC_test = precision_score(y_test_RF, etiquetas_predichas_RF_2)\n",
        "precision_XGB_test = precision_score(y_test_XGB_1, y_test_pred_XGB_2)\n",
        "accuracy_KNN_1_test= accuracy_score(y_test_KNN, y_pred_test_KNN_1)\n",
        "accuracy_KNN_1_test_ROC = accuracy_score(y_test_KNN, etiquetas_predichas_2)\n",
        "accuracy_KNN_2_test = accuracy_score(y_test_KNN_2, etiquetas_predichas_4)\n",
        "accuracy_KNN_3_test = accuracy_score(y_test_KNN_3, y_pred_test_KNN_3)\n",
        "accuracy_KNN_3_test_ROC = accuracy_score(y_test_KNN_3, etiquetas_predichas_6)\n",
        "accuracy_RF_test = accuracy_score(y_test_RF, prediction2)\n",
        "accuracy_RF_ROC_test = accuracy_score(y_test_RF, etiquetas_predichas_RF_2)\n",
        "accuracy_XGB_test = accuracy_score(y_test_XGB_1, y_test_pred_XGB_2)\n",
        "recall_KNN_1_test= recall_score(y_test_KNN, y_pred_test_KNN_1)\n",
        "recall__KNN_1_test_ROC = recall_score(y_test_KNN, etiquetas_predichas_2)\n",
        "recall__KNN_2_test = recall_score(y_test_KNN_2, etiquetas_predichas_4)\n",
        "recall__KNN_3_test = recall_score(y_test_KNN_3, y_pred_test_KNN_3)\n",
        "recall__KNN_3_test_ROC = recall_score(y_test_KNN_3, etiquetas_predichas_6)\n",
        "recall__RF_test = recall_score(y_test_RF, prediction2)\n",
        "recall_RF_ROC_test = recall_score(y_test_RF, etiquetas_predichas_RF_2)\n",
        "recall__XGB_test = recall_score(y_test_XGB_1, y_test_pred_XGB_2)\n",
        "\n",
        "Precisión_Test = pd.DataFrame([precision_KNN_1_test, precision_KNN_1_test_ROC, precision_KNN_2_test, precision_KNN_3_test,precision_KNN_3_test_ROC, precision_RF_test, precision_RF_ROC_test, precision_RF_test], columns=[\"Precisión de testeo\"])\n",
        "Precisión_Test[\"Accuracy de testeo\"]= ([accuracy_KNN_1_test, accuracy_KNN_1_test_ROC, accuracy_KNN_2_test, accuracy_KNN_3_test,accuracy_KNN_3_test_ROC, accuracy_RF_test, accuracy_RF_ROC_test, accuracy_XGB_test])\n",
        "Precisión_Test[\"Modelo\"] = ([\"KNN 1\", \"KNN 1 con Curva ROC\", \"KNN 2 con Curva ROC\", \"KNN 3\", \"KNN 3 con Curva ROC\", \"Random Forest\", \"Random Forest con Curva ROC\", \"XGB\"])\n",
        "Precisión_Test[\"Recall de testeo\"]= ([recall_KNN_1_test, recall__KNN_1_train_ROC, recall__KNN_2_test, recall__KNN_3_test,recall__KNN_3_test_ROC, recall__RF_test,recall_RF_ROC_test, recall__XGB_test])\n",
        "Precisión_Test.set_index(\"Modelo\", inplace=True)\n",
        "Precisión_Test.sort_values(\"Precisión de testeo\", ascending=False)"
      ],
      "metadata": {
        "id": "2PD3Qji29MhU"
      },
      "execution_count": null,
      "outputs": []
    },
    {
      "cell_type": "markdown",
      "source": [
        "# **Prueba Lazy**"
      ],
      "metadata": {
        "id": "zktvF6YrFbqV"
      }
    },
    {
      "cell_type": "markdown",
      "source": [
        "En este apartado hay una prueba hecha con la libreria Lazy, para que se pueda echar una mirada rápida sobre los posibles resultados que se podrían haber obtenido con los datos aqui utilizados, realizada con las variables utilizadas en el el tercer, cuarto y quinto modelo."
      ],
      "metadata": {
        "id": "1dwA6kQTzlH0"
      }
    },
    {
      "cell_type": "code",
      "source": [
        "pip install lazypredict"
      ],
      "metadata": {
        "id": "LxmE2hPQFvj0"
      },
      "execution_count": null,
      "outputs": []
    },
    {
      "cell_type": "code",
      "source": [
        "import lazypredict\n",
        "from lazypredict.Supervised import LazyClassifier"
      ],
      "metadata": {
        "id": "GJcMShzqFhQC"
      },
      "execution_count": null,
      "outputs": []
    },
    {
      "cell_type": "code",
      "source": [
        "x_train_lazy, x_Test_lazy, y_train_lazy, y_test_lazy= train_test_split (x_mod_3, y_mod_3, test_size=0.3, random_state=42)"
      ],
      "metadata": {
        "id": "xVfjCG_1Rgz-"
      },
      "execution_count": null,
      "outputs": []
    },
    {
      "cell_type": "code",
      "source": [
        "lazy_Clf= LazyClassifier(verbose=0,\n",
        "ignore_warnings=True,\n",
        "custom_metric=None)\n",
        "\n",
        "models, predictions = lazy_Clf.fit(x_train_lazy, x_Test_lazy, y_train_lazy, y_test_lazy)\n",
        "\n",
        "models"
      ],
      "metadata": {
        "id": "ZuHTpPs9GB0a"
      },
      "execution_count": null,
      "outputs": []
    },
    {
      "cell_type": "markdown",
      "source": [
        "# **Conclusión**"
      ],
      "metadata": {
        "id": "MoAFGUiMEdVB"
      }
    },
    {
      "cell_type": "markdown",
      "source": [
        "Observando los **resultados del primer modelo**, podemos apreciar una **varianza importante**, debido al mayor ajuste que existe entre el algoritmo y los datos de entrenamiento.\n",
        "Es así que podemos ver que si la precisión del primer modelo de KNN en los datos de entrenamiento es de 0.86, en los datos de testeo retrocede a 0.77\n",
        "Algo similar sucede con la métrica de Accuracy, que retrocede de 0.76 a 0.70\n",
        "**Esto no se soluciona cuando se le aplica la Curva ROC**, que si bien logra hacer descender los valores de los datos de entrenamiento, sucede lo mismo con los datos de testeo, evidenciando entonces cierta varianza en los datos.\n",
        "\n",
        "\n",
        "**En el segundo modelado, al cual se le aplica la curva ROC, sucede algo similar**, existiendo una varianza relevante entre los datos de entrenamiento y los datos de testeo.\n",
        "Adicionalmente, los datos de testeo brindan metricas bajas, alcanzando la metrica de precisión un 0.59 y la que mide el Accuracy un 0.65\n",
        "**Estos datos indican la necesidad de descartar tanto al primer como al segundo modelo**.\n",
        "\n",
        "\n",
        "\n",
        "**El tercer modelo, donde se cambio una de las variables, detenta una mejora con respecto a los dos modelos anteriores** e incluso tiene mejores metricas que las indicadas en la prueba de la libreria Lazy.\n",
        "**En este modelo la varianza es baja y el sesgo es relativamente bajo**, siendo la precisión de 0.84 en los datos de entrenamiento y 0.85 en los datos de testeo.\n",
        "**Cuando se le aplica a este modelo la curva ROC, sube la metrica de precisión a un 0.90, pero desciende el accuracy a un 0.24 y el recall desciende por debajo de 0.30** tanto en los datos de testeo como en los datos de entrenamiento.\n",
        "Este modelo, si bien es relativamente menos eficiente que el Random Forest y el XGB Classifier, sin embargo no se encuentra tan alejado de las metricas que esos otros dos modelos alcanzaron.\n",
        "\n",
        "\n",
        "\n",
        "**El cuarto modelo, el Random Forest logra alcanzar una buena metrica de precisión** (0.91 y 0.92 en datos de train y de test), así como **no se ve una varianza relevante entre los diferentes datos**.\n",
        "Ahora bien, **la desventaja de este modelo es que el accuracy no es demasiado elevado** (siendo de 0.72). **Si bien tiene el accuracy más alto de todos los modelos**, evidentemente este modelo tiene sus fallos.\n",
        "**Adicionalmente, el recall de este modelo es bastante bajo** si se lo compara con los dos primeros modelos de KNN, teniendo un recall por debajo de 0.50. **Tener esta metrica tan baja podría implicar perder la oportunidad de venderle seguros de alto valor a clientes que quizás lo adquirirían** si se los ofreciera.\n",
        "Al aplicarsele a este modelo la Curva ROC, no se advierten diferencias.\n",
        "\n",
        "\n",
        "\n",
        "\n",
        "**El quinto y último modelo, ensamblado con XGB Classifier, tiene cáracteristicas identicas a Random Forest**, no habiendose logrado obtener mejores metricas que las obtenidas por el cuarto modelo.\n",
        "\n",
        "\n",
        "\n",
        "Recapitulando, **se puede hacer tres recomendaciones**:\n",
        "\n",
        "\n",
        "\n",
        "1.   **Podría este negocio comenzar utilizando el modelo de Random Forest o de XGBClassifier como primer paso**, debido a que no se cuenta con un modelo actualmente.\n",
        "\n",
        "2.  **Podría intentarse en un nuevo trabajo un algoritmo de MCA para intentar obtener variables que puedan crear grupos de personas más precisos**, con el objetivo de mejorar las metricas de estos modelos.\n",
        "\n",
        "3.  **Se deberían adquirir más datos de los clientes**, como la ubicación geografica y el tipo de empleo, para intentar conformar grupos más precisos. Además, una mayor cantidad de datos podría aportar a mejorar las metricas de estos algoritmos\n",
        "\n",
        "\n",
        "Si bien, con el analisis de datos exploratorio y los coeficientes estadisticos **podemos confirmar la hipotesis según la cual los clientes de mayores ingresos tienden a contratar en mayor medida a los seguros de mayor valor, no se ha podido encontrar un claro modelo para subdividir el tipo de seguro que se le puede ofrecer a los clientes según sus ingresos**. Si bien se han logrado modelos con una buena precisión en lo que refiere a seguros de alto valor, quedaría aún alcanzar una mayor precisión sobre los seguros particulares de alto valor que podrían ofrecerse.\n",
        "\n",
        "Adicionalmente, **habría que encontrar modelos que pudiesen mejorar su recall** (y con ello, el accuracy global), dado que de lo contrario **se pierden oportunidades de venta de seguros de alto valor**, lo cual se traduce en una menor ganancia para el negocio."
      ],
      "metadata": {
        "id": "3L0Q1TLwEh-d"
      }
    }
  ],
  "metadata": {
    "colab": {
      "collapsed_sections": [
        "lKLdzeRJ0064",
        "Hn_hcWiL1IRh",
        "cvsbI--91c1v",
        "ClGkO9VT1oZ4",
        "QsOC-3wI2AN4",
        "Ne-pOvOu2gNW",
        "HYeWHslrfI9H",
        "hyOx8C7jGZ93",
        "WJ5gBgfbBc0w",
        "KDDB6BG9C9nC",
        "zHpFP9kZJaNp",
        "zktvF6YrFbqV"
      ],
      "toc_visible": true,
      "provenance": [],
      "authorship_tag": "ABX9TyOmBK3f0ZrWjDCwC2kcqbEI",
      "include_colab_link": true
    },
    "kernelspec": {
      "display_name": "Python 3",
      "name": "python3"
    },
    "language_info": {
      "name": "python"
    }
  },
  "nbformat": 4,
  "nbformat_minor": 0
}